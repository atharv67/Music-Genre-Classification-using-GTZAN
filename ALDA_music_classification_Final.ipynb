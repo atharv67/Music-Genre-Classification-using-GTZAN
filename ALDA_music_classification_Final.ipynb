{
  "cells": [
    {
      "cell_type": "code",
      "execution_count": 1,
      "metadata": {
        "id": "Wpy141viFirn",
        "colab": {
          "base_uri": "https://localhost:8080/"
        },
        "outputId": "56d7e92b-ee57-4705-f05c-f88ba86de8b3"
      },
      "outputs": [
        {
          "output_type": "stream",
          "name": "stdout",
          "text": [
            "Looking in indexes: https://pypi.org/simple, https://us-python.pkg.dev/colab-wheels/public/simple/\n",
            "Collecting python_speech_features\n",
            "  Downloading python_speech_features-0.6.tar.gz (5.6 kB)\n",
            "  Preparing metadata (setup.py) ... \u001b[?25l\u001b[?25hdone\n",
            "Building wheels for collected packages: python_speech_features\n",
            "  Building wheel for python_speech_features (setup.py) ... \u001b[?25l\u001b[?25hdone\n",
            "  Created wheel for python_speech_features: filename=python_speech_features-0.6-py3-none-any.whl size=5886 sha256=f5fb47b9a673229f290ac5226db1e7bc9f25aecfbad1bb2cb744b95c3b957223\n",
            "  Stored in directory: /root/.cache/pip/wheels/09/a1/04/08e2688d2562d8f9ff89e77c6ddfbf7268e07dae1a6f22455e\n",
            "Successfully built python_speech_features\n",
            "Installing collected packages: python_speech_features\n",
            "Successfully installed python_speech_features-0.6\n"
          ]
        }
      ],
      "source": [
        "!pip install python_speech_features"
      ]
    },
    {
      "cell_type": "code",
      "execution_count": 2,
      "metadata": {
        "id": "SBvCQzCAKrOU"
      },
      "outputs": [],
      "source": [
        "import os\n",
        "import librosa\n",
        "import numpy as np\n",
        "from sklearn.neighbors import KNeighborsClassifier\n",
        "import scipy.io.wavfile as wav\n",
        "from tempfile import TemporaryFile\n",
        "from sklearn.model_selection import train_test_split\n",
        "from python_speech_features import mfcc\n",
        "import random\n",
        "import matplotlib.pyplot as plt\n",
        "import seaborn as sns\n",
        "import operator\n",
        "import pandas as pd\n",
        "import tensorflow as tf\n",
        "import pickle\n",
        "import math\n",
        "from tensorflow import keras\n",
        "import scipy\n",
        "from google.colab import drive\n",
        "from collections import Counter\n",
        "import json\n",
        "import heapq\n",
        "import re\n",
        "from sklearn.metrics import f1_score\n",
        "from sklearn.metrics import accuracy_score\n",
        "import collections"
      ]
    },
    {
      "cell_type": "code",
      "execution_count": 3,
      "metadata": {
        "colab": {
          "base_uri": "https://localhost:8080/"
        },
        "id": "DazjcJU7eaDw",
        "outputId": "42136677-f78a-4c40-e70e-bfa7d1bf299d"
      },
      "outputs": [
        {
          "output_type": "stream",
          "name": "stdout",
          "text": [
            "Mounted at /content/drive\n"
          ]
        }
      ],
      "source": [
        "drive.mount('/content/drive',force_remount=True)\n",
        "data_set = \"/content/drive/MyDrive/Data/\""
      ]
    },
    {
      "cell_type": "code",
      "execution_count": 8,
      "metadata": {
        "colab": {
          "base_uri": "https://localhost:8080/"
        },
        "id": "V1lZIweitdeB",
        "outputId": "ac4f7102-d82f-4abc-8191-de88a4d27b08"
      },
      "outputs": [
        {
          "output_type": "stream",
          "name": "stdout",
          "text": [
            "/content/drive/.shortcut-targets-by-id/1eq_rM4aklOjAetBEz__QcIiTfxyYy_lR/Data\n"
          ]
        }
      ],
      "source": [
        "%cd /content/drive/MyDrive/Data/"
      ]
    },
    {
      "cell_type": "code",
      "execution_count": 9,
      "metadata": {
        "id": "11vCVeNvKp1j"
      },
      "outputs": [],
      "source": [
        "genres=os.listdir(\"/content/drive/MyDrive/Data/genres_original\")"
      ]
    },
    {
      "cell_type": "code",
      "source": [
        "print(genres)"
      ],
      "metadata": {
        "colab": {
          "base_uri": "https://localhost:8080/"
        },
        "id": "lFHIwnPtzAbd",
        "outputId": "d06a59f1-0ec6-480e-f112-afa5cdfa444a"
      },
      "execution_count": 10,
      "outputs": [
        {
          "output_type": "stream",
          "name": "stdout",
          "text": [
            "['disco', 'reggae', 'country', 'pop', 'classical', 'hiphop', 'rock', 'jazz', 'blues', 'metal']\n"
          ]
        }
      ]
    },
    {
      "cell_type": "code",
      "source": [
        "file_length=[]\n",
        "for genre in genres:\n",
        "  print(len(os.listdir(\"/content/drive/MyDrive/Data/genres_original/\"+genre)))\n",
        "  file_length.append(len(os.listdir(\"/content/drive/MyDrive/Data/genres_original/\"+genre)))"
      ],
      "metadata": {
        "colab": {
          "base_uri": "https://localhost:8080/"
        },
        "id": "IvauuZXK_xHG",
        "outputId": "37bfc127-a891-4dd7-b140-fa81d12b78b2"
      },
      "execution_count": 11,
      "outputs": [
        {
          "output_type": "stream",
          "name": "stdout",
          "text": [
            "100\n",
            "100\n",
            "100\n",
            "100\n",
            "100\n",
            "100\n",
            "100\n",
            "99\n",
            "100\n",
            "100\n"
          ]
        }
      ]
    },
    {
      "cell_type": "code",
      "source": [
        "df = pd.DataFrame({'genre': np.array(genres), '# of samples': file_length})"
      ],
      "metadata": {
        "id": "es6dfpuaFKAx"
      },
      "execution_count": 12,
      "outputs": []
    },
    {
      "cell_type": "code",
      "source": [
        "df"
      ],
      "metadata": {
        "colab": {
          "base_uri": "https://localhost:8080/",
          "height": 363
        },
        "id": "gmkCJfatFYJm",
        "outputId": "67dce7ea-8046-4f66-add3-d0a29332c0fa"
      },
      "execution_count": 13,
      "outputs": [
        {
          "output_type": "execute_result",
          "data": {
            "text/plain": [
              "       genre  # of samples\n",
              "0      disco           100\n",
              "1     reggae           100\n",
              "2    country           100\n",
              "3        pop           100\n",
              "4  classical           100\n",
              "5     hiphop           100\n",
              "6       rock           100\n",
              "7       jazz            99\n",
              "8      blues           100\n",
              "9      metal           100"
            ],
            "text/html": [
              "\n",
              "  <div id=\"df-047b80c0-51ab-49c8-b274-0a78563f7335\">\n",
              "    <div class=\"colab-df-container\">\n",
              "      <div>\n",
              "<style scoped>\n",
              "    .dataframe tbody tr th:only-of-type {\n",
              "        vertical-align: middle;\n",
              "    }\n",
              "\n",
              "    .dataframe tbody tr th {\n",
              "        vertical-align: top;\n",
              "    }\n",
              "\n",
              "    .dataframe thead th {\n",
              "        text-align: right;\n",
              "    }\n",
              "</style>\n",
              "<table border=\"1\" class=\"dataframe\">\n",
              "  <thead>\n",
              "    <tr style=\"text-align: right;\">\n",
              "      <th></th>\n",
              "      <th>genre</th>\n",
              "      <th># of samples</th>\n",
              "    </tr>\n",
              "  </thead>\n",
              "  <tbody>\n",
              "    <tr>\n",
              "      <th>0</th>\n",
              "      <td>disco</td>\n",
              "      <td>100</td>\n",
              "    </tr>\n",
              "    <tr>\n",
              "      <th>1</th>\n",
              "      <td>reggae</td>\n",
              "      <td>100</td>\n",
              "    </tr>\n",
              "    <tr>\n",
              "      <th>2</th>\n",
              "      <td>country</td>\n",
              "      <td>100</td>\n",
              "    </tr>\n",
              "    <tr>\n",
              "      <th>3</th>\n",
              "      <td>pop</td>\n",
              "      <td>100</td>\n",
              "    </tr>\n",
              "    <tr>\n",
              "      <th>4</th>\n",
              "      <td>classical</td>\n",
              "      <td>100</td>\n",
              "    </tr>\n",
              "    <tr>\n",
              "      <th>5</th>\n",
              "      <td>hiphop</td>\n",
              "      <td>100</td>\n",
              "    </tr>\n",
              "    <tr>\n",
              "      <th>6</th>\n",
              "      <td>rock</td>\n",
              "      <td>100</td>\n",
              "    </tr>\n",
              "    <tr>\n",
              "      <th>7</th>\n",
              "      <td>jazz</td>\n",
              "      <td>99</td>\n",
              "    </tr>\n",
              "    <tr>\n",
              "      <th>8</th>\n",
              "      <td>blues</td>\n",
              "      <td>100</td>\n",
              "    </tr>\n",
              "    <tr>\n",
              "      <th>9</th>\n",
              "      <td>metal</td>\n",
              "      <td>100</td>\n",
              "    </tr>\n",
              "  </tbody>\n",
              "</table>\n",
              "</div>\n",
              "      <button class=\"colab-df-convert\" onclick=\"convertToInteractive('df-047b80c0-51ab-49c8-b274-0a78563f7335')\"\n",
              "              title=\"Convert this dataframe to an interactive table.\"\n",
              "              style=\"display:none;\">\n",
              "        \n",
              "  <svg xmlns=\"http://www.w3.org/2000/svg\" height=\"24px\"viewBox=\"0 0 24 24\"\n",
              "       width=\"24px\">\n",
              "    <path d=\"M0 0h24v24H0V0z\" fill=\"none\"/>\n",
              "    <path d=\"M18.56 5.44l.94 2.06.94-2.06 2.06-.94-2.06-.94-.94-2.06-.94 2.06-2.06.94zm-11 1L8.5 8.5l.94-2.06 2.06-.94-2.06-.94L8.5 2.5l-.94 2.06-2.06.94zm10 10l.94 2.06.94-2.06 2.06-.94-2.06-.94-.94-2.06-.94 2.06-2.06.94z\"/><path d=\"M17.41 7.96l-1.37-1.37c-.4-.4-.92-.59-1.43-.59-.52 0-1.04.2-1.43.59L10.3 9.45l-7.72 7.72c-.78.78-.78 2.05 0 2.83L4 21.41c.39.39.9.59 1.41.59.51 0 1.02-.2 1.41-.59l7.78-7.78 2.81-2.81c.8-.78.8-2.07 0-2.86zM5.41 20L4 18.59l7.72-7.72 1.47 1.35L5.41 20z\"/>\n",
              "  </svg>\n",
              "      </button>\n",
              "      \n",
              "  <style>\n",
              "    .colab-df-container {\n",
              "      display:flex;\n",
              "      flex-wrap:wrap;\n",
              "      gap: 12px;\n",
              "    }\n",
              "\n",
              "    .colab-df-convert {\n",
              "      background-color: #E8F0FE;\n",
              "      border: none;\n",
              "      border-radius: 50%;\n",
              "      cursor: pointer;\n",
              "      display: none;\n",
              "      fill: #1967D2;\n",
              "      height: 32px;\n",
              "      padding: 0 0 0 0;\n",
              "      width: 32px;\n",
              "    }\n",
              "\n",
              "    .colab-df-convert:hover {\n",
              "      background-color: #E2EBFA;\n",
              "      box-shadow: 0px 1px 2px rgba(60, 64, 67, 0.3), 0px 1px 3px 1px rgba(60, 64, 67, 0.15);\n",
              "      fill: #174EA6;\n",
              "    }\n",
              "\n",
              "    [theme=dark] .colab-df-convert {\n",
              "      background-color: #3B4455;\n",
              "      fill: #D2E3FC;\n",
              "    }\n",
              "\n",
              "    [theme=dark] .colab-df-convert:hover {\n",
              "      background-color: #434B5C;\n",
              "      box-shadow: 0px 1px 3px 1px rgba(0, 0, 0, 0.15);\n",
              "      filter: drop-shadow(0px 1px 2px rgba(0, 0, 0, 0.3));\n",
              "      fill: #FFFFFF;\n",
              "    }\n",
              "  </style>\n",
              "\n",
              "      <script>\n",
              "        const buttonEl =\n",
              "          document.querySelector('#df-047b80c0-51ab-49c8-b274-0a78563f7335 button.colab-df-convert');\n",
              "        buttonEl.style.display =\n",
              "          google.colab.kernel.accessAllowed ? 'block' : 'none';\n",
              "\n",
              "        async function convertToInteractive(key) {\n",
              "          const element = document.querySelector('#df-047b80c0-51ab-49c8-b274-0a78563f7335');\n",
              "          const dataTable =\n",
              "            await google.colab.kernel.invokeFunction('convertToInteractive',\n",
              "                                                     [key], {});\n",
              "          if (!dataTable) return;\n",
              "\n",
              "          const docLinkHtml = 'Like what you see? Visit the ' +\n",
              "            '<a target=\"_blank\" href=https://colab.research.google.com/notebooks/data_table.ipynb>data table notebook</a>'\n",
              "            + ' to learn more about interactive tables.';\n",
              "          element.innerHTML = '';\n",
              "          dataTable['output_type'] = 'display_data';\n",
              "          await google.colab.output.renderOutput(dataTable, element);\n",
              "          const docLink = document.createElement('div');\n",
              "          docLink.innerHTML = docLinkHtml;\n",
              "          element.appendChild(docLink);\n",
              "        }\n",
              "      </script>\n",
              "    </div>\n",
              "  </div>\n",
              "  "
            ]
          },
          "metadata": {},
          "execution_count": 13
        }
      ]
    },
    {
      "cell_type": "code",
      "source": [
        "import seaborn as sns\n",
        "# df.plot.bar()\n",
        "# create a countplot using seaborn\n",
        "# sns.set(style=\"darkgrid\")\n",
        "# sns.set_palette(['#00BFFF', '#FFD700', '#FF4500', '#2E8B57'])\n",
        "# sns.set_style(\"whitegrid\")\n",
        "sns.catplot(x=\"genre\", y=\"# of samples\", kind='bar',data=df,height=5, aspect=2)\n",
        "# set the axis labels\n",
        "plt.xlabel(\"Genres\")\n",
        "plt.ylabel(\"# of samples\")\n",
        "plt.ylim(80, None)\n",
        "# plt.title(\"Class Distribution\")\n",
        "# sns.despine(top=True, right=True)\n",
        "plt.show()"
      ],
      "metadata": {
        "id": "ZGTHezLu_wFl"
      },
      "execution_count": null,
      "outputs": []
    },
    {
      "cell_type": "code",
      "execution_count": null,
      "metadata": {
        "id": "NtBgqxpXKpzD"
      },
      "outputs": [],
      "source": [
        "for genre in genres:\n",
        "  os.mkdir(\"/content/drive/MyDrive/Data/Data_Augmented/\"+genre)"
      ]
    },
    {
      "cell_type": "code",
      "execution_count": null,
      "metadata": {
        "id": "YRA5kuXDMLRF"
      },
      "outputs": [],
      "source": []
    },
    {
      "cell_type": "code",
      "execution_count": null,
      "metadata": {
        "id": "11sh73XTQSXm"
      },
      "outputs": [],
      "source": [
        "import soundfile as sf"
      ]
    },
    {
      "cell_type": "code",
      "source": [
        "for genre in genres:\n",
        "  for file in os.listdir('/content/drive/MyDrive/Data/genres_original/'+genre):\n",
        "    audio, sr = librosa.load('/content/drive/MyDrive/Data/genres_original/'+genre+'/'+file)\n",
        "    print(sr)\n",
        "\n",
        "  # Get number of samples for 10 seconds; replace 10 by any number\n",
        "    buffer = 10 * sr\n",
        "\n",
        "    samples_total = len(audio)\n",
        "    print(samples_total)\n",
        "    samples_wrote = 0\n",
        "    counter = 1\n",
        "    audio=audio[:buffer*10]\n",
        "    while samples_wrote < samples_total:\n",
        "      # block=[]\n",
        "      #check if the buffer is not exceeding total samples \n",
        "      if buffer > (samples_total - samples_wrote):\n",
        "        buffer = samples_total - samples_wrote\n",
        "\n",
        "      block = audio[samples_wrote : (samples_wrote + buffer)]\n",
        "      out_filename = '/content/drive/MyDrive/Data/Data_AugmentedV2/'+genre+'/'+file[:-4]+\"_split_\" + str(counter)\n",
        "      print(len(block))\n",
        "      if counter<=3:                          # 30 second divided by 10. Adjust the counter so that we dont get samples of 0 secs.\n",
        "        sf.write(out_filename+'.wav', block, sr)\n",
        "      else:\n",
        "        break\n",
        "      \n",
        "      counter += 1\n",
        "      samples_wrote += buffer\n"
      ],
      "metadata": {
        "id": "jXEwrj_Q18mi"
      },
      "execution_count": null,
      "outputs": []
    },
    {
      "cell_type": "code",
      "execution_count": null,
      "metadata": {
        "id": "Bh-rtWz4JxAS"
      },
      "outputs": [],
      "source": [
        "# audio, sr = librosa.load('/content/drive/MyDrive/Data/genres_original/rock/rock.00001.wav')\n",
        "# print(sr)\n",
        "\n",
        "# # Get number of samples for 2 seconds; replace 2 by any number\n",
        "# buffer = 3 * sr\n",
        "\n",
        "# samples_total = len(audio)\n",
        "# print(samples_total)\n",
        "# samples_wrote = 0\n",
        "# counter = 1\n",
        "# audio=audio[:buffer*10]\n",
        "# while samples_wrote < samples_total:\n",
        "\n",
        "#     #check if the buffer is not exceeding total samples \n",
        "#     if buffer > (samples_total - samples_wrote):\n",
        "#         buffer = samples_total - samples_wrote\n",
        "\n",
        "#     block = audio[samples_wrote : (samples_wrote + buffer)]\n",
        "#     out_filename = '/content/drive/MyDrive/Data/genres_original/rock/metal.00005'+\"_split_\" + str(counter)\n",
        "#     print(len(block))\n",
        "#     if len(block)>0:\n",
        "#     # Write 2 second segment\n",
        "#       sf.write(out_filename+'.wav', block, sr)\n",
        "#     # sf.write(out_filename+'.wav', reduced_noise, 48000, 'PCM_24')\n",
        "#     # librosa.output.write_wav(out_filename, block, sr)\n",
        "#     counter += 1\n",
        "#     samples_wrote += buffer"
      ]
    },
    {
      "cell_type": "code",
      "source": [
        "len(os.listdir(\"/content/drive/MyDrive/Data/Data_AugmentedV2/disco\"))"
      ],
      "metadata": {
        "colab": {
          "base_uri": "https://localhost:8080/"
        },
        "id": "qqRasmfNzloO",
        "outputId": "530f7242-1bcf-42a8-893d-846f8f63a65c"
      },
      "execution_count": 10,
      "outputs": [
        {
          "output_type": "execute_result",
          "data": {
            "text/plain": [
              "300"
            ]
          },
          "metadata": {},
          "execution_count": 10
        }
      ]
    },
    {
      "cell_type": "code",
      "source": [
        "genres"
      ],
      "metadata": {
        "colab": {
          "base_uri": "https://localhost:8080/"
        },
        "id": "u5q4RBZSx2g7",
        "outputId": "f25cefcd-a947-4b90-ede2-d1a1d5ca713f"
      },
      "execution_count": 11,
      "outputs": [
        {
          "output_type": "execute_result",
          "data": {
            "text/plain": [
              "['disco',\n",
              " 'reggae',\n",
              " 'country',\n",
              " 'pop',\n",
              " 'classical',\n",
              " 'hiphop',\n",
              " 'rock',\n",
              " 'jazz',\n",
              " 'blues',\n",
              " 'metal']"
            ]
          },
          "metadata": {},
          "execution_count": 11
        }
      ]
    },
    {
      "cell_type": "code",
      "source": [
        "file_length=[]\n",
        "for genre in genres:\n",
        "  file_length.append(len(os.listdir(\"/content/drive/MyDrive/Data/Data_AugmentedV2/\"+genre)))"
      ],
      "metadata": {
        "id": "QweU3I0LzD2t"
      },
      "execution_count": 12,
      "outputs": []
    },
    {
      "cell_type": "code",
      "source": [
        "df = pd.DataFrame({'genre': np.array(genres), '# of samples': file_length})"
      ],
      "metadata": {
        "id": "LVaaf3USz1ag"
      },
      "execution_count": 13,
      "outputs": []
    },
    {
      "cell_type": "code",
      "source": [
        "import seaborn as sns\n",
        "# create a countplot using seaborn\n",
        "# sns.set(style=\"darkgrid\")\n",
        "# sns.set_palette(['#00BFFF', '#FFD700', '#FF4500', '#2E8B57'])\n",
        "# sns.set_style(\"whitegrid\")\n",
        "sns.catplot(x=\"genre\", y=\"# of samples\", kind='bar',data=df,height=5, aspect=2)\n",
        "# set the axis labels\n",
        "plt.xlabel(\"Genres\")\n",
        "plt.ylabel(\"# of samples\")\n",
        "plt.ylim(100, None)\n",
        "# plt.title(\"Class Distribution\")\n",
        "# sns.despine(top=True, right=True)\n",
        "plt.show()"
      ],
      "metadata": {
        "colab": {
          "base_uri": "https://localhost:8080/",
          "height": 507
        },
        "id": "CDdDYcFl0BKj",
        "outputId": "e117b34e-7db5-4917-a96b-a2828f6cec3c"
      },
      "execution_count": 14,
      "outputs": [
        {
          "output_type": "display_data",
          "data": {
            "text/plain": [
              "<Figure size 1000x500 with 1 Axes>"
            ],
            "image/png": "[encoded data removed]"
          },
          "metadata": {}
        }
      ]
    },
    {
      "cell_type": "code",
      "source": [
        "mfcc_cols_mean=['mfcc_'+str(i)+'_mean' for i in range(1,21)]\n",
        "mfcc_cols_var=['mfcc_'+str(i)+'_var' for i in range(1,21)]\n",
        "cols=mfcc_cols_mean+mfcc_cols_var+['spec_centroid_mean','spec_centroid_variance','spec_rolloff_mean','spec_rolloff_var','spectral bandwidth','tempo','rms_mean','genre']"
      ],
      "metadata": {
        "id": "U8jvR1qZ-z2h"
      },
      "execution_count": null,
      "outputs": []
    },
    {
      "cell_type": "code",
      "source": [
        "cols"
      ],
      "metadata": {
        "colab": {
          "base_uri": "https://localhost:8080/"
        },
        "id": "JhB8ALuL-_vJ",
        "outputId": "5c57c087-28e3-496c-c236-02f27d666b01"
      },
      "execution_count": null,
      "outputs": [
        {
          "output_type": "execute_result",
          "data": {
            "text/plain": [
              "['mfcc_1_mean',\n",
              " 'mfcc_2_mean',\n",
              " 'mfcc_3_mean',\n",
              " 'mfcc_4_mean',\n",
              " 'mfcc_5_mean',\n",
              " 'mfcc_6_mean',\n",
              " 'mfcc_7_mean',\n",
              " 'mfcc_8_mean',\n",
              " 'mfcc_9_mean',\n",
              " 'mfcc_10_mean',\n",
              " 'mfcc_11_mean',\n",
              " 'mfcc_12_mean',\n",
              " 'mfcc_13_mean',\n",
              " 'mfcc_14_mean',\n",
              " 'mfcc_15_mean',\n",
              " 'mfcc_16_mean',\n",
              " 'mfcc_17_mean',\n",
              " 'mfcc_18_mean',\n",
              " 'mfcc_19_mean',\n",
              " 'mfcc_20_mean',\n",
              " 'mfcc_1_var',\n",
              " 'mfcc_2_var',\n",
              " 'mfcc_3_var',\n",
              " 'mfcc_4_var',\n",
              " 'mfcc_5_var',\n",
              " 'mfcc_6_var',\n",
              " 'mfcc_7_var',\n",
              " 'mfcc_8_var',\n",
              " 'mfcc_9_var',\n",
              " 'mfcc_10_var',\n",
              " 'mfcc_11_var',\n",
              " 'mfcc_12_var',\n",
              " 'mfcc_13_var',\n",
              " 'mfcc_14_var',\n",
              " 'mfcc_15_var',\n",
              " 'mfcc_16_var',\n",
              " 'mfcc_17_var',\n",
              " 'mfcc_18_var',\n",
              " 'mfcc_19_var',\n",
              " 'mfcc_20_var',\n",
              " 'spec_centroid_mean',\n",
              " 'spec_centroid_variance',\n",
              " 'spec_rolloff_mean',\n",
              " 'spec_rolloff_var',\n",
              " 'spectral bandwidth',\n",
              " 'tempo',\n",
              " 'rms_mean',\n",
              " 'genre']"
            ]
          },
          "metadata": {},
          "execution_count": 24
        }
      ]
    },
    {
      "cell_type": "code",
      "source": [
        "len(cols)"
      ],
      "metadata": {
        "colab": {
          "base_uri": "https://localhost:8080/"
        },
        "id": "P8BrGsHaUlZa",
        "outputId": "579d69f3-1a1d-4222-f34a-332f160b362c"
      },
      "execution_count": null,
      "outputs": [
        {
          "output_type": "execute_result",
          "data": {
            "text/plain": [
              "48"
            ]
          },
          "metadata": {},
          "execution_count": 25
        }
      ]
    },
    {
      "cell_type": "code",
      "source": [
        "file_path = \"/content/drive/MyDrive/Data/Data_AugmentedV2/jazz/jazz.00099.wav_split_9.wav\"\n",
        "y, sr = librosa.load(file_path)\n",
        "mfcc_features = librosa.feature.mfcc(y=y, sr=sr,n_mels=128, n_mfcc=20)\n",
        "mfcc_mean = np.mean(mfcc_features, axis=1)\n",
        "mfcc_variance=np.var(mfcc_features,axis=1)\n",
        "print('mfcc_mean',mfcc_mean)\n",
        "print('mfcc_var',mfcc_variance)\n",
        "spec_centroid = librosa.feature.spectral_centroid(y=y, sr=sr)\n",
        "spec_centroid_mean=np.mean(spec_centroid,axis=1)\n",
        "spec_centroid_var=np.var(spec_centroid,axis=1)\n",
        "print('spec_centroid_mean',spec_centroid_mean)\n",
        "print('spec_centroid_var',spec_centroid_var)\n",
        "spec_rolloff = librosa.feature.spectral_rolloff(y=y, sr=sr)\n",
        "spec_rolloff_mean=np.mean(spec_rolloff,axis=1)\n",
        "spec_rolloff_var=np.var(spec_rolloff,axis=1)\n",
        "print('spec_rolloff_mean',spec_rolloff_mean)\n",
        "print('spec_rolloff_var',spec_rolloff_var)\n",
        "#spectral bandwidth\n",
        "spectral_bw = librosa.feature.spectral_bandwidth(y=y, sr=sr)\n",
        "spectral_bw_mean=np.mean(spectral_bw,axis=1)\n",
        "print(\"spectral_bandwidth\",spectral_bw_mean)\n",
        "#tempo\n",
        "tempo = librosa.feature.rhythm.tempo(y=y, sr=sr)\n",
        "#loudness\n",
        "rms = librosa.feature.rms(y=y)\n",
        "rms_mean=np.mean(rms,axis=1)\n",
        "print(\"rms_mean\",rms_mean)\n",
        "X_vals_array=np.concatenate([mfcc_mean,mfcc_variance,spec_centroid_mean,spec_centroid_var,spec_rolloff_mean,spec_rolloff_var,spectral_bw_mean,tempo,rms_mean,[1]])\n",
        "print('flat',X_vals_array)\n",
        "# c_v = np.cov(mfcc_features)\n",
        "# F_feat.append()"
      ],
      "metadata": {
        "colab": {
          "base_uri": "https://localhost:8080/"
        },
        "id": "9GMxZRD4Gv4z",
        "outputId": "abe30f43-1e81-45d0-9e20-3c8f0f375383"
      },
      "execution_count": null,
      "outputs": [
        {
          "output_type": "stream",
          "name": "stdout",
          "text": [
            "mfcc_mean [-3.1336569e+02  1.2919833e+02  9.3901386e+00  4.4763119e+01\n",
            "  5.3494358e+00  2.1335802e+01 -6.0318189e+00  2.0041357e+01\n",
            " -1.4878763e+01  1.0427646e+01 -6.4591064e+00  4.4694991e+00\n",
            " -8.8590441e+00  1.5887131e-01 -4.2127218e+00 -8.7501585e-01\n",
            " -8.9732571e+00 -5.8643875e+00 -5.1607141e+00  5.8002591e-01]\n",
            "mfcc_var [1309.0518    369.55475   196.29793    77.33827    52.670334   51.24227\n",
            "   49.362026   42.701385   35.584488   38.84044    59.4955     26.90545\n",
            "   29.329187   43.422108   35.924007   23.331753   31.713999   20.834787\n",
            "   29.488852   60.28056 ]\n",
            "spec_centroid_mean [1246.10424442]\n",
            "spec_centroid_var [184929.89702917]\n",
            "spec_rolloff_mean [2621.83312049]\n",
            "spec_rolloff_var [1593127.78314476]\n",
            "spectral_bandwidth [1831.22410847]\n",
            "rms_mean [0.04169365]\n",
            "flat [-3.13365692e+02  1.29198334e+02  9.39013863e+00  4.47631187e+01\n",
            "  5.34943581e+00  2.13358021e+01 -6.03181887e+00  2.00413570e+01\n",
            " -1.48787632e+01  1.04276457e+01 -6.45910645e+00  4.46949911e+00\n",
            " -8.85904408e+00  1.58871308e-01 -4.21272182e+00 -8.75015855e-01\n",
            " -8.97325706e+00 -5.86438751e+00 -5.16071415e+00  5.80025911e-01\n",
            "  1.30905176e+03  3.69554749e+02  1.96297928e+02  7.73382721e+01\n",
            "  5.26703339e+01  5.12422714e+01  4.93620262e+01  4.27013855e+01\n",
            "  3.55844879e+01  3.88404388e+01  5.94954987e+01  2.69054508e+01\n",
            "  2.93291874e+01  4.34221077e+01  3.59240074e+01  2.33317528e+01\n",
            "  3.17139988e+01  2.08347874e+01  2.94888515e+01  6.02805595e+01\n",
            "  1.24610424e+03  1.84929897e+05  2.62183312e+03  1.59312778e+06\n",
            "  1.83122411e+03  1.35999178e+02  4.16936539e-02  1.00000000e+00]\n"
          ]
        }
      ]
    },
    {
      "cell_type": "code",
      "source": [
        "len(cols)"
      ],
      "metadata": {
        "colab": {
          "base_uri": "https://localhost:8080/"
        },
        "id": "b5h3QI0vTNaL",
        "outputId": "f7c4c8af-82e2-4cb5-8468-75332af548d1"
      },
      "execution_count": null,
      "outputs": [
        {
          "output_type": "execute_result",
          "data": {
            "text/plain": [
              "48"
            ]
          },
          "metadata": {},
          "execution_count": 29
        }
      ]
    },
    {
      "cell_type": "code",
      "execution_count": null,
      "metadata": {
        "id": "pT_FLzohte4j"
      },
      "outputs": [],
      "source": [
        "directory = \"/content/drive/MyDrive/Data/Data_AugmentedV2\"\n",
        "F_feat = []\n",
        "\n",
        "for z, genre in enumerate(genres, start=1):\n",
        "    genre_d = os.path.join(directory, genre)\n",
        "    for file in os.listdir(genre_d):\n",
        "        if file.endswith(\".wav\"):\n",
        "          file_path = os.path.join(genre_d, file)\n",
        "          y, sr = librosa.load(file_path)\n",
        "          mfcc_features = librosa.feature.mfcc(y=y, sr=sr,n_mels=128, n_mfcc=20)\n",
        "          mfcc_mean = np.mean(mfcc_features, axis=1)\n",
        "          mfcc_variance=np.var(mfcc_features,axis=1)\n",
        "          # print('mfcc_mean',mfcc_mean)\n",
        "          # print('mfcc_var',mfcc_variance)\n",
        "          spec_centroid = librosa.feature.spectral_centroid(y=y, sr=sr)\n",
        "          spec_centroid_mean=np.mean(spec_centroid,axis=1)\n",
        "          spec_centroid_var=np.var(spec_centroid,axis=1)\n",
        "          # print('spec_centroid_mean',spec_centroid_mean)\n",
        "          # print('spec_centroid_var',spec_centroid_var)\n",
        "          spec_rolloff = librosa.feature.spectral_rolloff(y=y, sr=sr)\n",
        "          spec_rolloff_mean=np.mean(spec_rolloff,axis=1)\n",
        "          spec_rolloff_var=np.var(spec_rolloff,axis=1)\n",
        "          # print('spec_rolloff_mean',spec_rolloff_mean)\n",
        "          # print('spec_rolloff_var',spec_rolloff_var)\n",
        "          #spectral bandwidth\n",
        "          spectral_bw = librosa.feature.spectral_bandwidth(y=y, sr=sr)\n",
        "          spectral_bw_mean=np.mean(spectral_bw,axis=1)\n",
        "          # print(\"spectral_bandwidth\",spectral_bw_mean)\n",
        "          #temp0\n",
        "          tempo = librosa.beat.tempo(y=y, sr=sr)\n",
        "          # print(\"tempo\",tempo)\n",
        "          #loudness\n",
        "          rms = librosa.feature.rms(y=y)\n",
        "          rms_mean=np.mean(rms,axis=1)\n",
        "          # print(\"rms_mean\",rms_mean)\n",
        "          X_vals_array=np.concatenate([mfcc_mean,mfcc_variance,spec_centroid_mean,spec_centroid_var,spec_rolloff_mean,spec_rolloff_var,spectral_bw_mean,tempo,rms_mean,[z]])\n",
        "          # c_v = np.cov(mfcc_features)\n",
        "          F_feat.append(X_vals_array)\n",
        "\n",
        "df=pd.DataFrame(np.array(F_feat),columns=cols)\n"
      ]
    },
    {
      "cell_type": "code",
      "source": [
        "df.shape"
      ],
      "metadata": {
        "colab": {
          "base_uri": "https://localhost:8080/"
        },
        "id": "cDeWQpV_7-4m",
        "outputId": "70948a56-daa7-4cec-d843-3d8abe657973"
      },
      "execution_count": null,
      "outputs": [
        {
          "output_type": "execute_result",
          "data": {
            "text/plain": [
              "(9990, 48)"
            ]
          },
          "metadata": {},
          "execution_count": 34
        }
      ]
    },
    {
      "cell_type": "code",
      "source": [
        "df.to_csv('music_features.csv')"
      ],
      "metadata": {
        "id": "-1vHqp2O5dC9"
      },
      "execution_count": null,
      "outputs": []
    },
    {
      "cell_type": "code",
      "source": [
        "df['genre'].unique()"
      ],
      "metadata": {
        "colab": {
          "base_uri": "https://localhost:8080/"
        },
        "id": "Nx0zUqfxbwRI",
        "outputId": "925b1277-cb27-4170-a699-09cc72fa7b65"
      },
      "execution_count": null,
      "outputs": [
        {
          "output_type": "execute_result",
          "data": {
            "text/plain": [
              "array(['disco', 'reggae', 'country', 'pop', 'classical', 'hiphop', 'rock',\n",
              "       'jazz', 'blues', 'metal'], dtype=object)"
            ]
          },
          "metadata": {},
          "execution_count": 81
        }
      ]
    },
    {
      "cell_type": "code",
      "source": [
        "df=pd.read_csv('/content/drive/MyDrive/Data/music_features_10sec.csv',index_col=False)"
      ],
      "metadata": {
        "id": "yVc3iw5se5r8"
      },
      "execution_count": 64,
      "outputs": []
    },
    {
      "cell_type": "code",
      "source": [
        "df"
      ],
      "metadata": {
        "colab": {
          "base_uri": "https://localhost:8080/",
          "height": 505
        },
        "id": "JBm2QCDKfep3",
        "outputId": "60670f72-f651-4b74-ece1-c698a70b793a"
      },
      "execution_count": 65,
      "outputs": [
        {
          "output_type": "execute_result",
          "data": {
            "text/plain": [
              "      Unnamed: 0  mfcc_1_mean  mfcc_2_mean  mfcc_3_mean  mfcc_4_mean  \\\n",
              "0              0   -26.166393    58.242699   -10.425974    19.860090   \n",
              "1              1   -30.846718    50.381737    -7.127524    24.216213   \n",
              "2              2   -30.031282    47.380722    -5.324993    20.735268   \n",
              "3              3  -107.571617    62.432266    15.108756     6.489589   \n",
              "4              4   -81.904701    68.731293     1.628685    -1.563210   \n",
              "...          ...          ...          ...          ...          ...   \n",
              "2992        2992   -36.635155    96.041779   -36.086800    47.005646   \n",
              "2993        2993   -51.543404    92.566246   -11.080472    60.409721   \n",
              "2994        2994   -79.841385    86.854408   -31.068455    42.604511   \n",
              "2995        2995   -60.626938    88.976364   -27.342455    57.755955   \n",
              "2996        2996   -60.023518    89.758774   -24.660503    59.620594   \n",
              "\n",
              "      mfcc_5_mean  mfcc_6_mean  mfcc_7_mean  mfcc_8_mean  mfcc_9_mean  ...  \\\n",
              "0        9.400514    19.972326     8.019683     8.191761    -0.227838  ...   \n",
              "1        9.922525    17.269407     3.093051     3.816538     1.653293  ...   \n",
              "2        5.107797    17.109568     9.528959     7.684742     0.733133  ...   \n",
              "3        4.294722     6.160264     2.574949     3.363928    -1.675476  ...   \n",
              "4       -3.184977     6.813185     4.409182     4.361910    -4.370067  ...   \n",
              "...           ...          ...          ...          ...          ...  ...   \n",
              "2992   -19.083965    20.710676   -11.363249    22.343679   -11.391633  ...   \n",
              "2993    -8.639405    27.175446   -11.813601    23.694099   -10.808640  ...   \n",
              "2994   -14.619045    25.868212   -12.330288    24.222828   -10.098413  ...   \n",
              "2995    -6.783169    28.629953    -6.876606    27.381920    -7.374969  ...   \n",
              "2996    -6.674701    29.780136    -5.587547    27.698629    -7.633963  ...   \n",
              "\n",
              "      mfcc_19_var  mfcc_20_var  spec_centroid_mean  spec_centroid_variance  \\\n",
              "0       61.151001    67.762550         3132.153578           599983.625827   \n",
              "1       65.770920    57.982464         3352.586678           575666.238210   \n",
              "2       69.183044   102.081612         3385.349206           455430.781713   \n",
              "3       62.049561    34.691467         3487.111821           845259.531629   \n",
              "4       55.771046    39.236465         3150.077500           609694.345973   \n",
              "...           ...          ...                 ...                     ...   \n",
              "2992    37.856915    21.748386         2349.307574           188427.999807   \n",
              "2993    30.068319    22.973669         2387.142347           676338.139173   \n",
              "2994    94.726357    68.561623         2443.913744           503049.649659   \n",
              "2995    31.716204    18.585651         2351.500788           210862.872106   \n",
              "2996    26.771648    16.781343         2330.411264           231364.204438   \n",
              "\n",
              "      spec_rolloff_mean  spec_rolloff_var  spectral bandwidth       tempo  \\\n",
              "0           6253.746794      2.413039e+06         2710.681542  117.453835   \n",
              "1           6567.751856      2.058374e+06         2775.902392  117.453835   \n",
              "2           6716.585759      1.667521e+06         2811.060183  117.453835   \n",
              "3           7516.436838      2.487667e+06         3226.289483  123.046875   \n",
              "4           6851.205749      1.993637e+06         3024.141739  123.046875   \n",
              "...                 ...               ...                 ...         ...   \n",
              "2992        4742.150907      9.693428e+05         2142.317528  161.499023   \n",
              "2993        4952.187069      1.580301e+06         2293.188541  161.499023   \n",
              "2994        4949.813921      1.552292e+06         2205.068832  143.554688   \n",
              "2995        4873.773236      6.275002e+05         2240.100029  151.999081   \n",
              "2996        4871.100321      6.854855e+05         2251.108731  143.554688   \n",
              "\n",
              "      rms_mean  genre  \n",
              "0     0.185045    1.0  \n",
              "1     0.166827    1.0  \n",
              "2     0.178800    1.0  \n",
              "3     0.100204    1.0  \n",
              "4     0.120131    1.0  \n",
              "...        ...    ...  \n",
              "2992  0.194716   10.0  \n",
              "2993  0.195759   10.0  \n",
              "2994  0.155610   10.0  \n",
              "2995  0.174838   10.0  \n",
              "2996  0.179334   10.0  \n",
              "\n",
              "[2997 rows x 49 columns]"
            ],
            "text/html": [
              "\n",
              "  <div id=\"df-677ee4b8-1b11-4f97-97fd-f1ffd04add2d\">\n",
              "    <div class=\"colab-df-container\">\n",
              "      <div>\n",
              "<style scoped>\n",
              "    .dataframe tbody tr th:only-of-type {\n",
              "        vertical-align: middle;\n",
              "    }\n",
              "\n",
              "    .dataframe tbody tr th {\n",
              "        vertical-align: top;\n",
              "    }\n",
              "\n",
              "    .dataframe thead th {\n",
              "        text-align: right;\n",
              "    }\n",
              "</style>\n",
              "<table border=\"1\" class=\"dataframe\">\n",
              "  <thead>\n",
              "    <tr style=\"text-align: right;\">\n",
              "      <th></th>\n",
              "      <th>Unnamed: 0</th>\n",
              "      <th>mfcc_1_mean</th>\n",
              "      <th>mfcc_2_mean</th>\n",
              "      <th>mfcc_3_mean</th>\n",
              "      <th>mfcc_4_mean</th>\n",
              "      <th>mfcc_5_mean</th>\n",
              "      <th>mfcc_6_mean</th>\n",
              "      <th>mfcc_7_mean</th>\n",
              "      <th>mfcc_8_mean</th>\n",
              "      <th>mfcc_9_mean</th>\n",
              "      <th>...</th>\n",
              "      <th>mfcc_19_var</th>\n",
              "      <th>mfcc_20_var</th>\n",
              "      <th>spec_centroid_mean</th>\n",
              "      <th>spec_centroid_variance</th>\n",
              "      <th>spec_rolloff_mean</th>\n",
              "      <th>spec_rolloff_var</th>\n",
              "      <th>spectral bandwidth</th>\n",
              "      <th>tempo</th>\n",
              "      <th>rms_mean</th>\n",
              "      <th>genre</th>\n",
              "    </tr>\n",
              "  </thead>\n",
              "  <tbody>\n",
              "    <tr>\n",
              "      <th>0</th>\n",
              "      <td>0</td>\n",
              "      <td>-26.166393</td>\n",
              "      <td>58.242699</td>\n",
              "      <td>-10.425974</td>\n",
              "      <td>19.860090</td>\n",
              "      <td>9.400514</td>\n",
              "      <td>19.972326</td>\n",
              "      <td>8.019683</td>\n",
              "      <td>8.191761</td>\n",
              "      <td>-0.227838</td>\n",
              "      <td>...</td>\n",
              "      <td>61.151001</td>\n",
              "      <td>67.762550</td>\n",
              "      <td>3132.153578</td>\n",
              "      <td>599983.625827</td>\n",
              "      <td>6253.746794</td>\n",
              "      <td>2.413039e+06</td>\n",
              "      <td>2710.681542</td>\n",
              "      <td>117.453835</td>\n",
              "      <td>0.185045</td>\n",
              "      <td>1.0</td>\n",
              "    </tr>\n",
              "    <tr>\n",
              "      <th>1</th>\n",
              "      <td>1</td>\n",
              "      <td>-30.846718</td>\n",
              "      <td>50.381737</td>\n",
              "      <td>-7.127524</td>\n",
              "      <td>24.216213</td>\n",
              "      <td>9.922525</td>\n",
              "      <td>17.269407</td>\n",
              "      <td>3.093051</td>\n",
              "      <td>3.816538</td>\n",
              "      <td>1.653293</td>\n",
              "      <td>...</td>\n",
              "      <td>65.770920</td>\n",
              "      <td>57.982464</td>\n",
              "      <td>3352.586678</td>\n",
              "      <td>575666.238210</td>\n",
              "      <td>6567.751856</td>\n",
              "      <td>2.058374e+06</td>\n",
              "      <td>2775.902392</td>\n",
              "      <td>117.453835</td>\n",
              "      <td>0.166827</td>\n",
              "      <td>1.0</td>\n",
              "    </tr>\n",
              "    <tr>\n",
              "      <th>2</th>\n",
              "      <td>2</td>\n",
              "      <td>-30.031282</td>\n",
              "      <td>47.380722</td>\n",
              "      <td>-5.324993</td>\n",
              "      <td>20.735268</td>\n",
              "      <td>5.107797</td>\n",
              "      <td>17.109568</td>\n",
              "      <td>9.528959</td>\n",
              "      <td>7.684742</td>\n",
              "      <td>0.733133</td>\n",
              "      <td>...</td>\n",
              "      <td>69.183044</td>\n",
              "      <td>102.081612</td>\n",
              "      <td>3385.349206</td>\n",
              "      <td>455430.781713</td>\n",
              "      <td>6716.585759</td>\n",
              "      <td>1.667521e+06</td>\n",
              "      <td>2811.060183</td>\n",
              "      <td>117.453835</td>\n",
              "      <td>0.178800</td>\n",
              "      <td>1.0</td>\n",
              "    </tr>\n",
              "    <tr>\n",
              "      <th>3</th>\n",
              "      <td>3</td>\n",
              "      <td>-107.571617</td>\n",
              "      <td>62.432266</td>\n",
              "      <td>15.108756</td>\n",
              "      <td>6.489589</td>\n",
              "      <td>4.294722</td>\n",
              "      <td>6.160264</td>\n",
              "      <td>2.574949</td>\n",
              "      <td>3.363928</td>\n",
              "      <td>-1.675476</td>\n",
              "      <td>...</td>\n",
              "      <td>62.049561</td>\n",
              "      <td>34.691467</td>\n",
              "      <td>3487.111821</td>\n",
              "      <td>845259.531629</td>\n",
              "      <td>7516.436838</td>\n",
              "      <td>2.487667e+06</td>\n",
              "      <td>3226.289483</td>\n",
              "      <td>123.046875</td>\n",
              "      <td>0.100204</td>\n",
              "      <td>1.0</td>\n",
              "    </tr>\n",
              "    <tr>\n",
              "      <th>4</th>\n",
              "      <td>4</td>\n",
              "      <td>-81.904701</td>\n",
              "      <td>68.731293</td>\n",
              "      <td>1.628685</td>\n",
              "      <td>-1.563210</td>\n",
              "      <td>-3.184977</td>\n",
              "      <td>6.813185</td>\n",
              "      <td>4.409182</td>\n",
              "      <td>4.361910</td>\n",
              "      <td>-4.370067</td>\n",
              "      <td>...</td>\n",
              "      <td>55.771046</td>\n",
              "      <td>39.236465</td>\n",
              "      <td>3150.077500</td>\n",
              "      <td>609694.345973</td>\n",
              "      <td>6851.205749</td>\n",
              "      <td>1.993637e+06</td>\n",
              "      <td>3024.141739</td>\n",
              "      <td>123.046875</td>\n",
              "      <td>0.120131</td>\n",
              "      <td>1.0</td>\n",
              "    </tr>\n",
              "    <tr>\n",
              "      <th>...</th>\n",
              "      <td>...</td>\n",
              "      <td>...</td>\n",
              "      <td>...</td>\n",
              "      <td>...</td>\n",
              "      <td>...</td>\n",
              "      <td>...</td>\n",
              "      <td>...</td>\n",
              "      <td>...</td>\n",
              "      <td>...</td>\n",
              "      <td>...</td>\n",
              "      <td>...</td>\n",
              "      <td>...</td>\n",
              "      <td>...</td>\n",
              "      <td>...</td>\n",
              "      <td>...</td>\n",
              "      <td>...</td>\n",
              "      <td>...</td>\n",
              "      <td>...</td>\n",
              "      <td>...</td>\n",
              "      <td>...</td>\n",
              "      <td>...</td>\n",
              "    </tr>\n",
              "    <tr>\n",
              "      <th>2992</th>\n",
              "      <td>2992</td>\n",
              "      <td>-36.635155</td>\n",
              "      <td>96.041779</td>\n",
              "      <td>-36.086800</td>\n",
              "      <td>47.005646</td>\n",
              "      <td>-19.083965</td>\n",
              "      <td>20.710676</td>\n",
              "      <td>-11.363249</td>\n",
              "      <td>22.343679</td>\n",
              "      <td>-11.391633</td>\n",
              "      <td>...</td>\n",
              "      <td>37.856915</td>\n",
              "      <td>21.748386</td>\n",
              "      <td>2349.307574</td>\n",
              "      <td>188427.999807</td>\n",
              "      <td>4742.150907</td>\n",
              "      <td>9.693428e+05</td>\n",
              "      <td>2142.317528</td>\n",
              "      <td>161.499023</td>\n",
              "      <td>0.194716</td>\n",
              "      <td>10.0</td>\n",
              "    </tr>\n",
              "    <tr>\n",
              "      <th>2993</th>\n",
              "      <td>2993</td>\n",
              "      <td>-51.543404</td>\n",
              "      <td>92.566246</td>\n",
              "      <td>-11.080472</td>\n",
              "      <td>60.409721</td>\n",
              "      <td>-8.639405</td>\n",
              "      <td>27.175446</td>\n",
              "      <td>-11.813601</td>\n",
              "      <td>23.694099</td>\n",
              "      <td>-10.808640</td>\n",
              "      <td>...</td>\n",
              "      <td>30.068319</td>\n",
              "      <td>22.973669</td>\n",
              "      <td>2387.142347</td>\n",
              "      <td>676338.139173</td>\n",
              "      <td>4952.187069</td>\n",
              "      <td>1.580301e+06</td>\n",
              "      <td>2293.188541</td>\n",
              "      <td>161.499023</td>\n",
              "      <td>0.195759</td>\n",
              "      <td>10.0</td>\n",
              "    </tr>\n",
              "    <tr>\n",
              "      <th>2994</th>\n",
              "      <td>2994</td>\n",
              "      <td>-79.841385</td>\n",
              "      <td>86.854408</td>\n",
              "      <td>-31.068455</td>\n",
              "      <td>42.604511</td>\n",
              "      <td>-14.619045</td>\n",
              "      <td>25.868212</td>\n",
              "      <td>-12.330288</td>\n",
              "      <td>24.222828</td>\n",
              "      <td>-10.098413</td>\n",
              "      <td>...</td>\n",
              "      <td>94.726357</td>\n",
              "      <td>68.561623</td>\n",
              "      <td>2443.913744</td>\n",
              "      <td>503049.649659</td>\n",
              "      <td>4949.813921</td>\n",
              "      <td>1.552292e+06</td>\n",
              "      <td>2205.068832</td>\n",
              "      <td>143.554688</td>\n",
              "      <td>0.155610</td>\n",
              "      <td>10.0</td>\n",
              "    </tr>\n",
              "    <tr>\n",
              "      <th>2995</th>\n",
              "      <td>2995</td>\n",
              "      <td>-60.626938</td>\n",
              "      <td>88.976364</td>\n",
              "      <td>-27.342455</td>\n",
              "      <td>57.755955</td>\n",
              "      <td>-6.783169</td>\n",
              "      <td>28.629953</td>\n",
              "      <td>-6.876606</td>\n",
              "      <td>27.381920</td>\n",
              "      <td>-7.374969</td>\n",
              "      <td>...</td>\n",
              "      <td>31.716204</td>\n",
              "      <td>18.585651</td>\n",
              "      <td>2351.500788</td>\n",
              "      <td>210862.872106</td>\n",
              "      <td>4873.773236</td>\n",
              "      <td>6.275002e+05</td>\n",
              "      <td>2240.100029</td>\n",
              "      <td>151.999081</td>\n",
              "      <td>0.174838</td>\n",
              "      <td>10.0</td>\n",
              "    </tr>\n",
              "    <tr>\n",
              "      <th>2996</th>\n",
              "      <td>2996</td>\n",
              "      <td>-60.023518</td>\n",
              "      <td>89.758774</td>\n",
              "      <td>-24.660503</td>\n",
              "      <td>59.620594</td>\n",
              "      <td>-6.674701</td>\n",
              "      <td>29.780136</td>\n",
              "      <td>-5.587547</td>\n",
              "      <td>27.698629</td>\n",
              "      <td>-7.633963</td>\n",
              "      <td>...</td>\n",
              "      <td>26.771648</td>\n",
              "      <td>16.781343</td>\n",
              "      <td>2330.411264</td>\n",
              "      <td>231364.204438</td>\n",
              "      <td>4871.100321</td>\n",
              "      <td>6.854855e+05</td>\n",
              "      <td>2251.108731</td>\n",
              "      <td>143.554688</td>\n",
              "      <td>0.179334</td>\n",
              "      <td>10.0</td>\n",
              "    </tr>\n",
              "  </tbody>\n",
              "</table>\n",
              "<p>2997 rows × 49 columns</p>\n",
              "</div>\n",
              "      <button class=\"colab-df-convert\" onclick=\"convertToInteractive('df-677ee4b8-1b11-4f97-97fd-f1ffd04add2d')\"\n",
              "              title=\"Convert this dataframe to an interactive table.\"\n",
              "              style=\"display:none;\">\n",
              "        \n",
              "  <svg xmlns=\"http://www.w3.org/2000/svg\" height=\"24px\"viewBox=\"0 0 24 24\"\n",
              "       width=\"24px\">\n",
              "    <path d=\"M0 0h24v24H0V0z\" fill=\"none\"/>\n",
              "    <path d=\"M18.56 5.44l.94 2.06.94-2.06 2.06-.94-2.06-.94-.94-2.06-.94 2.06-2.06.94zm-11 1L8.5 8.5l.94-2.06 2.06-.94-2.06-.94L8.5 2.5l-.94 2.06-2.06.94zm10 10l.94 2.06.94-2.06 2.06-.94-2.06-.94-.94-2.06-.94 2.06-2.06.94z\"/><path d=\"M17.41 7.96l-1.37-1.37c-.4-.4-.92-.59-1.43-.59-.52 0-1.04.2-1.43.59L10.3 9.45l-7.72 7.72c-.78.78-.78 2.05 0 2.83L4 21.41c.39.39.9.59 1.41.59.51 0 1.02-.2 1.41-.59l7.78-7.78 2.81-2.81c.8-.78.8-2.07 0-2.86zM5.41 20L4 18.59l7.72-7.72 1.47 1.35L5.41 20z\"/>\n",
              "  </svg>\n",
              "      </button>\n",
              "      \n",
              "  <style>\n",
              "    .colab-df-container {\n",
              "      display:flex;\n",
              "      flex-wrap:wrap;\n",
              "      gap: 12px;\n",
              "    }\n",
              "\n",
              "    .colab-df-convert {\n",
              "      background-color: #E8F0FE;\n",
              "      border: none;\n",
              "      border-radius: 50%;\n",
              "      cursor: pointer;\n",
              "      display: none;\n",
              "      fill: #1967D2;\n",
              "      height: 32px;\n",
              "      padding: 0 0 0 0;\n",
              "      width: 32px;\n",
              "    }\n",
              "\n",
              "    .colab-df-convert:hover {\n",
              "      background-color: #E2EBFA;\n",
              "      box-shadow: 0px 1px 2px rgba(60, 64, 67, 0.3), 0px 1px 3px 1px rgba(60, 64, 67, 0.15);\n",
              "      fill: #174EA6;\n",
              "    }\n",
              "\n",
              "    [theme=dark] .colab-df-convert {\n",
              "      background-color: #3B4455;\n",
              "      fill: #D2E3FC;\n",
              "    }\n",
              "\n",
              "    [theme=dark] .colab-df-convert:hover {\n",
              "      background-color: #434B5C;\n",
              "      box-shadow: 0px 1px 3px 1px rgba(0, 0, 0, 0.15);\n",
              "      filter: drop-shadow(0px 1px 2px rgba(0, 0, 0, 0.3));\n",
              "      fill: #FFFFFF;\n",
              "    }\n",
              "  </style>\n",
              "\n",
              "      <script>\n",
              "        const buttonEl =\n",
              "          document.querySelector('#df-677ee4b8-1b11-4f97-97fd-f1ffd04add2d button.colab-df-convert');\n",
              "        buttonEl.style.display =\n",
              "          google.colab.kernel.accessAllowed ? 'block' : 'none';\n",
              "\n",
              "        async function convertToInteractive(key) {\n",
              "          const element = document.querySelector('#df-677ee4b8-1b11-4f97-97fd-f1ffd04add2d');\n",
              "          const dataTable =\n",
              "            await google.colab.kernel.invokeFunction('convertToInteractive',\n",
              "                                                     [key], {});\n",
              "          if (!dataTable) return;\n",
              "\n",
              "          const docLinkHtml = 'Like what you see? Visit the ' +\n",
              "            '<a target=\"_blank\" href=https://colab.research.google.com/notebooks/data_table.ipynb>data table notebook</a>'\n",
              "            + ' to learn more about interactive tables.';\n",
              "          element.innerHTML = '';\n",
              "          dataTable['output_type'] = 'display_data';\n",
              "          await google.colab.output.renderOutput(dataTable, element);\n",
              "          const docLink = document.createElement('div');\n",
              "          docLink.innerHTML = docLinkHtml;\n",
              "          element.appendChild(docLink);\n",
              "        }\n",
              "      </script>\n",
              "    </div>\n",
              "  </div>\n",
              "  "
            ]
          },
          "metadata": {},
          "execution_count": 65
        }
      ]
    },
    {
      "cell_type": "code",
      "source": [
        "df=df.iloc[:,1:]"
      ],
      "metadata": {
        "id": "4eyQJ0d-gE7M"
      },
      "execution_count": 66,
      "outputs": []
    },
    {
      "cell_type": "code",
      "source": [
        "df.describe()"
      ],
      "metadata": {
        "colab": {
          "base_uri": "https://localhost:8080/",
          "height": 411
        },
        "id": "Qu8uJ82SgHcu",
        "outputId": "9fa591d1-3e58-4af2-c956-fbb8fcbeef68"
      },
      "execution_count": 67,
      "outputs": [
        {
          "output_type": "execute_result",
          "data": {
            "text/plain": [
              "       mfcc_1_mean  mfcc_2_mean  mfcc_3_mean  mfcc_4_mean  mfcc_5_mean  \\\n",
              "count  2997.000000  2997.000000  2997.000000  2997.000000  2997.000000   \n",
              "mean   -145.035365   100.179849    -9.449853    36.741245    -1.542988   \n",
              "std     103.483240    32.819700    22.695000    17.069517    12.779859   \n",
              "min    -641.564026    -3.250568   -96.176956   -26.329733   -42.271309   \n",
              "25%    -201.927826    76.605659   -25.263832    24.326176   -10.595468   \n",
              "50%    -120.391640    98.224594   -11.244622    37.319221    -0.788321   \n",
              "75%     -70.605629   121.106895     5.681273    49.050644     7.861368   \n",
              "max     106.943062   233.001633    64.326019    83.337151    36.859047   \n",
              "\n",
              "       mfcc_6_mean  mfcc_7_mean  mfcc_8_mean  mfcc_9_mean  mfcc_10_mean  ...  \\\n",
              "count  2997.000000  2997.000000  2997.000000  2997.000000   2997.000000  ...   \n",
              "mean     14.980838    -5.443711    10.408792    -7.258528      7.972502  ...   \n",
              "std      12.161047    10.381835    10.715148     8.721684      8.291932  ...   \n",
              "min     -30.422886   -35.437805   -33.480228   -34.035717    -17.371851  ...   \n",
              "25%       5.458475   -13.639789     2.087038   -13.823023      1.609324  ...   \n",
              "50%      15.175303    -5.640686    10.156769    -7.698047      7.653004  ...   \n",
              "75%      24.618402     2.767098    19.238413    -0.552629     14.766555  ...   \n",
              "max      49.285900    24.245962    51.326118    23.484531     37.845589  ...   \n",
              "\n",
              "       mfcc_19_var  mfcc_20_var  spec_centroid_mean  spec_centroid_variance  \\\n",
              "count  2997.000000  2997.000000         2997.000000            2.997000e+03   \n",
              "mean     62.610185    65.893378         2202.429324            4.496740e+05   \n",
              "std      40.880528    47.297912          729.478880            4.143769e+05   \n",
              "min      11.670247     0.528655          518.949680            2.389426e+03   \n",
              "25%      37.338886    37.315002         1642.976531            1.587910e+05   \n",
              "50%      51.760159    53.387337         2221.041548            3.169764e+05   \n",
              "75%      75.467621    78.797989         2702.854269            5.957698e+05   \n",
              "max     560.703064   712.592102         5430.693426            3.347463e+06   \n",
              "\n",
              "       spec_rolloff_mean  spec_rolloff_var  spectral bandwidth        tempo  \\\n",
              "count        2997.000000      2.997000e+03         2997.000000  2997.000000   \n",
              "mean         4572.811665      1.759214e+06         2243.109200   121.121184   \n",
              "std          1600.509534      1.455008e+06          533.301991    20.842109   \n",
              "min           713.768228      1.260120e+03          695.900448    61.523438   \n",
              "25%          3387.657474      7.057572e+05         1893.795199   103.359375   \n",
              "50%          4664.511470      1.336523e+06         2226.766155   117.453835   \n",
              "75%          5574.751441      2.420049e+06         2590.672532   135.999178   \n",
              "max          9388.726368      9.884046e+06         3668.873197   184.570312   \n",
              "\n",
              "          rms_mean        genre  \n",
              "count  2997.000000  2997.000000  \n",
              "mean      0.130697     5.497497  \n",
              "std       0.066963     2.873108  \n",
              "min       0.001251     1.000000  \n",
              "25%       0.085237     3.000000  \n",
              "50%       0.121509     5.000000  \n",
              "75%       0.175791     8.000000  \n",
              "max       0.428984    10.000000  \n",
              "\n",
              "[8 rows x 48 columns]"
            ],
            "text/html": [
              "\n",
              "  <div id=\"df-bf83b5c3-46f2-4b78-9df2-bf2a9d49d594\">\n",
              "    <div class=\"colab-df-container\">\n",
              "      <div>\n",
              "<style scoped>\n",
              "    .dataframe tbody tr th:only-of-type {\n",
              "        vertical-align: middle;\n",
              "    }\n",
              "\n",
              "    .dataframe tbody tr th {\n",
              "        vertical-align: top;\n",
              "    }\n",
              "\n",
              "    .dataframe thead th {\n",
              "        text-align: right;\n",
              "    }\n",
              "</style>\n",
              "<table border=\"1\" class=\"dataframe\">\n",
              "  <thead>\n",
              "    <tr style=\"text-align: right;\">\n",
              "      <th></th>\n",
              "      <th>mfcc_1_mean</th>\n",
              "      <th>mfcc_2_mean</th>\n",
              "      <th>mfcc_3_mean</th>\n",
              "      <th>mfcc_4_mean</th>\n",
              "      <th>mfcc_5_mean</th>\n",
              "      <th>mfcc_6_mean</th>\n",
              "      <th>mfcc_7_mean</th>\n",
              "      <th>mfcc_8_mean</th>\n",
              "      <th>mfcc_9_mean</th>\n",
              "      <th>mfcc_10_mean</th>\n",
              "      <th>...</th>\n",
              "      <th>mfcc_19_var</th>\n",
              "      <th>mfcc_20_var</th>\n",
              "      <th>spec_centroid_mean</th>\n",
              "      <th>spec_centroid_variance</th>\n",
              "      <th>spec_rolloff_mean</th>\n",
              "      <th>spec_rolloff_var</th>\n",
              "      <th>spectral bandwidth</th>\n",
              "      <th>tempo</th>\n",
              "      <th>rms_mean</th>\n",
              "      <th>genre</th>\n",
              "    </tr>\n",
              "  </thead>\n",
              "  <tbody>\n",
              "    <tr>\n",
              "      <th>count</th>\n",
              "      <td>2997.000000</td>\n",
              "      <td>2997.000000</td>\n",
              "      <td>2997.000000</td>\n",
              "      <td>2997.000000</td>\n",
              "      <td>2997.000000</td>\n",
              "      <td>2997.000000</td>\n",
              "      <td>2997.000000</td>\n",
              "      <td>2997.000000</td>\n",
              "      <td>2997.000000</td>\n",
              "      <td>2997.000000</td>\n",
              "      <td>...</td>\n",
              "      <td>2997.000000</td>\n",
              "      <td>2997.000000</td>\n",
              "      <td>2997.000000</td>\n",
              "      <td>2.997000e+03</td>\n",
              "      <td>2997.000000</td>\n",
              "      <td>2.997000e+03</td>\n",
              "      <td>2997.000000</td>\n",
              "      <td>2997.000000</td>\n",
              "      <td>2997.000000</td>\n",
              "      <td>2997.000000</td>\n",
              "    </tr>\n",
              "    <tr>\n",
              "      <th>mean</th>\n",
              "      <td>-145.035365</td>\n",
              "      <td>100.179849</td>\n",
              "      <td>-9.449853</td>\n",
              "      <td>36.741245</td>\n",
              "      <td>-1.542988</td>\n",
              "      <td>14.980838</td>\n",
              "      <td>-5.443711</td>\n",
              "      <td>10.408792</td>\n",
              "      <td>-7.258528</td>\n",
              "      <td>7.972502</td>\n",
              "      <td>...</td>\n",
              "      <td>62.610185</td>\n",
              "      <td>65.893378</td>\n",
              "      <td>2202.429324</td>\n",
              "      <td>4.496740e+05</td>\n",
              "      <td>4572.811665</td>\n",
              "      <td>1.759214e+06</td>\n",
              "      <td>2243.109200</td>\n",
              "      <td>121.121184</td>\n",
              "      <td>0.130697</td>\n",
              "      <td>5.497497</td>\n",
              "    </tr>\n",
              "    <tr>\n",
              "      <th>std</th>\n",
              "      <td>103.483240</td>\n",
              "      <td>32.819700</td>\n",
              "      <td>22.695000</td>\n",
              "      <td>17.069517</td>\n",
              "      <td>12.779859</td>\n",
              "      <td>12.161047</td>\n",
              "      <td>10.381835</td>\n",
              "      <td>10.715148</td>\n",
              "      <td>8.721684</td>\n",
              "      <td>8.291932</td>\n",
              "      <td>...</td>\n",
              "      <td>40.880528</td>\n",
              "      <td>47.297912</td>\n",
              "      <td>729.478880</td>\n",
              "      <td>4.143769e+05</td>\n",
              "      <td>1600.509534</td>\n",
              "      <td>1.455008e+06</td>\n",
              "      <td>533.301991</td>\n",
              "      <td>20.842109</td>\n",
              "      <td>0.066963</td>\n",
              "      <td>2.873108</td>\n",
              "    </tr>\n",
              "    <tr>\n",
              "      <th>min</th>\n",
              "      <td>-641.564026</td>\n",
              "      <td>-3.250568</td>\n",
              "      <td>-96.176956</td>\n",
              "      <td>-26.329733</td>\n",
              "      <td>-42.271309</td>\n",
              "      <td>-30.422886</td>\n",
              "      <td>-35.437805</td>\n",
              "      <td>-33.480228</td>\n",
              "      <td>-34.035717</td>\n",
              "      <td>-17.371851</td>\n",
              "      <td>...</td>\n",
              "      <td>11.670247</td>\n",
              "      <td>0.528655</td>\n",
              "      <td>518.949680</td>\n",
              "      <td>2.389426e+03</td>\n",
              "      <td>713.768228</td>\n",
              "      <td>1.260120e+03</td>\n",
              "      <td>695.900448</td>\n",
              "      <td>61.523438</td>\n",
              "      <td>0.001251</td>\n",
              "      <td>1.000000</td>\n",
              "    </tr>\n",
              "    <tr>\n",
              "      <th>25%</th>\n",
              "      <td>-201.927826</td>\n",
              "      <td>76.605659</td>\n",
              "      <td>-25.263832</td>\n",
              "      <td>24.326176</td>\n",
              "      <td>-10.595468</td>\n",
              "      <td>5.458475</td>\n",
              "      <td>-13.639789</td>\n",
              "      <td>2.087038</td>\n",
              "      <td>-13.823023</td>\n",
              "      <td>1.609324</td>\n",
              "      <td>...</td>\n",
              "      <td>37.338886</td>\n",
              "      <td>37.315002</td>\n",
              "      <td>1642.976531</td>\n",
              "      <td>1.587910e+05</td>\n",
              "      <td>3387.657474</td>\n",
              "      <td>7.057572e+05</td>\n",
              "      <td>1893.795199</td>\n",
              "      <td>103.359375</td>\n",
              "      <td>0.085237</td>\n",
              "      <td>3.000000</td>\n",
              "    </tr>\n",
              "    <tr>\n",
              "      <th>50%</th>\n",
              "      <td>-120.391640</td>\n",
              "      <td>98.224594</td>\n",
              "      <td>-11.244622</td>\n",
              "      <td>37.319221</td>\n",
              "      <td>-0.788321</td>\n",
              "      <td>15.175303</td>\n",
              "      <td>-5.640686</td>\n",
              "      <td>10.156769</td>\n",
              "      <td>-7.698047</td>\n",
              "      <td>7.653004</td>\n",
              "      <td>...</td>\n",
              "      <td>51.760159</td>\n",
              "      <td>53.387337</td>\n",
              "      <td>2221.041548</td>\n",
              "      <td>3.169764e+05</td>\n",
              "      <td>4664.511470</td>\n",
              "      <td>1.336523e+06</td>\n",
              "      <td>2226.766155</td>\n",
              "      <td>117.453835</td>\n",
              "      <td>0.121509</td>\n",
              "      <td>5.000000</td>\n",
              "    </tr>\n",
              "    <tr>\n",
              "      <th>75%</th>\n",
              "      <td>-70.605629</td>\n",
              "      <td>121.106895</td>\n",
              "      <td>5.681273</td>\n",
              "      <td>49.050644</td>\n",
              "      <td>7.861368</td>\n",
              "      <td>24.618402</td>\n",
              "      <td>2.767098</td>\n",
              "      <td>19.238413</td>\n",
              "      <td>-0.552629</td>\n",
              "      <td>14.766555</td>\n",
              "      <td>...</td>\n",
              "      <td>75.467621</td>\n",
              "      <td>78.797989</td>\n",
              "      <td>2702.854269</td>\n",
              "      <td>5.957698e+05</td>\n",
              "      <td>5574.751441</td>\n",
              "      <td>2.420049e+06</td>\n",
              "      <td>2590.672532</td>\n",
              "      <td>135.999178</td>\n",
              "      <td>0.175791</td>\n",
              "      <td>8.000000</td>\n",
              "    </tr>\n",
              "    <tr>\n",
              "      <th>max</th>\n",
              "      <td>106.943062</td>\n",
              "      <td>233.001633</td>\n",
              "      <td>64.326019</td>\n",
              "      <td>83.337151</td>\n",
              "      <td>36.859047</td>\n",
              "      <td>49.285900</td>\n",
              "      <td>24.245962</td>\n",
              "      <td>51.326118</td>\n",
              "      <td>23.484531</td>\n",
              "      <td>37.845589</td>\n",
              "      <td>...</td>\n",
              "      <td>560.703064</td>\n",
              "      <td>712.592102</td>\n",
              "      <td>5430.693426</td>\n",
              "      <td>3.347463e+06</td>\n",
              "      <td>9388.726368</td>\n",
              "      <td>9.884046e+06</td>\n",
              "      <td>3668.873197</td>\n",
              "      <td>184.570312</td>\n",
              "      <td>0.428984</td>\n",
              "      <td>10.000000</td>\n",
              "    </tr>\n",
              "  </tbody>\n",
              "</table>\n",
              "<p>8 rows × 48 columns</p>\n",
              "</div>\n",
              "      <button class=\"colab-df-convert\" onclick=\"convertToInteractive('df-bf83b5c3-46f2-4b78-9df2-bf2a9d49d594')\"\n",
              "              title=\"Convert this dataframe to an interactive table.\"\n",
              "              style=\"display:none;\">\n",
              "        \n",
              "  <svg xmlns=\"http://www.w3.org/2000/svg\" height=\"24px\"viewBox=\"0 0 24 24\"\n",
              "       width=\"24px\">\n",
              "    <path d=\"M0 0h24v24H0V0z\" fill=\"none\"/>\n",
              "    <path d=\"M18.56 5.44l.94 2.06.94-2.06 2.06-.94-2.06-.94-.94-2.06-.94 2.06-2.06.94zm-11 1L8.5 8.5l.94-2.06 2.06-.94-2.06-.94L8.5 2.5l-.94 2.06-2.06.94zm10 10l.94 2.06.94-2.06 2.06-.94-2.06-.94-.94-2.06-.94 2.06-2.06.94z\"/><path d=\"M17.41 7.96l-1.37-1.37c-.4-.4-.92-.59-1.43-.59-.52 0-1.04.2-1.43.59L10.3 9.45l-7.72 7.72c-.78.78-.78 2.05 0 2.83L4 21.41c.39.39.9.59 1.41.59.51 0 1.02-.2 1.41-.59l7.78-7.78 2.81-2.81c.8-.78.8-2.07 0-2.86zM5.41 20L4 18.59l7.72-7.72 1.47 1.35L5.41 20z\"/>\n",
              "  </svg>\n",
              "      </button>\n",
              "      \n",
              "  <style>\n",
              "    .colab-df-container {\n",
              "      display:flex;\n",
              "      flex-wrap:wrap;\n",
              "      gap: 12px;\n",
              "    }\n",
              "\n",
              "    .colab-df-convert {\n",
              "      background-color: #E8F0FE;\n",
              "      border: none;\n",
              "      border-radius: 50%;\n",
              "      cursor: pointer;\n",
              "      display: none;\n",
              "      fill: #1967D2;\n",
              "      height: 32px;\n",
              "      padding: 0 0 0 0;\n",
              "      width: 32px;\n",
              "    }\n",
              "\n",
              "    .colab-df-convert:hover {\n",
              "      background-color: #E2EBFA;\n",
              "      box-shadow: 0px 1px 2px rgba(60, 64, 67, 0.3), 0px 1px 3px 1px rgba(60, 64, 67, 0.15);\n",
              "      fill: #174EA6;\n",
              "    }\n",
              "\n",
              "    [theme=dark] .colab-df-convert {\n",
              "      background-color: #3B4455;\n",
              "      fill: #D2E3FC;\n",
              "    }\n",
              "\n",
              "    [theme=dark] .colab-df-convert:hover {\n",
              "      background-color: #434B5C;\n",
              "      box-shadow: 0px 1px 3px 1px rgba(0, 0, 0, 0.15);\n",
              "      filter: drop-shadow(0px 1px 2px rgba(0, 0, 0, 0.3));\n",
              "      fill: #FFFFFF;\n",
              "    }\n",
              "  </style>\n",
              "\n",
              "      <script>\n",
              "        const buttonEl =\n",
              "          document.querySelector('#df-bf83b5c3-46f2-4b78-9df2-bf2a9d49d594 button.colab-df-convert');\n",
              "        buttonEl.style.display =\n",
              "          google.colab.kernel.accessAllowed ? 'block' : 'none';\n",
              "\n",
              "        async function convertToInteractive(key) {\n",
              "          const element = document.querySelector('#df-bf83b5c3-46f2-4b78-9df2-bf2a9d49d594');\n",
              "          const dataTable =\n",
              "            await google.colab.kernel.invokeFunction('convertToInteractive',\n",
              "                                                     [key], {});\n",
              "          if (!dataTable) return;\n",
              "\n",
              "          const docLinkHtml = 'Like what you see? Visit the ' +\n",
              "            '<a target=\"_blank\" href=https://colab.research.google.com/notebooks/data_table.ipynb>data table notebook</a>'\n",
              "            + ' to learn more about interactive tables.';\n",
              "          element.innerHTML = '';\n",
              "          dataTable['output_type'] = 'display_data';\n",
              "          await google.colab.output.renderOutput(dataTable, element);\n",
              "          const docLink = document.createElement('div');\n",
              "          docLink.innerHTML = docLinkHtml;\n",
              "          element.appendChild(docLink);\n",
              "        }\n",
              "      </script>\n",
              "    </div>\n",
              "  </div>\n",
              "  "
            ]
          },
          "metadata": {},
          "execution_count": 67
        }
      ]
    },
    {
      "cell_type": "code",
      "source": [
        "sns.heatmap(df.corr());\n",
        "plt.figure(figsize=(20, 20))"
      ],
      "metadata": {
        "colab": {
          "base_uri": "https://localhost:8080/",
          "height": 601
        },
        "id": "hnUmotBcgP68",
        "outputId": "3cfe840a-971b-4d83-c330-1e833b81a5aa"
      },
      "execution_count": 68,
      "outputs": [
        {
          "output_type": "execute_result",
          "data": {
            "text/plain": [
              "<Figure size 2000x2000 with 0 Axes>"
            ]
          },
          "metadata": {},
          "execution_count": 68
        },
        {
          "output_type": "display_data",
          "data": {
            "text/plain": [
              "<Figure size 640x480 with 2 Axes>"
            ],
            "image/png": "[encoded data removed]"
          },
          "metadata": {}
        },
        {
          "output_type": "display_data",
          "data": {
            "text/plain": [
              "<Figure size 2000x2000 with 0 Axes>"
            ]
          },
          "metadata": {}
        }
      ]
    },
    {
      "cell_type": "code",
      "source": [
        "df.corr()"
      ],
      "metadata": {
        "colab": {
          "base_uri": "https://localhost:8080/",
          "height": 1000
        },
        "id": "0U5aMijRhJp6",
        "outputId": "71dadf2b-c97b-4071-a295-e5cec17fdc28"
      },
      "execution_count": 69,
      "outputs": [
        {
          "output_type": "execute_result",
          "data": {
            "text/plain": [
              "                        mfcc_1_mean  mfcc_2_mean  mfcc_3_mean  mfcc_4_mean  \\\n",
              "mfcc_1_mean                1.000000    -0.625801    -0.091741     0.075403   \n",
              "mfcc_2_mean               -0.625801     1.000000    -0.273458     0.056659   \n",
              "mfcc_3_mean               -0.091741    -0.273458     1.000000    -0.380916   \n",
              "mfcc_4_mean                0.075403     0.056659    -0.380916     1.000000   \n",
              "mfcc_5_mean               -0.095529    -0.156269     0.590557    -0.413586   \n",
              "mfcc_6_mean                0.198455    -0.078854    -0.223607     0.649539   \n",
              "mfcc_7_mean                0.021267    -0.259299     0.504118    -0.418534   \n",
              "mfcc_8_mean                0.298539    -0.176210    -0.286574     0.618515   \n",
              "mfcc_9_mean                0.058354    -0.308847     0.426678    -0.425791   \n",
              "mfcc_10_mean               0.308706    -0.198870    -0.324700     0.521792   \n",
              "mfcc_11_mean              -0.013499    -0.202342     0.410170    -0.368671   \n",
              "mfcc_12_mean               0.295902    -0.163404    -0.305988     0.551726   \n",
              "mfcc_13_mean              -0.155367    -0.111157     0.400026    -0.432470   \n",
              "mfcc_14_mean               0.220467    -0.180066    -0.240066     0.419535   \n",
              "mfcc_15_mean              -0.179701    -0.067775     0.272293    -0.407329   \n",
              "mfcc_16_mean               0.162891    -0.145258    -0.271096     0.372379   \n",
              "mfcc_17_mean              -0.190056    -0.045100     0.218517    -0.365549   \n",
              "mfcc_18_mean               0.177814    -0.186863    -0.174736     0.138569   \n",
              "mfcc_19_mean              -0.122092    -0.020285     0.199679    -0.244089   \n",
              "mfcc_20_mean               0.166575    -0.214588    -0.070084     0.097908   \n",
              "mfcc_1_var                -0.322099     0.060406     0.195838    -0.140205   \n",
              "mfcc_2_var                -0.168430    -0.069628     0.303932    -0.236260   \n",
              "mfcc_3_var                -0.162190    -0.047465     0.243996    -0.079242   \n",
              "mfcc_4_var                 0.036325    -0.218036     0.279932    -0.174536   \n",
              "mfcc_5_var                -0.072973    -0.034527     0.174913    -0.067729   \n",
              "mfcc_6_var                 0.062460    -0.233405     0.269080    -0.195168   \n",
              "mfcc_7_var                -0.024569    -0.142090     0.163934    -0.074216   \n",
              "mfcc_8_var                -0.075973    -0.135873     0.171322    -0.151124   \n",
              "mfcc_9_var                -0.137268    -0.058585     0.162559    -0.147246   \n",
              "mfcc_10_var               -0.155509    -0.059846     0.153422    -0.140006   \n",
              "mfcc_11_var               -0.244445     0.013029     0.073142    -0.152849   \n",
              "mfcc_12_var               -0.304900     0.085718     0.033412    -0.138716   \n",
              "mfcc_13_var               -0.355361     0.079091     0.023742    -0.161356   \n",
              "mfcc_14_var               -0.325292     0.068693     0.015397    -0.166931   \n",
              "mfcc_15_var               -0.316539     0.069850     0.041920    -0.147272   \n",
              "mfcc_16_var               -0.278941     0.045820     0.089753    -0.194670   \n",
              "mfcc_17_var               -0.278590     0.039014     0.111944    -0.173188   \n",
              "mfcc_18_var               -0.269952     0.033221     0.096426    -0.182233   \n",
              "mfcc_19_var               -0.303540     0.033004     0.082406    -0.175466   \n",
              "mfcc_20_var               -0.353843     0.081116     0.058866    -0.188802   \n",
              "spec_centroid_mean         0.703661    -0.936066     0.195142    -0.154581   \n",
              "spec_centroid_variance     0.170224    -0.516588     0.545757    -0.332149   \n",
              "spec_rolloff_mean          0.705821    -0.929412     0.305323    -0.173214   \n",
              "spec_rolloff_var           0.029507    -0.268643     0.581167    -0.348500   \n",
              "spectral bandwidth         0.631906    -0.893039     0.506762    -0.292932   \n",
              "tempo                     -0.044629     0.049123    -0.043997     0.052869   \n",
              "rms_mean                   0.802234    -0.470613     0.140220    -0.013687   \n",
              "genre                     -0.000317     0.104849    -0.214594     0.413791   \n",
              "\n",
              "                        mfcc_5_mean  mfcc_6_mean  mfcc_7_mean  mfcc_8_mean  \\\n",
              "mfcc_1_mean               -0.095529     0.198455     0.021267     0.298539   \n",
              "mfcc_2_mean               -0.156269    -0.078854    -0.259299    -0.176210   \n",
              "mfcc_3_mean                0.590557    -0.223607     0.504118    -0.286574   \n",
              "mfcc_4_mean               -0.413586     0.649539    -0.418534     0.618515   \n",
              "mfcc_5_mean                1.000000    -0.401619     0.736519    -0.388656   \n",
              "mfcc_6_mean               -0.401619     1.000000    -0.451413     0.813579   \n",
              "mfcc_7_mean                0.736519    -0.451413     1.000000    -0.457552   \n",
              "mfcc_8_mean               -0.388656     0.813579    -0.457552     1.000000   \n",
              "mfcc_9_mean                0.630992    -0.417359     0.759029    -0.400187   \n",
              "mfcc_10_mean              -0.423743     0.692749    -0.401706     0.782019   \n",
              "mfcc_11_mean               0.608001    -0.403309     0.690876    -0.383801   \n",
              "mfcc_12_mean              -0.425382     0.681670    -0.405331     0.724655   \n",
              "mfcc_13_mean               0.592781    -0.447914     0.648106    -0.450421   \n",
              "mfcc_14_mean              -0.349092     0.533968    -0.313697     0.624694   \n",
              "mfcc_15_mean               0.490450    -0.440504     0.555696    -0.424418   \n",
              "mfcc_16_mean              -0.313972     0.422566    -0.283095     0.520403   \n",
              "mfcc_17_mean               0.326741    -0.370255     0.449346    -0.367026   \n",
              "mfcc_18_mean              -0.277382     0.287288    -0.230349     0.361688   \n",
              "mfcc_19_mean               0.299602    -0.288233     0.376488    -0.292778   \n",
              "mfcc_20_mean              -0.118203     0.138630    -0.029824     0.197622   \n",
              "mfcc_1_var                 0.255251    -0.131417     0.212198    -0.188616   \n",
              "mfcc_2_var                 0.302649    -0.215735     0.269031    -0.247413   \n",
              "mfcc_3_var                 0.310428    -0.091899     0.284420    -0.151437   \n",
              "mfcc_4_var                 0.260616    -0.147625     0.264178    -0.148228   \n",
              "mfcc_5_var                 0.219289    -0.048050     0.160400    -0.063523   \n",
              "mfcc_6_var                 0.275457    -0.193502     0.266233    -0.118731   \n",
              "mfcc_7_var                 0.127148     0.027599     0.087856     0.023538   \n",
              "mfcc_8_var                 0.173023    -0.131804     0.178897    -0.085390   \n",
              "mfcc_9_var                 0.148381    -0.102632     0.090940    -0.061046   \n",
              "mfcc_10_var                0.135457    -0.110714     0.103919    -0.067327   \n",
              "mfcc_11_var                0.089579    -0.144245     0.072014    -0.083288   \n",
              "mfcc_12_var                0.032411    -0.169445     0.023886    -0.132394   \n",
              "mfcc_13_var                0.029070    -0.157796     0.020315    -0.141323   \n",
              "mfcc_14_var                0.011673    -0.168422     0.035385    -0.159285   \n",
              "mfcc_15_var                0.003633    -0.134625     0.013878    -0.158685   \n",
              "mfcc_16_var                0.029265    -0.181162     0.054323    -0.212538   \n",
              "mfcc_17_var                0.048768    -0.143643     0.063989    -0.184655   \n",
              "mfcc_18_var                0.023812    -0.143281     0.069940    -0.181127   \n",
              "mfcc_19_var                0.008459    -0.156697     0.058101    -0.198606   \n",
              "mfcc_20_var                0.020918    -0.195484     0.070044    -0.226573   \n",
              "spec_centroid_mean         0.077908    -0.004155     0.212993     0.111502   \n",
              "spec_centroid_variance     0.447850    -0.192902     0.447399    -0.188557   \n",
              "spec_rolloff_mean          0.134678     0.015030     0.248552     0.117180   \n",
              "spec_rolloff_var           0.515755    -0.189922     0.431268    -0.195572   \n",
              "spectral bandwidth         0.312517    -0.080283     0.389215     0.012680   \n",
              "tempo                     -0.036430     0.065586    -0.048560     0.049189   \n",
              "rms_mean                   0.118078     0.101622     0.176575     0.159653   \n",
              "genre                     -0.285754     0.252718    -0.283657     0.231886   \n",
              "\n",
              "                        mfcc_9_mean  mfcc_10_mean  ...  mfcc_19_var  \\\n",
              "mfcc_1_mean                0.058354      0.308706  ...    -0.303540   \n",
              "mfcc_2_mean               -0.308847     -0.198870  ...     0.033004   \n",
              "mfcc_3_mean                0.426678     -0.324700  ...     0.082406   \n",
              "mfcc_4_mean               -0.425791      0.521792  ...    -0.175466   \n",
              "mfcc_5_mean                0.630992     -0.423743  ...     0.008459   \n",
              "mfcc_6_mean               -0.417359      0.692749  ...    -0.156697   \n",
              "mfcc_7_mean                0.759029     -0.401706  ...     0.058101   \n",
              "mfcc_8_mean               -0.400187      0.782019  ...    -0.198606   \n",
              "mfcc_9_mean                1.000000     -0.351639  ...     0.075888   \n",
              "mfcc_10_mean              -0.351639      1.000000  ...    -0.093177   \n",
              "mfcc_11_mean               0.682046     -0.310623  ...    -0.001902   \n",
              "mfcc_12_mean              -0.328087      0.761235  ...    -0.191482   \n",
              "mfcc_13_mean               0.631897     -0.404316  ...     0.091891   \n",
              "mfcc_14_mean              -0.235539      0.642900  ...    -0.090376   \n",
              "mfcc_15_mean               0.602118     -0.337486  ...     0.161493   \n",
              "mfcc_16_mean              -0.189917      0.545347  ...    -0.011567   \n",
              "mfcc_17_mean               0.509727     -0.266421  ...     0.298162   \n",
              "mfcc_18_mean              -0.096369      0.466483  ...     0.135184   \n",
              "mfcc_19_mean               0.374427     -0.199836  ...     0.291106   \n",
              "mfcc_20_mean               0.025087      0.299534  ...     0.103570   \n",
              "mfcc_1_var                 0.199071     -0.169502  ...     0.110338   \n",
              "mfcc_2_var                 0.251258     -0.243493  ...     0.151589   \n",
              "mfcc_3_var                 0.197606     -0.101616  ...     0.145621   \n",
              "mfcc_4_var                 0.231590     -0.113159  ...     0.123145   \n",
              "mfcc_5_var                 0.130024     -0.080152  ...     0.074249   \n",
              "mfcc_6_var                 0.202923     -0.069774  ...     0.156389   \n",
              "mfcc_7_var                 0.071964      0.013593  ...     0.162061   \n",
              "mfcc_8_var                 0.180281     -0.035879  ...     0.228554   \n",
              "mfcc_9_var                 0.081829     -0.054651  ...     0.266002   \n",
              "mfcc_10_var                0.089431     -0.023542  ...     0.317226   \n",
              "mfcc_11_var                0.109135     -0.041026  ...     0.342166   \n",
              "mfcc_12_var                0.067836     -0.076641  ...     0.404151   \n",
              "mfcc_13_var                0.065309     -0.094164  ...     0.451800   \n",
              "mfcc_14_var                0.055203     -0.095903  ...     0.519720   \n",
              "mfcc_15_var                0.013333     -0.100773  ...     0.551815   \n",
              "mfcc_16_var                0.026601     -0.137421  ...     0.623647   \n",
              "mfcc_17_var                0.030201     -0.123431  ...     0.635480   \n",
              "mfcc_18_var                0.050811     -0.113409  ...     0.749375   \n",
              "mfcc_19_var                0.075888     -0.093177  ...     1.000000   \n",
              "mfcc_20_var                0.094123     -0.114311  ...     0.795083   \n",
              "spec_centroid_mean         0.280444      0.171707  ...    -0.096550   \n",
              "spec_centroid_variance     0.425365     -0.156692  ...     0.064746   \n",
              "spec_rolloff_mean          0.304591      0.164883  ...    -0.102589   \n",
              "spec_rolloff_var           0.360718     -0.193683  ...     0.053487   \n",
              "spectral bandwidth         0.402017      0.048253  ...    -0.087245   \n",
              "tempo                     -0.040326      0.020869  ...    -0.037111   \n",
              "rms_mean                   0.218383      0.166169  ...    -0.157910   \n",
              "genre                     -0.283413      0.147632  ...    -0.037599   \n",
              "\n",
              "                        mfcc_20_var  spec_centroid_mean  \\\n",
              "mfcc_1_mean               -0.353843            0.703661   \n",
              "mfcc_2_mean                0.081116           -0.936066   \n",
              "mfcc_3_mean                0.058866            0.195142   \n",
              "mfcc_4_mean               -0.188802           -0.154581   \n",
              "mfcc_5_mean                0.020918            0.077908   \n",
              "mfcc_6_mean               -0.195484           -0.004155   \n",
              "mfcc_7_mean                0.070044            0.212993   \n",
              "mfcc_8_mean               -0.226573            0.111502   \n",
              "mfcc_9_mean                0.094123            0.280444   \n",
              "mfcc_10_mean              -0.114311            0.171707   \n",
              "mfcc_11_mean               0.041452            0.153750   \n",
              "mfcc_12_mean              -0.218822            0.151342   \n",
              "mfcc_13_mean               0.138230            0.056389   \n",
              "mfcc_14_mean              -0.098297            0.150278   \n",
              "mfcc_15_mean               0.190124            0.029714   \n",
              "mfcc_16_mean              -0.049564            0.134972   \n",
              "mfcc_17_mean               0.287699            0.029339   \n",
              "mfcc_18_mean               0.085037            0.208230   \n",
              "mfcc_19_mean               0.287272            0.019710   \n",
              "mfcc_20_mean               0.074542            0.239047   \n",
              "mfcc_1_var                 0.112723           -0.153765   \n",
              "mfcc_2_var                 0.155235            0.011463   \n",
              "mfcc_3_var                 0.132734           -0.050895   \n",
              "mfcc_4_var                 0.101141            0.153611   \n",
              "mfcc_5_var                 0.053422           -0.049225   \n",
              "mfcc_6_var                 0.110818            0.181604   \n",
              "mfcc_7_var                 0.130910            0.046868   \n",
              "mfcc_8_var                 0.230712            0.063043   \n",
              "mfcc_9_var                 0.253850           -0.026981   \n",
              "mfcc_10_var                0.334052           -0.022567   \n",
              "mfcc_11_var                0.389182           -0.091649   \n",
              "mfcc_12_var                0.455324           -0.153711   \n",
              "mfcc_13_var                0.487973           -0.152740   \n",
              "mfcc_14_var                0.525048           -0.144409   \n",
              "mfcc_15_var                0.547017           -0.148929   \n",
              "mfcc_16_var                0.572777           -0.117716   \n",
              "mfcc_17_var                0.576901           -0.109315   \n",
              "mfcc_18_var                0.647185           -0.094585   \n",
              "mfcc_19_var                0.795083           -0.096550   \n",
              "mfcc_20_var                1.000000           -0.146074   \n",
              "spec_centroid_mean        -0.146074            1.000000   \n",
              "spec_centroid_variance     0.034657            0.484750   \n",
              "spec_rolloff_mean         -0.159000            0.977603   \n",
              "spec_rolloff_var           0.033915            0.172447   \n",
              "spectral bandwidth        -0.142702            0.898931   \n",
              "tempo                     -0.043614           -0.067280   \n",
              "rms_mean                  -0.200646            0.493763   \n",
              "genre                     -0.049135           -0.123562   \n",
              "\n",
              "                        spec_centroid_variance  spec_rolloff_mean  \\\n",
              "mfcc_1_mean                           0.170224           0.705821   \n",
              "mfcc_2_mean                          -0.516588          -0.929412   \n",
              "mfcc_3_mean                           0.545757           0.305323   \n",
              "mfcc_4_mean                          -0.332149          -0.173214   \n",
              "mfcc_5_mean                           0.447850           0.134678   \n",
              "mfcc_6_mean                          -0.192902           0.015030   \n",
              "mfcc_7_mean                           0.447399           0.248552   \n",
              "mfcc_8_mean                          -0.188557           0.117180   \n",
              "mfcc_9_mean                           0.425365           0.304591   \n",
              "mfcc_10_mean                         -0.156692           0.164883   \n",
              "mfcc_11_mean                          0.353778           0.176416   \n",
              "mfcc_12_mean                         -0.164893           0.141537   \n",
              "mfcc_13_mean                          0.330046           0.086100   \n",
              "mfcc_14_mean                         -0.142685           0.139431   \n",
              "mfcc_15_mean                          0.278046           0.037545   \n",
              "mfcc_16_mean                         -0.168886           0.114835   \n",
              "mfcc_17_mean                          0.162554           0.038747   \n",
              "mfcc_18_mean                         -0.058077           0.185450   \n",
              "mfcc_19_mean                          0.163317           0.037165   \n",
              "mfcc_20_mean                         -0.018189           0.226645   \n",
              "mfcc_1_var                            0.409492          -0.146032   \n",
              "mfcc_2_var                            0.719115           0.004035   \n",
              "mfcc_3_var                            0.432322          -0.046821   \n",
              "mfcc_4_var                            0.550706           0.164159   \n",
              "mfcc_5_var                            0.407362          -0.034333   \n",
              "mfcc_6_var                            0.555435           0.198249   \n",
              "mfcc_7_var                            0.430033           0.058562   \n",
              "mfcc_8_var                            0.419603           0.067571   \n",
              "mfcc_9_var                            0.376123          -0.018499   \n",
              "mfcc_10_var                           0.336166          -0.016854   \n",
              "mfcc_11_var                           0.222112          -0.099369   \n",
              "mfcc_12_var                           0.141148          -0.167861   \n",
              "mfcc_13_var                           0.134600          -0.168205   \n",
              "mfcc_14_var                           0.088140          -0.158555   \n",
              "mfcc_15_var                           0.076209          -0.158299   \n",
              "mfcc_16_var                           0.102779          -0.122616   \n",
              "mfcc_17_var                           0.104832          -0.113581   \n",
              "mfcc_18_var                           0.075519          -0.096730   \n",
              "mfcc_19_var                           0.064746          -0.102589   \n",
              "mfcc_20_var                           0.034657          -0.159000   \n",
              "spec_centroid_mean                    0.484750           0.977603   \n",
              "spec_centroid_variance                1.000000           0.510828   \n",
              "spec_rolloff_mean                     0.510828           1.000000   \n",
              "spec_rolloff_var                      0.802606           0.239969   \n",
              "spectral bandwidth                    0.587614           0.954186   \n",
              "tempo                                -0.091626          -0.066098   \n",
              "rms_mean                              0.266537           0.522074   \n",
              "genre                                -0.307302          -0.155532   \n",
              "\n",
              "                        spec_rolloff_var  spectral bandwidth     tempo  \\\n",
              "mfcc_1_mean                     0.029507            0.631906 -0.044629   \n",
              "mfcc_2_mean                    -0.268643           -0.893039  0.049123   \n",
              "mfcc_3_mean                     0.581167            0.506762 -0.043997   \n",
              "mfcc_4_mean                    -0.348500           -0.292932  0.052869   \n",
              "mfcc_5_mean                     0.515755            0.312517 -0.036430   \n",
              "mfcc_6_mean                    -0.189922           -0.080283  0.065586   \n",
              "mfcc_7_mean                     0.431268            0.389215 -0.048560   \n",
              "mfcc_8_mean                    -0.195572            0.012680  0.049189   \n",
              "mfcc_9_mean                     0.360718            0.402017 -0.040326   \n",
              "mfcc_10_mean                   -0.193683            0.048253  0.020869   \n",
              "mfcc_11_mean                    0.326648            0.290339 -0.057668   \n",
              "mfcc_12_mean                   -0.222282            0.024373  0.016888   \n",
              "mfcc_13_mean                    0.325604            0.205753 -0.042887   \n",
              "mfcc_14_mean                   -0.208281            0.043478 -0.004624   \n",
              "mfcc_15_mean                    0.257226            0.127599 -0.034363   \n",
              "mfcc_16_mean                   -0.238818            0.019194  0.033118   \n",
              "mfcc_17_mean                    0.114609            0.098588 -0.069821   \n",
              "mfcc_18_mean                   -0.142192            0.100592  0.022656   \n",
              "mfcc_19_mean                    0.118667            0.084976 -0.030700   \n",
              "mfcc_20_mean                   -0.120462            0.166127  0.008234   \n",
              "mfcc_1_var                      0.437362           -0.094385 -0.039305   \n",
              "mfcc_2_var                      0.675807            0.076315 -0.039840   \n",
              "mfcc_3_var                      0.434331            0.004893 -0.082446   \n",
              "mfcc_4_var                      0.494619            0.209620 -0.074711   \n",
              "mfcc_5_var                      0.411252            0.001466 -0.034750   \n",
              "mfcc_6_var                      0.497711            0.245068 -0.100429   \n",
              "mfcc_7_var                      0.420465            0.084744 -0.014971   \n",
              "mfcc_8_var                      0.380709            0.094543 -0.071828   \n",
              "mfcc_9_var                      0.371184            0.017343 -0.048094   \n",
              "mfcc_10_var                     0.329635            0.015329 -0.042543   \n",
              "mfcc_11_var                     0.214507           -0.080649 -0.019706   \n",
              "mfcc_12_var                     0.133714           -0.155977 -0.010299   \n",
              "mfcc_13_var                     0.122653           -0.157985 -0.019216   \n",
              "mfcc_14_var                     0.092507           -0.145090  0.006050   \n",
              "mfcc_15_var                     0.090651           -0.141235 -0.033152   \n",
              "mfcc_16_var                     0.109861           -0.095049 -0.040323   \n",
              "mfcc_17_var                     0.097778           -0.089641 -0.034653   \n",
              "mfcc_18_var                     0.076303           -0.075259 -0.027587   \n",
              "mfcc_19_var                     0.053487           -0.087245 -0.037111   \n",
              "mfcc_20_var                     0.033915           -0.142702 -0.043614   \n",
              "spec_centroid_mean              0.172447            0.898931 -0.067280   \n",
              "spec_centroid_variance          0.802606            0.587614 -0.091626   \n",
              "spec_rolloff_mean               0.239969            0.954186 -0.066098   \n",
              "spec_rolloff_var                1.000000            0.416514 -0.039224   \n",
              "spectral bandwidth              0.416514            1.000000 -0.066112   \n",
              "tempo                          -0.039224           -0.066112  1.000000   \n",
              "rms_mean                        0.161952            0.514568 -0.090847   \n",
              "genre                          -0.290538           -0.219667 -0.021202   \n",
              "\n",
              "                        rms_mean     genre  \n",
              "mfcc_1_mean             0.802234 -0.000317  \n",
              "mfcc_2_mean            -0.470613  0.104849  \n",
              "mfcc_3_mean             0.140220 -0.214594  \n",
              "mfcc_4_mean            -0.013687  0.413791  \n",
              "mfcc_5_mean             0.118078 -0.285754  \n",
              "mfcc_6_mean             0.101622  0.252718  \n",
              "mfcc_7_mean             0.176575 -0.283657  \n",
              "mfcc_8_mean             0.159653  0.231886  \n",
              "mfcc_9_mean             0.218383 -0.283413  \n",
              "mfcc_10_mean            0.166169  0.147632  \n",
              "mfcc_11_mean            0.125945 -0.238227  \n",
              "mfcc_12_mean            0.163050  0.200290  \n",
              "mfcc_13_mean            0.025815 -0.302629  \n",
              "mfcc_14_mean            0.145693  0.158954  \n",
              "mfcc_15_mean            0.001655 -0.267510  \n",
              "mfcc_16_mean            0.072153  0.159093  \n",
              "mfcc_17_mean           -0.023836 -0.209257  \n",
              "mfcc_18_mean            0.106172 -0.010766  \n",
              "mfcc_19_mean            0.026314 -0.140197  \n",
              "mfcc_20_mean            0.106816 -0.001694  \n",
              "mfcc_1_var             -0.152540 -0.192559  \n",
              "mfcc_2_var             -0.011396 -0.232542  \n",
              "mfcc_3_var              0.008445 -0.126624  \n",
              "mfcc_4_var              0.167567 -0.258328  \n",
              "mfcc_5_var              0.079331 -0.206482  \n",
              "mfcc_6_var              0.206291 -0.273551  \n",
              "mfcc_7_var              0.106891 -0.206846  \n",
              "mfcc_8_var              0.079288 -0.201504  \n",
              "mfcc_9_var              0.034100 -0.202334  \n",
              "mfcc_10_var             0.013240 -0.232121  \n",
              "mfcc_11_var            -0.080702 -0.186318  \n",
              "mfcc_12_var            -0.144754 -0.142523  \n",
              "mfcc_13_var            -0.182861 -0.145955  \n",
              "mfcc_14_var            -0.169769 -0.090241  \n",
              "mfcc_15_var            -0.168070 -0.065157  \n",
              "mfcc_16_var            -0.115034 -0.057828  \n",
              "mfcc_17_var            -0.121156 -0.053309  \n",
              "mfcc_18_var            -0.130025 -0.043998  \n",
              "mfcc_19_var            -0.157910 -0.037599  \n",
              "mfcc_20_var            -0.200646 -0.049135  \n",
              "spec_centroid_mean      0.493763 -0.123562  \n",
              "spec_centroid_variance  0.266537 -0.307302  \n",
              "spec_rolloff_mean       0.522074 -0.155532  \n",
              "spec_rolloff_var        0.161952 -0.290538  \n",
              "spectral bandwidth      0.514568 -0.219667  \n",
              "tempo                  -0.090847 -0.021202  \n",
              "rms_mean                1.000000 -0.007934  \n",
              "genre                  -0.007934  1.000000  \n",
              "\n",
              "[48 rows x 48 columns]"
            ],
            "text/html": [
              "\n",
              "  <div id=\"df-b42643f6-2756-41a0-9be4-f7f6e723417a\">\n",
              "    <div class=\"colab-df-container\">\n",
              "      <div>\n",
              "<style scoped>\n",
              "    .dataframe tbody tr th:only-of-type {\n",
              "        vertical-align: middle;\n",
              "    }\n",
              "\n",
              "    .dataframe tbody tr th {\n",
              "        vertical-align: top;\n",
              "    }\n",
              "\n",
              "    .dataframe thead th {\n",
              "        text-align: right;\n",
              "    }\n",
              "</style>\n",
              "<table border=\"1\" class=\"dataframe\">\n",
              "  <thead>\n",
              "    <tr style=\"text-align: right;\">\n",
              "      <th></th>\n",
              "      <th>mfcc_1_mean</th>\n",
              "      <th>mfcc_2_mean</th>\n",
              "      <th>mfcc_3_mean</th>\n",
              "      <th>mfcc_4_mean</th>\n",
              "      <th>mfcc_5_mean</th>\n",
              "      <th>mfcc_6_mean</th>\n",
              "      <th>mfcc_7_mean</th>\n",
              "      <th>mfcc_8_mean</th>\n",
              "      <th>mfcc_9_mean</th>\n",
              "      <th>mfcc_10_mean</th>\n",
              "      <th>...</th>\n",
              "      <th>mfcc_19_var</th>\n",
              "      <th>mfcc_20_var</th>\n",
              "      <th>spec_centroid_mean</th>\n",
              "      <th>spec_centroid_variance</th>\n",
              "      <th>spec_rolloff_mean</th>\n",
              "      <th>spec_rolloff_var</th>\n",
              "      <th>spectral bandwidth</th>\n",
              "      <th>tempo</th>\n",
              "      <th>rms_mean</th>\n",
              "      <th>genre</th>\n",
              "    </tr>\n",
              "  </thead>\n",
              "  <tbody>\n",
              "    <tr>\n",
              "      <th>mfcc_1_mean</th>\n",
              "      <td>1.000000</td>\n",
              "      <td>-0.625801</td>\n",
              "      <td>-0.091741</td>\n",
              "      <td>0.075403</td>\n",
              "      <td>-0.095529</td>\n",
              "      <td>0.198455</td>\n",
              "      <td>0.021267</td>\n",
              "      <td>0.298539</td>\n",
              "      <td>0.058354</td>\n",
              "      <td>0.308706</td>\n",
              "      <td>...</td>\n",
              "      <td>-0.303540</td>\n",
              "      <td>-0.353843</td>\n",
              "      <td>0.703661</td>\n",
              "      <td>0.170224</td>\n",
              "      <td>0.705821</td>\n",
              "      <td>0.029507</td>\n",
              "      <td>0.631906</td>\n",
              "      <td>-0.044629</td>\n",
              "      <td>0.802234</td>\n",
              "      <td>-0.000317</td>\n",
              "    </tr>\n",
              "    <tr>\n",
              "      <th>mfcc_2_mean</th>\n",
              "      <td>-0.625801</td>\n",
              "      <td>1.000000</td>\n",
              "      <td>-0.273458</td>\n",
              "      <td>0.056659</td>\n",
              "      <td>-0.156269</td>\n",
              "      <td>-0.078854</td>\n",
              "      <td>-0.259299</td>\n",
              "      <td>-0.176210</td>\n",
              "      <td>-0.308847</td>\n",
              "      <td>-0.198870</td>\n",
              "      <td>...</td>\n",
              "      <td>0.033004</td>\n",
              "      <td>0.081116</td>\n",
              "      <td>-0.936066</td>\n",
              "      <td>-0.516588</td>\n",
              "      <td>-0.929412</td>\n",
              "      <td>-0.268643</td>\n",
              "      <td>-0.893039</td>\n",
              "      <td>0.049123</td>\n",
              "      <td>-0.470613</td>\n",
              "      <td>0.104849</td>\n",
              "    </tr>\n",
              "    <tr>\n",
              "      <th>mfcc_3_mean</th>\n",
              "      <td>-0.091741</td>\n",
              "      <td>-0.273458</td>\n",
              "      <td>1.000000</td>\n",
              "      <td>-0.380916</td>\n",
              "      <td>0.590557</td>\n",
              "      <td>-0.223607</td>\n",
              "      <td>0.504118</td>\n",
              "      <td>-0.286574</td>\n",
              "      <td>0.426678</td>\n",
              "      <td>-0.324700</td>\n",
              "      <td>...</td>\n",
              "      <td>0.082406</td>\n",
              "      <td>0.058866</td>\n",
              "      <td>0.195142</td>\n",
              "      <td>0.545757</td>\n",
              "      <td>0.305323</td>\n",
              "      <td>0.581167</td>\n",
              "      <td>0.506762</td>\n",
              "      <td>-0.043997</td>\n",
              "      <td>0.140220</td>\n",
              "      <td>-0.214594</td>\n",
              "    </tr>\n",
              "    <tr>\n",
              "      <th>mfcc_4_mean</th>\n",
              "      <td>0.075403</td>\n",
              "      <td>0.056659</td>\n",
              "      <td>-0.380916</td>\n",
              "      <td>1.000000</td>\n",
              "      <td>-0.413586</td>\n",
              "      <td>0.649539</td>\n",
              "      <td>-0.418534</td>\n",
              "      <td>0.618515</td>\n",
              "      <td>-0.425791</td>\n",
              "      <td>0.521792</td>\n",
              "      <td>...</td>\n",
              "      <td>-0.175466</td>\n",
              "      <td>-0.188802</td>\n",
              "      <td>-0.154581</td>\n",
              "      <td>-0.332149</td>\n",
              "      <td>-0.173214</td>\n",
              "      <td>-0.348500</td>\n",
              "      <td>-0.292932</td>\n",
              "      <td>0.052869</td>\n",
              "      <td>-0.013687</td>\n",
              "      <td>0.413791</td>\n",
              "    </tr>\n",
              "    <tr>\n",
              "      <th>mfcc_5_mean</th>\n",
              "      <td>-0.095529</td>\n",
              "      <td>-0.156269</td>\n",
              "      <td>0.590557</td>\n",
              "      <td>-0.413586</td>\n",
              "      <td>1.000000</td>\n",
              "      <td>-0.401619</td>\n",
              "      <td>0.736519</td>\n",
              "      <td>-0.388656</td>\n",
              "      <td>0.630992</td>\n",
              "      <td>-0.423743</td>\n",
              "      <td>...</td>\n",
              "      <td>0.008459</td>\n",
              "      <td>0.020918</td>\n",
              "      <td>0.077908</td>\n",
              "      <td>0.447850</td>\n",
              "      <td>0.134678</td>\n",
              "      <td>0.515755</td>\n",
              "      <td>0.312517</td>\n",
              "      <td>-0.036430</td>\n",
              "      <td>0.118078</td>\n",
              "      <td>-0.285754</td>\n",
              "    </tr>\n",
              "    <tr>\n",
              "      <th>mfcc_6_mean</th>\n",
              "      <td>0.198455</td>\n",
              "      <td>-0.078854</td>\n",
              "      <td>-0.223607</td>\n",
              "      <td>0.649539</td>\n",
              "      <td>-0.401619</td>\n",
              "      <td>1.000000</td>\n",
              "      <td>-0.451413</td>\n",
              "      <td>0.813579</td>\n",
              "      <td>-0.417359</td>\n",
              "      <td>0.692749</td>\n",
              "      <td>...</td>\n",
              "      <td>-0.156697</td>\n",
              "      <td>-0.195484</td>\n",
              "      <td>-0.004155</td>\n",
              "      <td>-0.192902</td>\n",
              "      <td>0.015030</td>\n",
              "      <td>-0.189922</td>\n",
              "      <td>-0.080283</td>\n",
              "      <td>0.065586</td>\n",
              "      <td>0.101622</td>\n",
              "      <td>0.252718</td>\n",
              "    </tr>\n",
              "    <tr>\n",
              "      <th>mfcc_7_mean</th>\n",
              "      <td>0.021267</td>\n",
              "      <td>-0.259299</td>\n",
              "      <td>0.504118</td>\n",
              "      <td>-0.418534</td>\n",
              "      <td>0.736519</td>\n",
              "      <td>-0.451413</td>\n",
              "      <td>1.000000</td>\n",
              "      <td>-0.457552</td>\n",
              "      <td>0.759029</td>\n",
              "      <td>-0.401706</td>\n",
              "      <td>...</td>\n",
              "      <td>0.058101</td>\n",
              "      <td>0.070044</td>\n",
              "      <td>0.212993</td>\n",
              "      <td>0.447399</td>\n",
              "      <td>0.248552</td>\n",
              "      <td>0.431268</td>\n",
              "      <td>0.389215</td>\n",
              "      <td>-0.048560</td>\n",
              "      <td>0.176575</td>\n",
              "      <td>-0.283657</td>\n",
              "    </tr>\n",
              "    <tr>\n",
              "      <th>mfcc_8_mean</th>\n",
              "      <td>0.298539</td>\n",
              "      <td>-0.176210</td>\n",
              "      <td>-0.286574</td>\n",
              "      <td>0.618515</td>\n",
              "      <td>-0.388656</td>\n",
              "      <td>0.813579</td>\n",
              "      <td>-0.457552</td>\n",
              "      <td>1.000000</td>\n",
              "      <td>-0.400187</td>\n",
              "      <td>0.782019</td>\n",
              "      <td>...</td>\n",
              "      <td>-0.198606</td>\n",
              "      <td>-0.226573</td>\n",
              "      <td>0.111502</td>\n",
              "      <td>-0.188557</td>\n",
              "      <td>0.117180</td>\n",
              "      <td>-0.195572</td>\n",
              "      <td>0.012680</td>\n",
              "      <td>0.049189</td>\n",
              "      <td>0.159653</td>\n",
              "      <td>0.231886</td>\n",
              "    </tr>\n",
              "    <tr>\n",
              "      <th>mfcc_9_mean</th>\n",
              "      <td>0.058354</td>\n",
              "      <td>-0.308847</td>\n",
              "      <td>0.426678</td>\n",
              "      <td>-0.425791</td>\n",
              "      <td>0.630992</td>\n",
              "      <td>-0.417359</td>\n",
              "      <td>0.759029</td>\n",
              "      <td>-0.400187</td>\n",
              "      <td>1.000000</td>\n",
              "      <td>-0.351639</td>\n",
              "      <td>...</td>\n",
              "      <td>0.075888</td>\n",
              "      <td>0.094123</td>\n",
              "      <td>0.280444</td>\n",
              "      <td>0.425365</td>\n",
              "      <td>0.304591</td>\n",
              "      <td>0.360718</td>\n",
              "      <td>0.402017</td>\n",
              "      <td>-0.040326</td>\n",
              "      <td>0.218383</td>\n",
              "      <td>-0.283413</td>\n",
              "    </tr>\n",
              "    <tr>\n",
              "      <th>mfcc_10_mean</th>\n",
              "      <td>0.308706</td>\n",
              "      <td>-0.198870</td>\n",
              "      <td>-0.324700</td>\n",
              "      <td>0.521792</td>\n",
              "      <td>-0.423743</td>\n",
              "      <td>0.692749</td>\n",
              "      <td>-0.401706</td>\n",
              "      <td>0.782019</td>\n",
              "      <td>-0.351639</td>\n",
              "      <td>1.000000</td>\n",
              "      <td>...</td>\n",
              "      <td>-0.093177</td>\n",
              "      <td>-0.114311</td>\n",
              "      <td>0.171707</td>\n",
              "      <td>-0.156692</td>\n",
              "      <td>0.164883</td>\n",
              "      <td>-0.193683</td>\n",
              "      <td>0.048253</td>\n",
              "      <td>0.020869</td>\n",
              "      <td>0.166169</td>\n",
              "      <td>0.147632</td>\n",
              "    </tr>\n",
              "    <tr>\n",
              "      <th>mfcc_11_mean</th>\n",
              "      <td>-0.013499</td>\n",
              "      <td>-0.202342</td>\n",
              "      <td>0.410170</td>\n",
              "      <td>-0.368671</td>\n",
              "      <td>0.608001</td>\n",
              "      <td>-0.403309</td>\n",
              "      <td>0.690876</td>\n",
              "      <td>-0.383801</td>\n",
              "      <td>0.682046</td>\n",
              "      <td>-0.310623</td>\n",
              "      <td>...</td>\n",
              "      <td>-0.001902</td>\n",
              "      <td>0.041452</td>\n",
              "      <td>0.153750</td>\n",
              "      <td>0.353778</td>\n",
              "      <td>0.176416</td>\n",
              "      <td>0.326648</td>\n",
              "      <td>0.290339</td>\n",
              "      <td>-0.057668</td>\n",
              "      <td>0.125945</td>\n",
              "      <td>-0.238227</td>\n",
              "    </tr>\n",
              "    <tr>\n",
              "      <th>mfcc_12_mean</th>\n",
              "      <td>0.295902</td>\n",
              "      <td>-0.163404</td>\n",
              "      <td>-0.305988</td>\n",
              "      <td>0.551726</td>\n",
              "      <td>-0.425382</td>\n",
              "      <td>0.681670</td>\n",
              "      <td>-0.405331</td>\n",
              "      <td>0.724655</td>\n",
              "      <td>-0.328087</td>\n",
              "      <td>0.761235</td>\n",
              "      <td>...</td>\n",
              "      <td>-0.191482</td>\n",
              "      <td>-0.218822</td>\n",
              "      <td>0.151342</td>\n",
              "      <td>-0.164893</td>\n",
              "      <td>0.141537</td>\n",
              "      <td>-0.222282</td>\n",
              "      <td>0.024373</td>\n",
              "      <td>0.016888</td>\n",
              "      <td>0.163050</td>\n",
              "      <td>0.200290</td>\n",
              "    </tr>\n",
              "    <tr>\n",
              "      <th>mfcc_13_mean</th>\n",
              "      <td>-0.155367</td>\n",
              "      <td>-0.111157</td>\n",
              "      <td>0.400026</td>\n",
              "      <td>-0.432470</td>\n",
              "      <td>0.592781</td>\n",
              "      <td>-0.447914</td>\n",
              "      <td>0.648106</td>\n",
              "      <td>-0.450421</td>\n",
              "      <td>0.631897</td>\n",
              "      <td>-0.404316</td>\n",
              "      <td>...</td>\n",
              "      <td>0.091891</td>\n",
              "      <td>0.138230</td>\n",
              "      <td>0.056389</td>\n",
              "      <td>0.330046</td>\n",
              "      <td>0.086100</td>\n",
              "      <td>0.325604</td>\n",
              "      <td>0.205753</td>\n",
              "      <td>-0.042887</td>\n",
              "      <td>0.025815</td>\n",
              "      <td>-0.302629</td>\n",
              "    </tr>\n",
              "    <tr>\n",
              "      <th>mfcc_14_mean</th>\n",
              "      <td>0.220467</td>\n",
              "      <td>-0.180066</td>\n",
              "      <td>-0.240066</td>\n",
              "      <td>0.419535</td>\n",
              "      <td>-0.349092</td>\n",
              "      <td>0.533968</td>\n",
              "      <td>-0.313697</td>\n",
              "      <td>0.624694</td>\n",
              "      <td>-0.235539</td>\n",
              "      <td>0.642900</td>\n",
              "      <td>...</td>\n",
              "      <td>-0.090376</td>\n",
              "      <td>-0.098297</td>\n",
              "      <td>0.150278</td>\n",
              "      <td>-0.142685</td>\n",
              "      <td>0.139431</td>\n",
              "      <td>-0.208281</td>\n",
              "      <td>0.043478</td>\n",
              "      <td>-0.004624</td>\n",
              "      <td>0.145693</td>\n",
              "      <td>0.158954</td>\n",
              "    </tr>\n",
              "    <tr>\n",
              "      <th>mfcc_15_mean</th>\n",
              "      <td>-0.179701</td>\n",
              "      <td>-0.067775</td>\n",
              "      <td>0.272293</td>\n",
              "      <td>-0.407329</td>\n",
              "      <td>0.490450</td>\n",
              "      <td>-0.440504</td>\n",
              "      <td>0.555696</td>\n",
              "      <td>-0.424418</td>\n",
              "      <td>0.602118</td>\n",
              "      <td>-0.337486</td>\n",
              "      <td>...</td>\n",
              "      <td>0.161493</td>\n",
              "      <td>0.190124</td>\n",
              "      <td>0.029714</td>\n",
              "      <td>0.278046</td>\n",
              "      <td>0.037545</td>\n",
              "      <td>0.257226</td>\n",
              "      <td>0.127599</td>\n",
              "      <td>-0.034363</td>\n",
              "      <td>0.001655</td>\n",
              "      <td>-0.267510</td>\n",
              "    </tr>\n",
              "    <tr>\n",
              "      <th>mfcc_16_mean</th>\n",
              "      <td>0.162891</td>\n",
              "      <td>-0.145258</td>\n",
              "      <td>-0.271096</td>\n",
              "      <td>0.372379</td>\n",
              "      <td>-0.313972</td>\n",
              "      <td>0.422566</td>\n",
              "      <td>-0.283095</td>\n",
              "      <td>0.520403</td>\n",
              "      <td>-0.189917</td>\n",
              "      <td>0.545347</td>\n",
              "      <td>...</td>\n",
              "      <td>-0.011567</td>\n",
              "      <td>-0.049564</td>\n",
              "      <td>0.134972</td>\n",
              "      <td>-0.168886</td>\n",
              "      <td>0.114835</td>\n",
              "      <td>-0.238818</td>\n",
              "      <td>0.019194</td>\n",
              "      <td>0.033118</td>\n",
              "      <td>0.072153</td>\n",
              "      <td>0.159093</td>\n",
              "    </tr>\n",
              "    <tr>\n",
              "      <th>mfcc_17_mean</th>\n",
              "      <td>-0.190056</td>\n",
              "      <td>-0.045100</td>\n",
              "      <td>0.218517</td>\n",
              "      <td>-0.365549</td>\n",
              "      <td>0.326741</td>\n",
              "      <td>-0.370255</td>\n",
              "      <td>0.449346</td>\n",
              "      <td>-0.367026</td>\n",
              "      <td>0.509727</td>\n",
              "      <td>-0.266421</td>\n",
              "      <td>...</td>\n",
              "      <td>0.298162</td>\n",
              "      <td>0.287699</td>\n",
              "      <td>0.029339</td>\n",
              "      <td>0.162554</td>\n",
              "      <td>0.038747</td>\n",
              "      <td>0.114609</td>\n",
              "      <td>0.098588</td>\n",
              "      <td>-0.069821</td>\n",
              "      <td>-0.023836</td>\n",
              "      <td>-0.209257</td>\n",
              "    </tr>\n",
              "    <tr>\n",
              "      <th>mfcc_18_mean</th>\n",
              "      <td>0.177814</td>\n",
              "      <td>-0.186863</td>\n",
              "      <td>-0.174736</td>\n",
              "      <td>0.138569</td>\n",
              "      <td>-0.277382</td>\n",
              "      <td>0.287288</td>\n",
              "      <td>-0.230349</td>\n",
              "      <td>0.361688</td>\n",
              "      <td>-0.096369</td>\n",
              "      <td>0.466483</td>\n",
              "      <td>...</td>\n",
              "      <td>0.135184</td>\n",
              "      <td>0.085037</td>\n",
              "      <td>0.208230</td>\n",
              "      <td>-0.058077</td>\n",
              "      <td>0.185450</td>\n",
              "      <td>-0.142192</td>\n",
              "      <td>0.100592</td>\n",
              "      <td>0.022656</td>\n",
              "      <td>0.106172</td>\n",
              "      <td>-0.010766</td>\n",
              "    </tr>\n",
              "    <tr>\n",
              "      <th>mfcc_19_mean</th>\n",
              "      <td>-0.122092</td>\n",
              "      <td>-0.020285</td>\n",
              "      <td>0.199679</td>\n",
              "      <td>-0.244089</td>\n",
              "      <td>0.299602</td>\n",
              "      <td>-0.288233</td>\n",
              "      <td>0.376488</td>\n",
              "      <td>-0.292778</td>\n",
              "      <td>0.374427</td>\n",
              "      <td>-0.199836</td>\n",
              "      <td>...</td>\n",
              "      <td>0.291106</td>\n",
              "      <td>0.287272</td>\n",
              "      <td>0.019710</td>\n",
              "      <td>0.163317</td>\n",
              "      <td>0.037165</td>\n",
              "      <td>0.118667</td>\n",
              "      <td>0.084976</td>\n",
              "      <td>-0.030700</td>\n",
              "      <td>0.026314</td>\n",
              "      <td>-0.140197</td>\n",
              "    </tr>\n",
              "    <tr>\n",
              "      <th>mfcc_20_mean</th>\n",
              "      <td>0.166575</td>\n",
              "      <td>-0.214588</td>\n",
              "      <td>-0.070084</td>\n",
              "      <td>0.097908</td>\n",
              "      <td>-0.118203</td>\n",
              "      <td>0.138630</td>\n",
              "      <td>-0.029824</td>\n",
              "      <td>0.197622</td>\n",
              "      <td>0.025087</td>\n",
              "      <td>0.299534</td>\n",
              "      <td>...</td>\n",
              "      <td>0.103570</td>\n",
              "      <td>0.074542</td>\n",
              "      <td>0.239047</td>\n",
              "      <td>-0.018189</td>\n",
              "      <td>0.226645</td>\n",
              "      <td>-0.120462</td>\n",
              "      <td>0.166127</td>\n",
              "      <td>0.008234</td>\n",
              "      <td>0.106816</td>\n",
              "      <td>-0.001694</td>\n",
              "    </tr>\n",
              "    <tr>\n",
              "      <th>mfcc_1_var</th>\n",
              "      <td>-0.322099</td>\n",
              "      <td>0.060406</td>\n",
              "      <td>0.195838</td>\n",
              "      <td>-0.140205</td>\n",
              "      <td>0.255251</td>\n",
              "      <td>-0.131417</td>\n",
              "      <td>0.212198</td>\n",
              "      <td>-0.188616</td>\n",
              "      <td>0.199071</td>\n",
              "      <td>-0.169502</td>\n",
              "      <td>...</td>\n",
              "      <td>0.110338</td>\n",
              "      <td>0.112723</td>\n",
              "      <td>-0.153765</td>\n",
              "      <td>0.409492</td>\n",
              "      <td>-0.146032</td>\n",
              "      <td>0.437362</td>\n",
              "      <td>-0.094385</td>\n",
              "      <td>-0.039305</td>\n",
              "      <td>-0.152540</td>\n",
              "      <td>-0.192559</td>\n",
              "    </tr>\n",
              "    <tr>\n",
              "      <th>mfcc_2_var</th>\n",
              "      <td>-0.168430</td>\n",
              "      <td>-0.069628</td>\n",
              "      <td>0.303932</td>\n",
              "      <td>-0.236260</td>\n",
              "      <td>0.302649</td>\n",
              "      <td>-0.215735</td>\n",
              "      <td>0.269031</td>\n",
              "      <td>-0.247413</td>\n",
              "      <td>0.251258</td>\n",
              "      <td>-0.243493</td>\n",
              "      <td>...</td>\n",
              "      <td>0.151589</td>\n",
              "      <td>0.155235</td>\n",
              "      <td>0.011463</td>\n",
              "      <td>0.719115</td>\n",
              "      <td>0.004035</td>\n",
              "      <td>0.675807</td>\n",
              "      <td>0.076315</td>\n",
              "      <td>-0.039840</td>\n",
              "      <td>-0.011396</td>\n",
              "      <td>-0.232542</td>\n",
              "    </tr>\n",
              "    <tr>\n",
              "      <th>mfcc_3_var</th>\n",
              "      <td>-0.162190</td>\n",
              "      <td>-0.047465</td>\n",
              "      <td>0.243996</td>\n",
              "      <td>-0.079242</td>\n",
              "      <td>0.310428</td>\n",
              "      <td>-0.091899</td>\n",
              "      <td>0.284420</td>\n",
              "      <td>-0.151437</td>\n",
              "      <td>0.197606</td>\n",
              "      <td>-0.101616</td>\n",
              "      <td>...</td>\n",
              "      <td>0.145621</td>\n",
              "      <td>0.132734</td>\n",
              "      <td>-0.050895</td>\n",
              "      <td>0.432322</td>\n",
              "      <td>-0.046821</td>\n",
              "      <td>0.434331</td>\n",
              "      <td>0.004893</td>\n",
              "      <td>-0.082446</td>\n",
              "      <td>0.008445</td>\n",
              "      <td>-0.126624</td>\n",
              "    </tr>\n",
              "    <tr>\n",
              "      <th>mfcc_4_var</th>\n",
              "      <td>0.036325</td>\n",
              "      <td>-0.218036</td>\n",
              "      <td>0.279932</td>\n",
              "      <td>-0.174536</td>\n",
              "      <td>0.260616</td>\n",
              "      <td>-0.147625</td>\n",
              "      <td>0.264178</td>\n",
              "      <td>-0.148228</td>\n",
              "      <td>0.231590</td>\n",
              "      <td>-0.113159</td>\n",
              "      <td>...</td>\n",
              "      <td>0.123145</td>\n",
              "      <td>0.101141</td>\n",
              "      <td>0.153611</td>\n",
              "      <td>0.550706</td>\n",
              "      <td>0.164159</td>\n",
              "      <td>0.494619</td>\n",
              "      <td>0.209620</td>\n",
              "      <td>-0.074711</td>\n",
              "      <td>0.167567</td>\n",
              "      <td>-0.258328</td>\n",
              "    </tr>\n",
              "    <tr>\n",
              "      <th>mfcc_5_var</th>\n",
              "      <td>-0.072973</td>\n",
              "      <td>-0.034527</td>\n",
              "      <td>0.174913</td>\n",
              "      <td>-0.067729</td>\n",
              "      <td>0.219289</td>\n",
              "      <td>-0.048050</td>\n",
              "      <td>0.160400</td>\n",
              "      <td>-0.063523</td>\n",
              "      <td>0.130024</td>\n",
              "      <td>-0.080152</td>\n",
              "      <td>...</td>\n",
              "      <td>0.074249</td>\n",
              "      <td>0.053422</td>\n",
              "      <td>-0.049225</td>\n",
              "      <td>0.407362</td>\n",
              "      <td>-0.034333</td>\n",
              "      <td>0.411252</td>\n",
              "      <td>0.001466</td>\n",
              "      <td>-0.034750</td>\n",
              "      <td>0.079331</td>\n",
              "      <td>-0.206482</td>\n",
              "    </tr>\n",
              "    <tr>\n",
              "      <th>mfcc_6_var</th>\n",
              "      <td>0.062460</td>\n",
              "      <td>-0.233405</td>\n",
              "      <td>0.269080</td>\n",
              "      <td>-0.195168</td>\n",
              "      <td>0.275457</td>\n",
              "      <td>-0.193502</td>\n",
              "      <td>0.266233</td>\n",
              "      <td>-0.118731</td>\n",
              "      <td>0.202923</td>\n",
              "      <td>-0.069774</td>\n",
              "      <td>...</td>\n",
              "      <td>0.156389</td>\n",
              "      <td>0.110818</td>\n",
              "      <td>0.181604</td>\n",
              "      <td>0.555435</td>\n",
              "      <td>0.198249</td>\n",
              "      <td>0.497711</td>\n",
              "      <td>0.245068</td>\n",
              "      <td>-0.100429</td>\n",
              "      <td>0.206291</td>\n",
              "      <td>-0.273551</td>\n",
              "    </tr>\n",
              "    <tr>\n",
              "      <th>mfcc_7_var</th>\n",
              "      <td>-0.024569</td>\n",
              "      <td>-0.142090</td>\n",
              "      <td>0.163934</td>\n",
              "      <td>-0.074216</td>\n",
              "      <td>0.127148</td>\n",
              "      <td>0.027599</td>\n",
              "      <td>0.087856</td>\n",
              "      <td>0.023538</td>\n",
              "      <td>0.071964</td>\n",
              "      <td>0.013593</td>\n",
              "      <td>...</td>\n",
              "      <td>0.162061</td>\n",
              "      <td>0.130910</td>\n",
              "      <td>0.046868</td>\n",
              "      <td>0.430033</td>\n",
              "      <td>0.058562</td>\n",
              "      <td>0.420465</td>\n",
              "      <td>0.084744</td>\n",
              "      <td>-0.014971</td>\n",
              "      <td>0.106891</td>\n",
              "      <td>-0.206846</td>\n",
              "    </tr>\n",
              "    <tr>\n",
              "      <th>mfcc_8_var</th>\n",
              "      <td>-0.075973</td>\n",
              "      <td>-0.135873</td>\n",
              "      <td>0.171322</td>\n",
              "      <td>-0.151124</td>\n",
              "      <td>0.173023</td>\n",
              "      <td>-0.131804</td>\n",
              "      <td>0.178897</td>\n",
              "      <td>-0.085390</td>\n",
              "      <td>0.180281</td>\n",
              "      <td>-0.035879</td>\n",
              "      <td>...</td>\n",
              "      <td>0.228554</td>\n",
              "      <td>0.230712</td>\n",
              "      <td>0.063043</td>\n",
              "      <td>0.419603</td>\n",
              "      <td>0.067571</td>\n",
              "      <td>0.380709</td>\n",
              "      <td>0.094543</td>\n",
              "      <td>-0.071828</td>\n",
              "      <td>0.079288</td>\n",
              "      <td>-0.201504</td>\n",
              "    </tr>\n",
              "    <tr>\n",
              "      <th>mfcc_9_var</th>\n",
              "      <td>-0.137268</td>\n",
              "      <td>-0.058585</td>\n",
              "      <td>0.162559</td>\n",
              "      <td>-0.147246</td>\n",
              "      <td>0.148381</td>\n",
              "      <td>-0.102632</td>\n",
              "      <td>0.090940</td>\n",
              "      <td>-0.061046</td>\n",
              "      <td>0.081829</td>\n",
              "      <td>-0.054651</td>\n",
              "      <td>...</td>\n",
              "      <td>0.266002</td>\n",
              "      <td>0.253850</td>\n",
              "      <td>-0.026981</td>\n",
              "      <td>0.376123</td>\n",
              "      <td>-0.018499</td>\n",
              "      <td>0.371184</td>\n",
              "      <td>0.017343</td>\n",
              "      <td>-0.048094</td>\n",
              "      <td>0.034100</td>\n",
              "      <td>-0.202334</td>\n",
              "    </tr>\n",
              "    <tr>\n",
              "      <th>mfcc_10_var</th>\n",
              "      <td>-0.155509</td>\n",
              "      <td>-0.059846</td>\n",
              "      <td>0.153422</td>\n",
              "      <td>-0.140006</td>\n",
              "      <td>0.135457</td>\n",
              "      <td>-0.110714</td>\n",
              "      <td>0.103919</td>\n",
              "      <td>-0.067327</td>\n",
              "      <td>0.089431</td>\n",
              "      <td>-0.023542</td>\n",
              "      <td>...</td>\n",
              "      <td>0.317226</td>\n",
              "      <td>0.334052</td>\n",
              "      <td>-0.022567</td>\n",
              "      <td>0.336166</td>\n",
              "      <td>-0.016854</td>\n",
              "      <td>0.329635</td>\n",
              "      <td>0.015329</td>\n",
              "      <td>-0.042543</td>\n",
              "      <td>0.013240</td>\n",
              "      <td>-0.232121</td>\n",
              "    </tr>\n",
              "    <tr>\n",
              "      <th>mfcc_11_var</th>\n",
              "      <td>-0.244445</td>\n",
              "      <td>0.013029</td>\n",
              "      <td>0.073142</td>\n",
              "      <td>-0.152849</td>\n",
              "      <td>0.089579</td>\n",
              "      <td>-0.144245</td>\n",
              "      <td>0.072014</td>\n",
              "      <td>-0.083288</td>\n",
              "      <td>0.109135</td>\n",
              "      <td>-0.041026</td>\n",
              "      <td>...</td>\n",
              "      <td>0.342166</td>\n",
              "      <td>0.389182</td>\n",
              "      <td>-0.091649</td>\n",
              "      <td>0.222112</td>\n",
              "      <td>-0.099369</td>\n",
              "      <td>0.214507</td>\n",
              "      <td>-0.080649</td>\n",
              "      <td>-0.019706</td>\n",
              "      <td>-0.080702</td>\n",
              "      <td>-0.186318</td>\n",
              "    </tr>\n",
              "    <tr>\n",
              "      <th>mfcc_12_var</th>\n",
              "      <td>-0.304900</td>\n",
              "      <td>0.085718</td>\n",
              "      <td>0.033412</td>\n",
              "      <td>-0.138716</td>\n",
              "      <td>0.032411</td>\n",
              "      <td>-0.169445</td>\n",
              "      <td>0.023886</td>\n",
              "      <td>-0.132394</td>\n",
              "      <td>0.067836</td>\n",
              "      <td>-0.076641</td>\n",
              "      <td>...</td>\n",
              "      <td>0.404151</td>\n",
              "      <td>0.455324</td>\n",
              "      <td>-0.153711</td>\n",
              "      <td>0.141148</td>\n",
              "      <td>-0.167861</td>\n",
              "      <td>0.133714</td>\n",
              "      <td>-0.155977</td>\n",
              "      <td>-0.010299</td>\n",
              "      <td>-0.144754</td>\n",
              "      <td>-0.142523</td>\n",
              "    </tr>\n",
              "    <tr>\n",
              "      <th>mfcc_13_var</th>\n",
              "      <td>-0.355361</td>\n",
              "      <td>0.079091</td>\n",
              "      <td>0.023742</td>\n",
              "      <td>-0.161356</td>\n",
              "      <td>0.029070</td>\n",
              "      <td>-0.157796</td>\n",
              "      <td>0.020315</td>\n",
              "      <td>-0.141323</td>\n",
              "      <td>0.065309</td>\n",
              "      <td>-0.094164</td>\n",
              "      <td>...</td>\n",
              "      <td>0.451800</td>\n",
              "      <td>0.487973</td>\n",
              "      <td>-0.152740</td>\n",
              "      <td>0.134600</td>\n",
              "      <td>-0.168205</td>\n",
              "      <td>0.122653</td>\n",
              "      <td>-0.157985</td>\n",
              "      <td>-0.019216</td>\n",
              "      <td>-0.182861</td>\n",
              "      <td>-0.145955</td>\n",
              "    </tr>\n",
              "    <tr>\n",
              "      <th>mfcc_14_var</th>\n",
              "      <td>-0.325292</td>\n",
              "      <td>0.068693</td>\n",
              "      <td>0.015397</td>\n",
              "      <td>-0.166931</td>\n",
              "      <td>0.011673</td>\n",
              "      <td>-0.168422</td>\n",
              "      <td>0.035385</td>\n",
              "      <td>-0.159285</td>\n",
              "      <td>0.055203</td>\n",
              "      <td>-0.095903</td>\n",
              "      <td>...</td>\n",
              "      <td>0.519720</td>\n",
              "      <td>0.525048</td>\n",
              "      <td>-0.144409</td>\n",
              "      <td>0.088140</td>\n",
              "      <td>-0.158555</td>\n",
              "      <td>0.092507</td>\n",
              "      <td>-0.145090</td>\n",
              "      <td>0.006050</td>\n",
              "      <td>-0.169769</td>\n",
              "      <td>-0.090241</td>\n",
              "    </tr>\n",
              "    <tr>\n",
              "      <th>mfcc_15_var</th>\n",
              "      <td>-0.316539</td>\n",
              "      <td>0.069850</td>\n",
              "      <td>0.041920</td>\n",
              "      <td>-0.147272</td>\n",
              "      <td>0.003633</td>\n",
              "      <td>-0.134625</td>\n",
              "      <td>0.013878</td>\n",
              "      <td>-0.158685</td>\n",
              "      <td>0.013333</td>\n",
              "      <td>-0.100773</td>\n",
              "      <td>...</td>\n",
              "      <td>0.551815</td>\n",
              "      <td>0.547017</td>\n",
              "      <td>-0.148929</td>\n",
              "      <td>0.076209</td>\n",
              "      <td>-0.158299</td>\n",
              "      <td>0.090651</td>\n",
              "      <td>-0.141235</td>\n",
              "      <td>-0.033152</td>\n",
              "      <td>-0.168070</td>\n",
              "      <td>-0.065157</td>\n",
              "    </tr>\n",
              "    <tr>\n",
              "      <th>mfcc_16_var</th>\n",
              "      <td>-0.278941</td>\n",
              "      <td>0.045820</td>\n",
              "      <td>0.089753</td>\n",
              "      <td>-0.194670</td>\n",
              "      <td>0.029265</td>\n",
              "      <td>-0.181162</td>\n",
              "      <td>0.054323</td>\n",
              "      <td>-0.212538</td>\n",
              "      <td>0.026601</td>\n",
              "      <td>-0.137421</td>\n",
              "      <td>...</td>\n",
              "      <td>0.623647</td>\n",
              "      <td>0.572777</td>\n",
              "      <td>-0.117716</td>\n",
              "      <td>0.102779</td>\n",
              "      <td>-0.122616</td>\n",
              "      <td>0.109861</td>\n",
              "      <td>-0.095049</td>\n",
              "      <td>-0.040323</td>\n",
              "      <td>-0.115034</td>\n",
              "      <td>-0.057828</td>\n",
              "    </tr>\n",
              "    <tr>\n",
              "      <th>mfcc_17_var</th>\n",
              "      <td>-0.278590</td>\n",
              "      <td>0.039014</td>\n",
              "      <td>0.111944</td>\n",
              "      <td>-0.173188</td>\n",
              "      <td>0.048768</td>\n",
              "      <td>-0.143643</td>\n",
              "      <td>0.063989</td>\n",
              "      <td>-0.184655</td>\n",
              "      <td>0.030201</td>\n",
              "      <td>-0.123431</td>\n",
              "      <td>...</td>\n",
              "      <td>0.635480</td>\n",
              "      <td>0.576901</td>\n",
              "      <td>-0.109315</td>\n",
              "      <td>0.104832</td>\n",
              "      <td>-0.113581</td>\n",
              "      <td>0.097778</td>\n",
              "      <td>-0.089641</td>\n",
              "      <td>-0.034653</td>\n",
              "      <td>-0.121156</td>\n",
              "      <td>-0.053309</td>\n",
              "    </tr>\n",
              "    <tr>\n",
              "      <th>mfcc_18_var</th>\n",
              "      <td>-0.269952</td>\n",
              "      <td>0.033221</td>\n",
              "      <td>0.096426</td>\n",
              "      <td>-0.182233</td>\n",
              "      <td>0.023812</td>\n",
              "      <td>-0.143281</td>\n",
              "      <td>0.069940</td>\n",
              "      <td>-0.181127</td>\n",
              "      <td>0.050811</td>\n",
              "      <td>-0.113409</td>\n",
              "      <td>...</td>\n",
              "      <td>0.749375</td>\n",
              "      <td>0.647185</td>\n",
              "      <td>-0.094585</td>\n",
              "      <td>0.075519</td>\n",
              "      <td>-0.096730</td>\n",
              "      <td>0.076303</td>\n",
              "      <td>-0.075259</td>\n",
              "      <td>-0.027587</td>\n",
              "      <td>-0.130025</td>\n",
              "      <td>-0.043998</td>\n",
              "    </tr>\n",
              "    <tr>\n",
              "      <th>mfcc_19_var</th>\n",
              "      <td>-0.303540</td>\n",
              "      <td>0.033004</td>\n",
              "      <td>0.082406</td>\n",
              "      <td>-0.175466</td>\n",
              "      <td>0.008459</td>\n",
              "      <td>-0.156697</td>\n",
              "      <td>0.058101</td>\n",
              "      <td>-0.198606</td>\n",
              "      <td>0.075888</td>\n",
              "      <td>-0.093177</td>\n",
              "      <td>...</td>\n",
              "      <td>1.000000</td>\n",
              "      <td>0.795083</td>\n",
              "      <td>-0.096550</td>\n",
              "      <td>0.064746</td>\n",
              "      <td>-0.102589</td>\n",
              "      <td>0.053487</td>\n",
              "      <td>-0.087245</td>\n",
              "      <td>-0.037111</td>\n",
              "      <td>-0.157910</td>\n",
              "      <td>-0.037599</td>\n",
              "    </tr>\n",
              "    <tr>\n",
              "      <th>mfcc_20_var</th>\n",
              "      <td>-0.353843</td>\n",
              "      <td>0.081116</td>\n",
              "      <td>0.058866</td>\n",
              "      <td>-0.188802</td>\n",
              "      <td>0.020918</td>\n",
              "      <td>-0.195484</td>\n",
              "      <td>0.070044</td>\n",
              "      <td>-0.226573</td>\n",
              "      <td>0.094123</td>\n",
              "      <td>-0.114311</td>\n",
              "      <td>...</td>\n",
              "      <td>0.795083</td>\n",
              "      <td>1.000000</td>\n",
              "      <td>-0.146074</td>\n",
              "      <td>0.034657</td>\n",
              "      <td>-0.159000</td>\n",
              "      <td>0.033915</td>\n",
              "      <td>-0.142702</td>\n",
              "      <td>-0.043614</td>\n",
              "      <td>-0.200646</td>\n",
              "      <td>-0.049135</td>\n",
              "    </tr>\n",
              "    <tr>\n",
              "      <th>spec_centroid_mean</th>\n",
              "      <td>0.703661</td>\n",
              "      <td>-0.936066</td>\n",
              "      <td>0.195142</td>\n",
              "      <td>-0.154581</td>\n",
              "      <td>0.077908</td>\n",
              "      <td>-0.004155</td>\n",
              "      <td>0.212993</td>\n",
              "      <td>0.111502</td>\n",
              "      <td>0.280444</td>\n",
              "      <td>0.171707</td>\n",
              "      <td>...</td>\n",
              "      <td>-0.096550</td>\n",
              "      <td>-0.146074</td>\n",
              "      <td>1.000000</td>\n",
              "      <td>0.484750</td>\n",
              "      <td>0.977603</td>\n",
              "      <td>0.172447</td>\n",
              "      <td>0.898931</td>\n",
              "      <td>-0.067280</td>\n",
              "      <td>0.493763</td>\n",
              "      <td>-0.123562</td>\n",
              "    </tr>\n",
              "    <tr>\n",
              "      <th>spec_centroid_variance</th>\n",
              "      <td>0.170224</td>\n",
              "      <td>-0.516588</td>\n",
              "      <td>0.545757</td>\n",
              "      <td>-0.332149</td>\n",
              "      <td>0.447850</td>\n",
              "      <td>-0.192902</td>\n",
              "      <td>0.447399</td>\n",
              "      <td>-0.188557</td>\n",
              "      <td>0.425365</td>\n",
              "      <td>-0.156692</td>\n",
              "      <td>...</td>\n",
              "      <td>0.064746</td>\n",
              "      <td>0.034657</td>\n",
              "      <td>0.484750</td>\n",
              "      <td>1.000000</td>\n",
              "      <td>0.510828</td>\n",
              "      <td>0.802606</td>\n",
              "      <td>0.587614</td>\n",
              "      <td>-0.091626</td>\n",
              "      <td>0.266537</td>\n",
              "      <td>-0.307302</td>\n",
              "    </tr>\n",
              "    <tr>\n",
              "      <th>spec_rolloff_mean</th>\n",
              "      <td>0.705821</td>\n",
              "      <td>-0.929412</td>\n",
              "      <td>0.305323</td>\n",
              "      <td>-0.173214</td>\n",
              "      <td>0.134678</td>\n",
              "      <td>0.015030</td>\n",
              "      <td>0.248552</td>\n",
              "      <td>0.117180</td>\n",
              "      <td>0.304591</td>\n",
              "      <td>0.164883</td>\n",
              "      <td>...</td>\n",
              "      <td>-0.102589</td>\n",
              "      <td>-0.159000</td>\n",
              "      <td>0.977603</td>\n",
              "      <td>0.510828</td>\n",
              "      <td>1.000000</td>\n",
              "      <td>0.239969</td>\n",
              "      <td>0.954186</td>\n",
              "      <td>-0.066098</td>\n",
              "      <td>0.522074</td>\n",
              "      <td>-0.155532</td>\n",
              "    </tr>\n",
              "    <tr>\n",
              "      <th>spec_rolloff_var</th>\n",
              "      <td>0.029507</td>\n",
              "      <td>-0.268643</td>\n",
              "      <td>0.581167</td>\n",
              "      <td>-0.348500</td>\n",
              "      <td>0.515755</td>\n",
              "      <td>-0.189922</td>\n",
              "      <td>0.431268</td>\n",
              "      <td>-0.195572</td>\n",
              "      <td>0.360718</td>\n",
              "      <td>-0.193683</td>\n",
              "      <td>...</td>\n",
              "      <td>0.053487</td>\n",
              "      <td>0.033915</td>\n",
              "      <td>0.172447</td>\n",
              "      <td>0.802606</td>\n",
              "      <td>0.239969</td>\n",
              "      <td>1.000000</td>\n",
              "      <td>0.416514</td>\n",
              "      <td>-0.039224</td>\n",
              "      <td>0.161952</td>\n",
              "      <td>-0.290538</td>\n",
              "    </tr>\n",
              "    <tr>\n",
              "      <th>spectral bandwidth</th>\n",
              "      <td>0.631906</td>\n",
              "      <td>-0.893039</td>\n",
              "      <td>0.506762</td>\n",
              "      <td>-0.292932</td>\n",
              "      <td>0.312517</td>\n",
              "      <td>-0.080283</td>\n",
              "      <td>0.389215</td>\n",
              "      <td>0.012680</td>\n",
              "      <td>0.402017</td>\n",
              "      <td>0.048253</td>\n",
              "      <td>...</td>\n",
              "      <td>-0.087245</td>\n",
              "      <td>-0.142702</td>\n",
              "      <td>0.898931</td>\n",
              "      <td>0.587614</td>\n",
              "      <td>0.954186</td>\n",
              "      <td>0.416514</td>\n",
              "      <td>1.000000</td>\n",
              "      <td>-0.066112</td>\n",
              "      <td>0.514568</td>\n",
              "      <td>-0.219667</td>\n",
              "    </tr>\n",
              "    <tr>\n",
              "      <th>tempo</th>\n",
              "      <td>-0.044629</td>\n",
              "      <td>0.049123</td>\n",
              "      <td>-0.043997</td>\n",
              "      <td>0.052869</td>\n",
              "      <td>-0.036430</td>\n",
              "      <td>0.065586</td>\n",
              "      <td>-0.048560</td>\n",
              "      <td>0.049189</td>\n",
              "      <td>-0.040326</td>\n",
              "      <td>0.020869</td>\n",
              "      <td>...</td>\n",
              "      <td>-0.037111</td>\n",
              "      <td>-0.043614</td>\n",
              "      <td>-0.067280</td>\n",
              "      <td>-0.091626</td>\n",
              "      <td>-0.066098</td>\n",
              "      <td>-0.039224</td>\n",
              "      <td>-0.066112</td>\n",
              "      <td>1.000000</td>\n",
              "      <td>-0.090847</td>\n",
              "      <td>-0.021202</td>\n",
              "    </tr>\n",
              "    <tr>\n",
              "      <th>rms_mean</th>\n",
              "      <td>0.802234</td>\n",
              "      <td>-0.470613</td>\n",
              "      <td>0.140220</td>\n",
              "      <td>-0.013687</td>\n",
              "      <td>0.118078</td>\n",
              "      <td>0.101622</td>\n",
              "      <td>0.176575</td>\n",
              "      <td>0.159653</td>\n",
              "      <td>0.218383</td>\n",
              "      <td>0.166169</td>\n",
              "      <td>...</td>\n",
              "      <td>-0.157910</td>\n",
              "      <td>-0.200646</td>\n",
              "      <td>0.493763</td>\n",
              "      <td>0.266537</td>\n",
              "      <td>0.522074</td>\n",
              "      <td>0.161952</td>\n",
              "      <td>0.514568</td>\n",
              "      <td>-0.090847</td>\n",
              "      <td>1.000000</td>\n",
              "      <td>-0.007934</td>\n",
              "    </tr>\n",
              "    <tr>\n",
              "      <th>genre</th>\n",
              "      <td>-0.000317</td>\n",
              "      <td>0.104849</td>\n",
              "      <td>-0.214594</td>\n",
              "      <td>0.413791</td>\n",
              "      <td>-0.285754</td>\n",
              "      <td>0.252718</td>\n",
              "      <td>-0.283657</td>\n",
              "      <td>0.231886</td>\n",
              "      <td>-0.283413</td>\n",
              "      <td>0.147632</td>\n",
              "      <td>...</td>\n",
              "      <td>-0.037599</td>\n",
              "      <td>-0.049135</td>\n",
              "      <td>-0.123562</td>\n",
              "      <td>-0.307302</td>\n",
              "      <td>-0.155532</td>\n",
              "      <td>-0.290538</td>\n",
              "      <td>-0.219667</td>\n",
              "      <td>-0.021202</td>\n",
              "      <td>-0.007934</td>\n",
              "      <td>1.000000</td>\n",
              "    </tr>\n",
              "  </tbody>\n",
              "</table>\n",
              "<p>48 rows × 48 columns</p>\n",
              "</div>\n",
              "      <button class=\"colab-df-convert\" onclick=\"convertToInteractive('df-b42643f6-2756-41a0-9be4-f7f6e723417a')\"\n",
              "              title=\"Convert this dataframe to an interactive table.\"\n",
              "              style=\"display:none;\">\n",
              "        \n",
              "  <svg xmlns=\"http://www.w3.org/2000/svg\" height=\"24px\"viewBox=\"0 0 24 24\"\n",
              "       width=\"24px\">\n",
              "    <path d=\"M0 0h24v24H0V0z\" fill=\"none\"/>\n",
              "    <path d=\"M18.56 5.44l.94 2.06.94-2.06 2.06-.94-2.06-.94-.94-2.06-.94 2.06-2.06.94zm-11 1L8.5 8.5l.94-2.06 2.06-.94-2.06-.94L8.5 2.5l-.94 2.06-2.06.94zm10 10l.94 2.06.94-2.06 2.06-.94-2.06-.94-.94-2.06-.94 2.06-2.06.94z\"/><path d=\"M17.41 7.96l-1.37-1.37c-.4-.4-.92-.59-1.43-.59-.52 0-1.04.2-1.43.59L10.3 9.45l-7.72 7.72c-.78.78-.78 2.05 0 2.83L4 21.41c.39.39.9.59 1.41.59.51 0 1.02-.2 1.41-.59l7.78-7.78 2.81-2.81c.8-.78.8-2.07 0-2.86zM5.41 20L4 18.59l7.72-7.72 1.47 1.35L5.41 20z\"/>\n",
              "  </svg>\n",
              "      </button>\n",
              "      \n",
              "  <style>\n",
              "    .colab-df-container {\n",
              "      display:flex;\n",
              "      flex-wrap:wrap;\n",
              "      gap: 12px;\n",
              "    }\n",
              "\n",
              "    .colab-df-convert {\n",
              "      background-color: #E8F0FE;\n",
              "      border: none;\n",
              "      border-radius: 50%;\n",
              "      cursor: pointer;\n",
              "      display: none;\n",
              "      fill: #1967D2;\n",
              "      height: 32px;\n",
              "      padding: 0 0 0 0;\n",
              "      width: 32px;\n",
              "    }\n",
              "\n",
              "    .colab-df-convert:hover {\n",
              "      background-color: #E2EBFA;\n",
              "      box-shadow: 0px 1px 2px rgba(60, 64, 67, 0.3), 0px 1px 3px 1px rgba(60, 64, 67, 0.15);\n",
              "      fill: #174EA6;\n",
              "    }\n",
              "\n",
              "    [theme=dark] .colab-df-convert {\n",
              "      background-color: #3B4455;\n",
              "      fill: #D2E3FC;\n",
              "    }\n",
              "\n",
              "    [theme=dark] .colab-df-convert:hover {\n",
              "      background-color: #434B5C;\n",
              "      box-shadow: 0px 1px 3px 1px rgba(0, 0, 0, 0.15);\n",
              "      filter: drop-shadow(0px 1px 2px rgba(0, 0, 0, 0.3));\n",
              "      fill: #FFFFFF;\n",
              "    }\n",
              "  </style>\n",
              "\n",
              "      <script>\n",
              "        const buttonEl =\n",
              "          document.querySelector('#df-b42643f6-2756-41a0-9be4-f7f6e723417a button.colab-df-convert');\n",
              "        buttonEl.style.display =\n",
              "          google.colab.kernel.accessAllowed ? 'block' : 'none';\n",
              "\n",
              "        async function convertToInteractive(key) {\n",
              "          const element = document.querySelector('#df-b42643f6-2756-41a0-9be4-f7f6e723417a');\n",
              "          const dataTable =\n",
              "            await google.colab.kernel.invokeFunction('convertToInteractive',\n",
              "                                                     [key], {});\n",
              "          if (!dataTable) return;\n",
              "\n",
              "          const docLinkHtml = 'Like what you see? Visit the ' +\n",
              "            '<a target=\"_blank\" href=https://colab.research.google.com/notebooks/data_table.ipynb>data table notebook</a>'\n",
              "            + ' to learn more about interactive tables.';\n",
              "          element.innerHTML = '';\n",
              "          dataTable['output_type'] = 'display_data';\n",
              "          await google.colab.output.renderOutput(dataTable, element);\n",
              "          const docLink = document.createElement('div');\n",
              "          docLink.innerHTML = docLinkHtml;\n",
              "          element.appendChild(docLink);\n",
              "        }\n",
              "      </script>\n",
              "    </div>\n",
              "  </div>\n",
              "  "
            ]
          },
          "metadata": {},
          "execution_count": 69
        }
      ]
    },
    {
      "cell_type": "code",
      "source": [],
      "metadata": {
        "id": "nKUhDhqchj7H"
      },
      "execution_count": 69,
      "outputs": []
    },
    {
      "cell_type": "code",
      "execution_count": 70,
      "metadata": {
        "id": "pprMM23ntgeB"
      },
      "outputs": [],
      "source": [
        "# directory = \"/content/drive/MyDrive/Data/genres_original/jazz/\"\n",
        "# file_name = \"jazz.00054.wav\"\n",
        "# file_path = os.path.join(directory, file_name)\n",
        "\n",
        "# if os.path.isfile(file_path):\n",
        "#     os.remove(file_path)"
      ]
    },
    {
      "cell_type": "code",
      "execution_count": 71,
      "metadata": {
        "id": "99quMgEEtitP"
      },
      "outputs": [],
      "source": [
        "# with open('aap.dat', 'rb') as f:\n",
        "#     data_set = pickle.load(f)\n",
        "\n",
        "\n",
        "# # train_set, test_set = train_test_split(data_set, test_size=0.24, random_state=42)\n",
        "# df = pd.DataFrame(data_set)\n",
        "\n",
        "# len(df)"
      ]
    },
    {
      "cell_type": "code",
      "source": [
        "# df.head()"
      ],
      "metadata": {
        "id": "9VdQ2vTY41U8"
      },
      "execution_count": 72,
      "outputs": []
    },
    {
      "cell_type": "code",
      "execution_count": 73,
      "metadata": {
        "id": "O4JP4hTItkiE"
      },
      "outputs": [],
      "source": [
        "# prediction_final = [max_near_class(all_the_Neighbors(train_set, test_set[j], 6)) for j in range(len(test_set))]\n",
        "# test_final = [i[-1] for i in test_set]\n",
        "# accuracy = accuracy_score(test_final, prediction_final)\n",
        "\n",
        "# print(len(test_set))\n",
        "# print(len(prediction_final))\n",
        "# print(accuracy)"
      ]
    },
    {
      "cell_type": "code",
      "execution_count": 74,
      "metadata": {
        "id": "qu02dlMSAGNF"
      },
      "outputs": [],
      "source": [
        "# test_final = [i[-1] for i in test_set]\n",
        "\n",
        "# fa = np.array(test_final).ravel()\n",
        "# fb= np.array(prediction_final).ravel()\n",
        "# f1 = f1_score(fa, fb, average='weighted')\n",
        "\n",
        "# print(\"F1 score:\", f1)"
      ]
    },
    {
      "cell_type": "code",
      "source": [
        "from sklearn.preprocessing import StandardScaler"
      ],
      "metadata": {
        "id": "yavP5_-XnJv4"
      },
      "execution_count": 75,
      "outputs": []
    },
    {
      "cell_type": "code",
      "source": [
        "sc=StandardScaler()"
      ],
      "metadata": {
        "id": "Q3An5cfxnRyS"
      },
      "execution_count": 76,
      "outputs": []
    },
    {
      "cell_type": "code",
      "source": [
        "X=df.iloc[:,:-1]\n",
        "y=df.iloc[:,-1]"
      ],
      "metadata": {
        "id": "hQGdG82LnUjl"
      },
      "execution_count": 77,
      "outputs": []
    },
    {
      "cell_type": "code",
      "source": [
        "X.shape"
      ],
      "metadata": {
        "colab": {
          "base_uri": "https://localhost:8080/"
        },
        "id": "KqhsiIc6og_6",
        "outputId": "d45eec88-85ef-4a4e-9cf1-2e19aa1cfb9d"
      },
      "execution_count": 78,
      "outputs": [
        {
          "output_type": "execute_result",
          "data": {
            "text/plain": [
              "(2997, 47)"
            ]
          },
          "metadata": {},
          "execution_count": 78
        }
      ]
    },
    {
      "cell_type": "code",
      "source": [
        "y=np.array(y)"
      ],
      "metadata": {
        "id": "Z_PBC7XBoiDA"
      },
      "execution_count": 79,
      "outputs": []
    },
    {
      "cell_type": "code",
      "source": [
        "from sklearn.preprocessing import OneHotEncoder\n",
        "ohe = OneHotEncoder()\n",
        "y_onehot = ohe.fit_transform(y.reshape(-1, 1)).toarray()"
      ],
      "metadata": {
        "id": "n6Dki8xNq4Om"
      },
      "execution_count": 80,
      "outputs": []
    },
    {
      "cell_type": "code",
      "source": [
        "y_onehot.shape"
      ],
      "metadata": {
        "colab": {
          "base_uri": "https://localhost:8080/"
        },
        "id": "a-CnWTTOrCC5",
        "outputId": "1239af6c-bc5f-4258-da86-53b46ddaa05d"
      },
      "execution_count": 81,
      "outputs": [
        {
          "output_type": "execute_result",
          "data": {
            "text/plain": [
              "(2997, 10)"
            ]
          },
          "metadata": {},
          "execution_count": 81
        }
      ]
    },
    {
      "cell_type": "code",
      "source": [
        "from sklearn.model_selection import train_test_split\n",
        "X_train, X_test, y_train, y_test = train_test_split(X, y_onehot, test_size=0.2, random_state=42)"
      ],
      "metadata": {
        "id": "y9L1ut24ojJY"
      },
      "execution_count": 82,
      "outputs": []
    },
    {
      "cell_type": "code",
      "source": [
        "sc.fit(X_train)"
      ],
      "metadata": {
        "colab": {
          "base_uri": "https://localhost:8080/",
          "height": 74
        },
        "id": "y8z9uqtWpp-u",
        "outputId": "51478194-2754-4d3c-eaaa-496c766141b3"
      },
      "execution_count": 83,
      "outputs": [
        {
          "output_type": "execute_result",
          "data": {
            "text/plain": [
              "StandardScaler()"
            ],
            "text/html": [
              "<style>#sk-container-id-3 {color: black;background-color: white;}#sk-container-id-3 pre{padding: 0;}#sk-container-id-3 div.sk-toggleable {background-color: white;}#sk-container-id-3 label.sk-toggleable__label {cursor: pointer;display: block;width: 100%;margin-bottom: 0;padding: 0.3em;box-sizing: border-box;text-align: center;}#sk-container-id-3 label.sk-toggleable__label-arrow:before {content: \"▸\";float: left;margin-right: 0.25em;color: #696969;}#sk-container-id-3 label.sk-toggleable__label-arrow:hover:before {color: black;}#sk-container-id-3 div.sk-estimator:hover label.sk-toggleable__label-arrow:before {color: black;}#sk-container-id-3 div.sk-toggleable__content {max-height: 0;max-width: 0;overflow: hidden;text-align: left;background-color: #f0f8ff;}#sk-container-id-3 div.sk-toggleable__content pre {margin: 0.2em;color: black;border-radius: 0.25em;background-color: #f0f8ff;}#sk-container-id-3 input.sk-toggleable__control:checked~div.sk-toggleable__content {max-height: 200px;max-width: 100%;overflow: auto;}#sk-container-id-3 input.sk-toggleable__control:checked~label.sk-toggleable__label-arrow:before {content: \"▾\";}#sk-container-id-3 div.sk-estimator input.sk-toggleable__control:checked~label.sk-toggleable__label {background-color: #d4ebff;}#sk-container-id-3 div.sk-label input.sk-toggleable__control:checked~label.sk-toggleable__label {background-color: #d4ebff;}#sk-container-id-3 input.sk-hidden--visually {border: 0;clip: rect(1px 1px 1px 1px);clip: rect(1px, 1px, 1px, 1px);height: 1px;margin: -1px;overflow: hidden;padding: 0;position: absolute;width: 1px;}#sk-container-id-3 div.sk-estimator {font-family: monospace;background-color: #f0f8ff;border: 1px dotted black;border-radius: 0.25em;box-sizing: border-box;margin-bottom: 0.5em;}#sk-container-id-3 div.sk-estimator:hover {background-color: #d4ebff;}#sk-container-id-3 div.sk-parallel-item::after {content: \"\";width: 100%;border-bottom: 1px solid gray;flex-grow: 1;}#sk-container-id-3 div.sk-label:hover label.sk-toggleable__label {background-color: #d4ebff;}#sk-container-id-3 div.sk-serial::before {content: \"\";position: absolute;border-left: 1px solid gray;box-sizing: border-box;top: 0;bottom: 0;left: 50%;z-index: 0;}#sk-container-id-3 div.sk-serial {display: flex;flex-direction: column;align-items: center;background-color: white;padding-right: 0.2em;padding-left: 0.2em;position: relative;}#sk-container-id-3 div.sk-item {position: relative;z-index: 1;}#sk-container-id-3 div.sk-parallel {display: flex;align-items: stretch;justify-content: center;background-color: white;position: relative;}#sk-container-id-3 div.sk-item::before, #sk-container-id-3 div.sk-parallel-item::before {content: \"\";position: absolute;border-left: 1px solid gray;box-sizing: border-box;top: 0;bottom: 0;left: 50%;z-index: -1;}#sk-container-id-3 div.sk-parallel-item {display: flex;flex-direction: column;z-index: 1;position: relative;background-color: white;}#sk-container-id-3 div.sk-parallel-item:first-child::after {align-self: flex-end;width: 50%;}#sk-container-id-3 div.sk-parallel-item:last-child::after {align-self: flex-start;width: 50%;}#sk-container-id-3 div.sk-parallel-item:only-child::after {width: 0;}#sk-container-id-3 div.sk-dashed-wrapped {border: 1px dashed gray;margin: 0 0.4em 0.5em 0.4em;box-sizing: border-box;padding-bottom: 0.4em;background-color: white;}#sk-container-id-3 div.sk-label label {font-family: monospace;font-weight: bold;display: inline-block;line-height: 1.2em;}#sk-container-id-3 div.sk-label-container {text-align: center;}#sk-container-id-3 div.sk-container {/* jupyter's `normalize.less` sets `[hidden] { display: none; }` but bootstrap.min.css set `[hidden] { display: none !important; }` so we also need the `!important` here to be able to override the default hidden behavior on the sphinx rendered scikit-learn.org. See: https://github.com/scikit-learn/scikit-learn/issues/21755 */display: inline-block !important;position: relative;}#sk-container-id-3 div.sk-text-repr-fallback {display: none;}</style><div id=\"sk-container-id-3\" class=\"sk-top-container\"><div class=\"sk-text-repr-fallback\"><pre>StandardScaler()</pre><b>In a Jupyter environment, please rerun this cell to show the HTML representation or trust the notebook. <br />On GitHub, the HTML representation is unable to render, please try loading this page with nbviewer.org.</b></div><div class=\"sk-container\" hidden><div class=\"sk-item\"><div class=\"sk-estimator sk-toggleable\"><input class=\"sk-toggleable__control sk-hidden--visually\" id=\"sk-estimator-id-3\" type=\"checkbox\" checked><label for=\"sk-estimator-id-3\" class=\"sk-toggleable__label sk-toggleable__label-arrow\">StandardScaler</label><div class=\"sk-toggleable__content\"><pre>StandardScaler()</pre></div></div></div></div></div>"
            ]
          },
          "metadata": {},
          "execution_count": 83
        }
      ]
    },
    {
      "cell_type": "code",
      "source": [
        "X_train_scaled=sc.transform(X_train)\n",
        "X_test_scaled=sc.transform(X_test)"
      ],
      "metadata": {
        "id": "x0B7o4-epupR"
      },
      "execution_count": 84,
      "outputs": []
    },
    {
      "cell_type": "code",
      "source": [
        "nearest_neighbors=[3,5,7]\n"
      ],
      "metadata": {
        "id": "zBLs34LGrjHy"
      },
      "execution_count": 85,
      "outputs": []
    },
    {
      "cell_type": "markdown",
      "source": [
        "# **KNN Analysis**"
      ],
      "metadata": {
        "id": "kl9OhNsqrxdD"
      }
    },
    {
      "cell_type": "code",
      "source": [
        "from sklearn.neighbors import KNeighborsClassifier"
      ],
      "metadata": {
        "id": "KB-UX4fqr7Dp"
      },
      "execution_count": 86,
      "outputs": []
    },
    {
      "cell_type": "code",
      "source": [
        "from sklearn.metrics import accuracy_score"
      ],
      "metadata": {
        "id": "U0A2litWs3Mq"
      },
      "execution_count": 87,
      "outputs": []
    },
    {
      "cell_type": "code",
      "source": [
        "from sklearn.model_selection import cross_val_score"
      ],
      "metadata": {
        "id": "iI6O1_zcuSCN"
      },
      "execution_count": 88,
      "outputs": []
    },
    {
      "cell_type": "code",
      "source": [
        "from sklearn.neighbors import KNeighborsClassifier\n",
        "from sklearn.metrics import accuracy_score\n",
        "from sklearn.model_selection import cross_val_score"
      ],
      "metadata": {
        "id": "pwP6Z1nyYyR8"
      },
      "execution_count": 89,
      "outputs": []
    },
    {
      "cell_type": "code",
      "source": [
        "models=[]"
      ],
      "metadata": {
        "id": "lEyiBkpos7_a"
      },
      "execution_count": 90,
      "outputs": []
    },
    {
      "cell_type": "code",
      "source": [
        "X_train.shape"
      ],
      "metadata": {
        "colab": {
          "base_uri": "https://localhost:8080/"
        },
        "id": "gA7fk4-MtoV5",
        "outputId": "5aa4c208-8737-432e-9f62-ea3301d947e8"
      },
      "execution_count": 91,
      "outputs": [
        {
          "output_type": "execute_result",
          "data": {
            "text/plain": [
              "(2397, 47)"
            ]
          },
          "metadata": {},
          "execution_count": 91
        }
      ]
    },
    {
      "cell_type": "code",
      "source": [
        "for i in nearest_neighbors:\n",
        "  knn = KNeighborsClassifier(n_neighbors=i)\n",
        "  knn.fit(X_train_scaled,y_train)\n",
        "  cv_scores = cross_val_score(knn, X_train_scaled, y_train, cv=10)\n",
        "  # y_predict=knn.predict(X_test_scaled)\n",
        "  dictionary={'neighbors':i,'cross validation score':np.mean(cv_scores)}\n",
        "  models.append(dictionary)"
      ],
      "metadata": {
        "id": "8u16yt70sFr8"
      },
      "execution_count": 92,
      "outputs": []
    },
    {
      "cell_type": "code",
      "source": [
        "models"
      ],
      "metadata": {
        "colab": {
          "base_uri": "https://localhost:8080/"
        },
        "id": "CA2PZzMYtI7s",
        "outputId": "3c657255-99da-4975-feb2-cff572080d4e"
      },
      "execution_count": 93,
      "outputs": [
        {
          "output_type": "execute_result",
          "data": {
            "text/plain": [
              "[{'neighbors': 3, 'cross validation score': 0.7684989539748954},\n",
              " {'neighbors': 5, 'cross validation score': 0.6746251743375175},\n",
              " {'neighbors': 7, 'cross validation score': 0.6274860529986054}]"
            ]
          },
          "metadata": {},
          "execution_count": 93
        }
      ]
    },
    {
      "cell_type": "code",
      "source": [
        "#With the model with best validation score"
      ],
      "metadata": {
        "id": "D6fjHG6BvJIU"
      },
      "execution_count": 94,
      "outputs": []
    },
    {
      "cell_type": "code",
      "source": [
        "knn_final = KNeighborsClassifier(n_neighbors=3)\n",
        "knn_final.fit(X_train_scaled,y_train)"
      ],
      "metadata": {
        "colab": {
          "base_uri": "https://localhost:8080/",
          "height": 74
        },
        "id": "XXlg2VfJvrma",
        "outputId": "01f6e638-d1fe-4002-bda8-ef1ce83d25dc"
      },
      "execution_count": 95,
      "outputs": [
        {
          "output_type": "execute_result",
          "data": {
            "text/plain": [
              "KNeighborsClassifier(n_neighbors=3)"
            ],
            "text/html": [
              "<style>#sk-container-id-4 {color: black;background-color: white;}#sk-container-id-4 pre{padding: 0;}#sk-container-id-4 div.sk-toggleable {background-color: white;}#sk-container-id-4 label.sk-toggleable__label {cursor: pointer;display: block;width: 100%;margin-bottom: 0;padding: 0.3em;box-sizing: border-box;text-align: center;}#sk-container-id-4 label.sk-toggleable__label-arrow:before {content: \"▸\";float: left;margin-right: 0.25em;color: #696969;}#sk-container-id-4 label.sk-toggleable__label-arrow:hover:before {color: black;}#sk-container-id-4 div.sk-estimator:hover label.sk-toggleable__label-arrow:before {color: black;}#sk-container-id-4 div.sk-toggleable__content {max-height: 0;max-width: 0;overflow: hidden;text-align: left;background-color: #f0f8ff;}#sk-container-id-4 div.sk-toggleable__content pre {margin: 0.2em;color: black;border-radius: 0.25em;background-color: #f0f8ff;}#sk-container-id-4 input.sk-toggleable__control:checked~div.sk-toggleable__content {max-height: 200px;max-width: 100%;overflow: auto;}#sk-container-id-4 input.sk-toggleable__control:checked~label.sk-toggleable__label-arrow:before {content: \"▾\";}#sk-container-id-4 div.sk-estimator input.sk-toggleable__control:checked~label.sk-toggleable__label {background-color: #d4ebff;}#sk-container-id-4 div.sk-label input.sk-toggleable__control:checked~label.sk-toggleable__label {background-color: #d4ebff;}#sk-container-id-4 input.sk-hidden--visually {border: 0;clip: rect(1px 1px 1px 1px);clip: rect(1px, 1px, 1px, 1px);height: 1px;margin: -1px;overflow: hidden;padding: 0;position: absolute;width: 1px;}#sk-container-id-4 div.sk-estimator {font-family: monospace;background-color: #f0f8ff;border: 1px dotted black;border-radius: 0.25em;box-sizing: border-box;margin-bottom: 0.5em;}#sk-container-id-4 div.sk-estimator:hover {background-color: #d4ebff;}#sk-container-id-4 div.sk-parallel-item::after {content: \"\";width: 100%;border-bottom: 1px solid gray;flex-grow: 1;}#sk-container-id-4 div.sk-label:hover label.sk-toggleable__label {background-color: #d4ebff;}#sk-container-id-4 div.sk-serial::before {content: \"\";position: absolute;border-left: 1px solid gray;box-sizing: border-box;top: 0;bottom: 0;left: 50%;z-index: 0;}#sk-container-id-4 div.sk-serial {display: flex;flex-direction: column;align-items: center;background-color: white;padding-right: 0.2em;padding-left: 0.2em;position: relative;}#sk-container-id-4 div.sk-item {position: relative;z-index: 1;}#sk-container-id-4 div.sk-parallel {display: flex;align-items: stretch;justify-content: center;background-color: white;position: relative;}#sk-container-id-4 div.sk-item::before, #sk-container-id-4 div.sk-parallel-item::before {content: \"\";position: absolute;border-left: 1px solid gray;box-sizing: border-box;top: 0;bottom: 0;left: 50%;z-index: -1;}#sk-container-id-4 div.sk-parallel-item {display: flex;flex-direction: column;z-index: 1;position: relative;background-color: white;}#sk-container-id-4 div.sk-parallel-item:first-child::after {align-self: flex-end;width: 50%;}#sk-container-id-4 div.sk-parallel-item:last-child::after {align-self: flex-start;width: 50%;}#sk-container-id-4 div.sk-parallel-item:only-child::after {width: 0;}#sk-container-id-4 div.sk-dashed-wrapped {border: 1px dashed gray;margin: 0 0.4em 0.5em 0.4em;box-sizing: border-box;padding-bottom: 0.4em;background-color: white;}#sk-container-id-4 div.sk-label label {font-family: monospace;font-weight: bold;display: inline-block;line-height: 1.2em;}#sk-container-id-4 div.sk-label-container {text-align: center;}#sk-container-id-4 div.sk-container {/* jupyter's `normalize.less` sets `[hidden] { display: none; }` but bootstrap.min.css set `[hidden] { display: none !important; }` so we also need the `!important` here to be able to override the default hidden behavior on the sphinx rendered scikit-learn.org. See: https://github.com/scikit-learn/scikit-learn/issues/21755 */display: inline-block !important;position: relative;}#sk-container-id-4 div.sk-text-repr-fallback {display: none;}</style><div id=\"sk-container-id-4\" class=\"sk-top-container\"><div class=\"sk-text-repr-fallback\"><pre>KNeighborsClassifier(n_neighbors=3)</pre><b>In a Jupyter environment, please rerun this cell to show the HTML representation or trust the notebook. <br />On GitHub, the HTML representation is unable to render, please try loading this page with nbviewer.org.</b></div><div class=\"sk-container\" hidden><div class=\"sk-item\"><div class=\"sk-estimator sk-toggleable\"><input class=\"sk-toggleable__control sk-hidden--visually\" id=\"sk-estimator-id-4\" type=\"checkbox\" checked><label for=\"sk-estimator-id-4\" class=\"sk-toggleable__label sk-toggleable__label-arrow\">KNeighborsClassifier</label><div class=\"sk-toggleable__content\"><pre>KNeighborsClassifier(n_neighbors=3)</pre></div></div></div></div></div>"
            ]
          },
          "metadata": {},
          "execution_count": 95
        }
      ]
    },
    {
      "cell_type": "code",
      "source": [
        "accuracy_score(y_test,knn_final.predict(X_test_scaled))"
      ],
      "metadata": {
        "colab": {
          "base_uri": "https://localhost:8080/"
        },
        "id": "0gHow-TDtK70",
        "outputId": "f49598f1-c5f1-48a5-dcaa-0dc39f51ca77"
      },
      "execution_count": 96,
      "outputs": [
        {
          "output_type": "execute_result",
          "data": {
            "text/plain": [
              "0.7983333333333333"
            ]
          },
          "metadata": {},
          "execution_count": 96
        }
      ]
    },
    {
      "cell_type": "code",
      "source": [
        "def remove_features(data,threshold):\n",
        "  cols=set()\n",
        "  corr_matrix=data.corr()\n",
        "  for i in range(len(corr_matrix.columns)):\n",
        "    for j in range(i):\n",
        "      if abs(corr_matrix.iloc[i,j])>threshold:\n",
        "        col=corr_matrix.columns[i]\n",
        "        cols.add(col)\n",
        "  return cols"
      ],
      "metadata": {
        "id": "CK3Nb0YJv49V"
      },
      "execution_count": 57,
      "outputs": []
    },
    {
      "cell_type": "code",
      "source": [
        "print(remove_features(df,0.9))"
      ],
      "metadata": {
        "colab": {
          "base_uri": "https://localhost:8080/"
        },
        "id": "TCR0sjEP1vHY",
        "outputId": "e36418a2-f9e3-4dfa-a508-ab7ba560bfd7"
      },
      "execution_count": 58,
      "outputs": [
        {
          "output_type": "stream",
          "name": "stdout",
          "text": [
            "{'spec_centroid_mean', 'spectral bandwidth', 'spec_rolloff_mean'}\n"
          ]
        }
      ]
    },
    {
      "cell_type": "code",
      "source": [
        "to_remove_features=list(remove_features(df,0.9))"
      ],
      "metadata": {
        "id": "gLbzARmc15iu"
      },
      "execution_count": 59,
      "outputs": []
    },
    {
      "cell_type": "code",
      "source": [
        "to_remove_features"
      ],
      "metadata": {
        "colab": {
          "base_uri": "https://localhost:8080/"
        },
        "id": "gstFNkTj5b5v",
        "outputId": "acaadb50-0ccd-433a-92af-0bca03616334"
      },
      "execution_count": 60,
      "outputs": [
        {
          "output_type": "execute_result",
          "data": {
            "text/plain": [
              "['spec_centroid_mean', 'spectral bandwidth', 'spec_rolloff_mean']"
            ]
          },
          "metadata": {},
          "execution_count": 60
        }
      ]
    },
    {
      "cell_type": "code",
      "source": [
        "df_dropped=df.drop(to_remove_features, axis=1, inplace=False)"
      ],
      "metadata": {
        "id": "uUQMl7Ue21N-"
      },
      "execution_count": 51,
      "outputs": []
    },
    {
      "cell_type": "code",
      "source": [
        "df_dropped"
      ],
      "metadata": {
        "colab": {
          "base_uri": "https://localhost:8080/",
          "height": 487
        },
        "id": "S0aFlqZ733ia",
        "outputId": "ce1fe0c5-c918-45d0-853a-832a5b1ade2a"
      },
      "execution_count": 52,
      "outputs": [
        {
          "output_type": "execute_result",
          "data": {
            "text/plain": [
              "      mfcc_1_mean  mfcc_2_mean  mfcc_3_mean  mfcc_4_mean  mfcc_5_mean  \\\n",
              "0      -50.301060    65.000832   -15.586596    24.151360    13.733433   \n",
              "1      -31.750597    60.736282    24.139956    31.241039     2.136519   \n",
              "2      -75.035294    96.889786   -42.266544    32.801384   -23.849682   \n",
              "3     -156.329910   122.741257   -14.707937    48.038506   -11.606613   \n",
              "4     -100.339287   112.030823   -15.294786    41.654755   -19.679712   \n",
              "...           ...          ...          ...          ...          ...   \n",
              "9985   -51.272564    81.513519   -28.653175    56.308151   -10.535997   \n",
              "9986   -67.479210    90.402092   -27.733786    59.436359    -6.250907   \n",
              "9987   -55.058533    87.346092   -19.927719    60.388882   -11.754799   \n",
              "9988   -67.971680    94.375000   -28.688089    60.258968    -4.179653   \n",
              "9989   -59.989929    89.306175   -25.370422    59.618435    -5.545772   \n",
              "\n",
              "      mfcc_6_mean  mfcc_7_mean  mfcc_8_mean  mfcc_9_mean  mfcc_10_mean  ...  \\\n",
              "0        8.283072     1.318434    13.421028    -2.529228     11.713534  ...   \n",
              "1        5.373133    -3.185429     1.179479    -4.283859      0.793397  ...   \n",
              "2       20.555601   -29.976791    23.691111   -23.748465     15.762050  ...   \n",
              "3       24.119202   -16.624624    24.769871   -20.046635     15.317680  ...   \n",
              "4       25.494398   -24.541433    10.553091   -14.064342     12.947941  ...   \n",
              "...           ...          ...          ...          ...           ...  ...   \n",
              "9985    31.130234    -8.098077    28.449253    -8.183613     18.036379  ...   \n",
              "9986    28.624653    -7.209579    28.954365    -7.872764     11.214681  ...   \n",
              "9987    32.260807    -4.894770    28.355043    -9.412861     15.756772  ...   \n",
              "9988    28.241579    -6.862749    27.944193    -6.532009     12.609269  ...   \n",
              "9989    30.977369    -5.967918    27.477396    -8.516291     12.522017  ...   \n",
              "\n",
              "      mfcc_16_var  mfcc_17_var  mfcc_18_var  mfcc_19_var  mfcc_20_var  \\\n",
              "0      103.381210    65.673302    98.324867    95.062164    84.405876   \n",
              "1       22.756746    18.913548    44.256218    93.736984    92.435242   \n",
              "2       29.441832    48.471481    29.826180    44.424931    47.280510   \n",
              "3       43.520218    38.693924   135.945343   182.889175    24.797258   \n",
              "4       29.557539    27.536257    29.833553    34.739742    23.094280   \n",
              "...           ...          ...          ...          ...          ...   \n",
              "9985    21.354086    30.253679    27.032948    24.049213    28.306810   \n",
              "9986    23.298159    20.703903    23.013859    41.633972    13.235088   \n",
              "9987    31.047123    29.478701    20.255312    29.456209    17.879181   \n",
              "9988    18.727678     9.797893    15.926795    23.088692    16.794016   \n",
              "9989    19.916910    23.893139    18.734276    23.813034    17.866924   \n",
              "\n",
              "      spec_centroid_variance  spec_rolloff_var       tempo  rms_mean  genre  \n",
              "0              417062.205343      1.635365e+06  112.347147  0.190589    1.0  \n",
              "1              221725.834161      5.823030e+05  123.046875  0.179193    1.0  \n",
              "2              499815.142321      1.175147e+06  123.046875  0.118242    1.0  \n",
              "3               85516.119569      4.817530e+05   89.102909  0.089028    1.0  \n",
              "4              242855.254115      7.679091e+05  107.666016  0.118233    1.0  \n",
              "...                      ...               ...         ...       ...    ...  \n",
              "9985           267018.207486      7.402098e+05  151.999081  0.181989   10.0  \n",
              "9986           194784.980404      6.764114e+05  143.554688  0.162146   10.0  \n",
              "9987           209289.552741      5.193581e+05  143.554688  0.191495   10.0  \n",
              "9988           164558.120755      5.707942e+05  151.999081  0.163745   10.0  \n",
              "9989           303604.863986      8.204444e+05  143.554688  0.183736   10.0  \n",
              "\n",
              "[9990 rows x 45 columns]"
            ],
            "text/html": [
              "\n",
              "  <div id=\"df-a87fcceb-2c9f-4c2e-9507-277ff5c892ea\">\n",
              "    <div class=\"colab-df-container\">\n",
              "      <div>\n",
              "<style scoped>\n",
              "    .dataframe tbody tr th:only-of-type {\n",
              "        vertical-align: middle;\n",
              "    }\n",
              "\n",
              "    .dataframe tbody tr th {\n",
              "        vertical-align: top;\n",
              "    }\n",
              "\n",
              "    .dataframe thead th {\n",
              "        text-align: right;\n",
              "    }\n",
              "</style>\n",
              "<table border=\"1\" class=\"dataframe\">\n",
              "  <thead>\n",
              "    <tr style=\"text-align: right;\">\n",
              "      <th></th>\n",
              "      <th>mfcc_1_mean</th>\n",
              "      <th>mfcc_2_mean</th>\n",
              "      <th>mfcc_3_mean</th>\n",
              "      <th>mfcc_4_mean</th>\n",
              "      <th>mfcc_5_mean</th>\n",
              "      <th>mfcc_6_mean</th>\n",
              "      <th>mfcc_7_mean</th>\n",
              "      <th>mfcc_8_mean</th>\n",
              "      <th>mfcc_9_mean</th>\n",
              "      <th>mfcc_10_mean</th>\n",
              "      <th>...</th>\n",
              "      <th>mfcc_16_var</th>\n",
              "      <th>mfcc_17_var</th>\n",
              "      <th>mfcc_18_var</th>\n",
              "      <th>mfcc_19_var</th>\n",
              "      <th>mfcc_20_var</th>\n",
              "      <th>spec_centroid_variance</th>\n",
              "      <th>spec_rolloff_var</th>\n",
              "      <th>tempo</th>\n",
              "      <th>rms_mean</th>\n",
              "      <th>genre</th>\n",
              "    </tr>\n",
              "  </thead>\n",
              "  <tbody>\n",
              "    <tr>\n",
              "      <th>0</th>\n",
              "      <td>-50.301060</td>\n",
              "      <td>65.000832</td>\n",
              "      <td>-15.586596</td>\n",
              "      <td>24.151360</td>\n",
              "      <td>13.733433</td>\n",
              "      <td>8.283072</td>\n",
              "      <td>1.318434</td>\n",
              "      <td>13.421028</td>\n",
              "      <td>-2.529228</td>\n",
              "      <td>11.713534</td>\n",
              "      <td>...</td>\n",
              "      <td>103.381210</td>\n",
              "      <td>65.673302</td>\n",
              "      <td>98.324867</td>\n",
              "      <td>95.062164</td>\n",
              "      <td>84.405876</td>\n",
              "      <td>417062.205343</td>\n",
              "      <td>1.635365e+06</td>\n",
              "      <td>112.347147</td>\n",
              "      <td>0.190589</td>\n",
              "      <td>1.0</td>\n",
              "    </tr>\n",
              "    <tr>\n",
              "      <th>1</th>\n",
              "      <td>-31.750597</td>\n",
              "      <td>60.736282</td>\n",
              "      <td>24.139956</td>\n",
              "      <td>31.241039</td>\n",
              "      <td>2.136519</td>\n",
              "      <td>5.373133</td>\n",
              "      <td>-3.185429</td>\n",
              "      <td>1.179479</td>\n",
              "      <td>-4.283859</td>\n",
              "      <td>0.793397</td>\n",
              "      <td>...</td>\n",
              "      <td>22.756746</td>\n",
              "      <td>18.913548</td>\n",
              "      <td>44.256218</td>\n",
              "      <td>93.736984</td>\n",
              "      <td>92.435242</td>\n",
              "      <td>221725.834161</td>\n",
              "      <td>5.823030e+05</td>\n",
              "      <td>123.046875</td>\n",
              "      <td>0.179193</td>\n",
              "      <td>1.0</td>\n",
              "    </tr>\n",
              "    <tr>\n",
              "      <th>2</th>\n",
              "      <td>-75.035294</td>\n",
              "      <td>96.889786</td>\n",
              "      <td>-42.266544</td>\n",
              "      <td>32.801384</td>\n",
              "      <td>-23.849682</td>\n",
              "      <td>20.555601</td>\n",
              "      <td>-29.976791</td>\n",
              "      <td>23.691111</td>\n",
              "      <td>-23.748465</td>\n",
              "      <td>15.762050</td>\n",
              "      <td>...</td>\n",
              "      <td>29.441832</td>\n",
              "      <td>48.471481</td>\n",
              "      <td>29.826180</td>\n",
              "      <td>44.424931</td>\n",
              "      <td>47.280510</td>\n",
              "      <td>499815.142321</td>\n",
              "      <td>1.175147e+06</td>\n",
              "      <td>123.046875</td>\n",
              "      <td>0.118242</td>\n",
              "      <td>1.0</td>\n",
              "    </tr>\n",
              "    <tr>\n",
              "      <th>3</th>\n",
              "      <td>-156.329910</td>\n",
              "      <td>122.741257</td>\n",
              "      <td>-14.707937</td>\n",
              "      <td>48.038506</td>\n",
              "      <td>-11.606613</td>\n",
              "      <td>24.119202</td>\n",
              "      <td>-16.624624</td>\n",
              "      <td>24.769871</td>\n",
              "      <td>-20.046635</td>\n",
              "      <td>15.317680</td>\n",
              "      <td>...</td>\n",
              "      <td>43.520218</td>\n",
              "      <td>38.693924</td>\n",
              "      <td>135.945343</td>\n",
              "      <td>182.889175</td>\n",
              "      <td>24.797258</td>\n",
              "      <td>85516.119569</td>\n",
              "      <td>4.817530e+05</td>\n",
              "      <td>89.102909</td>\n",
              "      <td>0.089028</td>\n",
              "      <td>1.0</td>\n",
              "    </tr>\n",
              "    <tr>\n",
              "      <th>4</th>\n",
              "      <td>-100.339287</td>\n",
              "      <td>112.030823</td>\n",
              "      <td>-15.294786</td>\n",
              "      <td>41.654755</td>\n",
              "      <td>-19.679712</td>\n",
              "      <td>25.494398</td>\n",
              "      <td>-24.541433</td>\n",
              "      <td>10.553091</td>\n",
              "      <td>-14.064342</td>\n",
              "      <td>12.947941</td>\n",
              "      <td>...</td>\n",
              "      <td>29.557539</td>\n",
              "      <td>27.536257</td>\n",
              "      <td>29.833553</td>\n",
              "      <td>34.739742</td>\n",
              "      <td>23.094280</td>\n",
              "      <td>242855.254115</td>\n",
              "      <td>7.679091e+05</td>\n",
              "      <td>107.666016</td>\n",
              "      <td>0.118233</td>\n",
              "      <td>1.0</td>\n",
              "    </tr>\n",
              "    <tr>\n",
              "      <th>...</th>\n",
              "      <td>...</td>\n",
              "      <td>...</td>\n",
              "      <td>...</td>\n",
              "      <td>...</td>\n",
              "      <td>...</td>\n",
              "      <td>...</td>\n",
              "      <td>...</td>\n",
              "      <td>...</td>\n",
              "      <td>...</td>\n",
              "      <td>...</td>\n",
              "      <td>...</td>\n",
              "      <td>...</td>\n",
              "      <td>...</td>\n",
              "      <td>...</td>\n",
              "      <td>...</td>\n",
              "      <td>...</td>\n",
              "      <td>...</td>\n",
              "      <td>...</td>\n",
              "      <td>...</td>\n",
              "      <td>...</td>\n",
              "      <td>...</td>\n",
              "    </tr>\n",
              "    <tr>\n",
              "      <th>9985</th>\n",
              "      <td>-51.272564</td>\n",
              "      <td>81.513519</td>\n",
              "      <td>-28.653175</td>\n",
              "      <td>56.308151</td>\n",
              "      <td>-10.535997</td>\n",
              "      <td>31.130234</td>\n",
              "      <td>-8.098077</td>\n",
              "      <td>28.449253</td>\n",
              "      <td>-8.183613</td>\n",
              "      <td>18.036379</td>\n",
              "      <td>...</td>\n",
              "      <td>21.354086</td>\n",
              "      <td>30.253679</td>\n",
              "      <td>27.032948</td>\n",
              "      <td>24.049213</td>\n",
              "      <td>28.306810</td>\n",
              "      <td>267018.207486</td>\n",
              "      <td>7.402098e+05</td>\n",
              "      <td>151.999081</td>\n",
              "      <td>0.181989</td>\n",
              "      <td>10.0</td>\n",
              "    </tr>\n",
              "    <tr>\n",
              "      <th>9986</th>\n",
              "      <td>-67.479210</td>\n",
              "      <td>90.402092</td>\n",
              "      <td>-27.733786</td>\n",
              "      <td>59.436359</td>\n",
              "      <td>-6.250907</td>\n",
              "      <td>28.624653</td>\n",
              "      <td>-7.209579</td>\n",
              "      <td>28.954365</td>\n",
              "      <td>-7.872764</td>\n",
              "      <td>11.214681</td>\n",
              "      <td>...</td>\n",
              "      <td>23.298159</td>\n",
              "      <td>20.703903</td>\n",
              "      <td>23.013859</td>\n",
              "      <td>41.633972</td>\n",
              "      <td>13.235088</td>\n",
              "      <td>194784.980404</td>\n",
              "      <td>6.764114e+05</td>\n",
              "      <td>143.554688</td>\n",
              "      <td>0.162146</td>\n",
              "      <td>10.0</td>\n",
              "    </tr>\n",
              "    <tr>\n",
              "      <th>9987</th>\n",
              "      <td>-55.058533</td>\n",
              "      <td>87.346092</td>\n",
              "      <td>-19.927719</td>\n",
              "      <td>60.388882</td>\n",
              "      <td>-11.754799</td>\n",
              "      <td>32.260807</td>\n",
              "      <td>-4.894770</td>\n",
              "      <td>28.355043</td>\n",
              "      <td>-9.412861</td>\n",
              "      <td>15.756772</td>\n",
              "      <td>...</td>\n",
              "      <td>31.047123</td>\n",
              "      <td>29.478701</td>\n",
              "      <td>20.255312</td>\n",
              "      <td>29.456209</td>\n",
              "      <td>17.879181</td>\n",
              "      <td>209289.552741</td>\n",
              "      <td>5.193581e+05</td>\n",
              "      <td>143.554688</td>\n",
              "      <td>0.191495</td>\n",
              "      <td>10.0</td>\n",
              "    </tr>\n",
              "    <tr>\n",
              "      <th>9988</th>\n",
              "      <td>-67.971680</td>\n",
              "      <td>94.375000</td>\n",
              "      <td>-28.688089</td>\n",
              "      <td>60.258968</td>\n",
              "      <td>-4.179653</td>\n",
              "      <td>28.241579</td>\n",
              "      <td>-6.862749</td>\n",
              "      <td>27.944193</td>\n",
              "      <td>-6.532009</td>\n",
              "      <td>12.609269</td>\n",
              "      <td>...</td>\n",
              "      <td>18.727678</td>\n",
              "      <td>9.797893</td>\n",
              "      <td>15.926795</td>\n",
              "      <td>23.088692</td>\n",
              "      <td>16.794016</td>\n",
              "      <td>164558.120755</td>\n",
              "      <td>5.707942e+05</td>\n",
              "      <td>151.999081</td>\n",
              "      <td>0.163745</td>\n",
              "      <td>10.0</td>\n",
              "    </tr>\n",
              "    <tr>\n",
              "      <th>9989</th>\n",
              "      <td>-59.989929</td>\n",
              "      <td>89.306175</td>\n",
              "      <td>-25.370422</td>\n",
              "      <td>59.618435</td>\n",
              "      <td>-5.545772</td>\n",
              "      <td>30.977369</td>\n",
              "      <td>-5.967918</td>\n",
              "      <td>27.477396</td>\n",
              "      <td>-8.516291</td>\n",
              "      <td>12.522017</td>\n",
              "      <td>...</td>\n",
              "      <td>19.916910</td>\n",
              "      <td>23.893139</td>\n",
              "      <td>18.734276</td>\n",
              "      <td>23.813034</td>\n",
              "      <td>17.866924</td>\n",
              "      <td>303604.863986</td>\n",
              "      <td>8.204444e+05</td>\n",
              "      <td>143.554688</td>\n",
              "      <td>0.183736</td>\n",
              "      <td>10.0</td>\n",
              "    </tr>\n",
              "  </tbody>\n",
              "</table>\n",
              "<p>9990 rows × 45 columns</p>\n",
              "</div>\n",
              "      <button class=\"colab-df-convert\" onclick=\"convertToInteractive('df-a87fcceb-2c9f-4c2e-9507-277ff5c892ea')\"\n",
              "              title=\"Convert this dataframe to an interactive table.\"\n",
              "              style=\"display:none;\">\n",
              "        \n",
              "  <svg xmlns=\"http://www.w3.org/2000/svg\" height=\"24px\"viewBox=\"0 0 24 24\"\n",
              "       width=\"24px\">\n",
              "    <path d=\"M0 0h24v24H0V0z\" fill=\"none\"/>\n",
              "    <path d=\"M18.56 5.44l.94 2.06.94-2.06 2.06-.94-2.06-.94-.94-2.06-.94 2.06-2.06.94zm-11 1L8.5 8.5l.94-2.06 2.06-.94-2.06-.94L8.5 2.5l-.94 2.06-2.06.94zm10 10l.94 2.06.94-2.06 2.06-.94-2.06-.94-.94-2.06-.94 2.06-2.06.94z\"/><path d=\"M17.41 7.96l-1.37-1.37c-.4-.4-.92-.59-1.43-.59-.52 0-1.04.2-1.43.59L10.3 9.45l-7.72 7.72c-.78.78-.78 2.05 0 2.83L4 21.41c.39.39.9.59 1.41.59.51 0 1.02-.2 1.41-.59l7.78-7.78 2.81-2.81c.8-.78.8-2.07 0-2.86zM5.41 20L4 18.59l7.72-7.72 1.47 1.35L5.41 20z\"/>\n",
              "  </svg>\n",
              "      </button>\n",
              "      \n",
              "  <style>\n",
              "    .colab-df-container {\n",
              "      display:flex;\n",
              "      flex-wrap:wrap;\n",
              "      gap: 12px;\n",
              "    }\n",
              "\n",
              "    .colab-df-convert {\n",
              "      background-color: #E8F0FE;\n",
              "      border: none;\n",
              "      border-radius: 50%;\n",
              "      cursor: pointer;\n",
              "      display: none;\n",
              "      fill: #1967D2;\n",
              "      height: 32px;\n",
              "      padding: 0 0 0 0;\n",
              "      width: 32px;\n",
              "    }\n",
              "\n",
              "    .colab-df-convert:hover {\n",
              "      background-color: #E2EBFA;\n",
              "      box-shadow: 0px 1px 2px rgba(60, 64, 67, 0.3), 0px 1px 3px 1px rgba(60, 64, 67, 0.15);\n",
              "      fill: #174EA6;\n",
              "    }\n",
              "\n",
              "    [theme=dark] .colab-df-convert {\n",
              "      background-color: #3B4455;\n",
              "      fill: #D2E3FC;\n",
              "    }\n",
              "\n",
              "    [theme=dark] .colab-df-convert:hover {\n",
              "      background-color: #434B5C;\n",
              "      box-shadow: 0px 1px 3px 1px rgba(0, 0, 0, 0.15);\n",
              "      filter: drop-shadow(0px 1px 2px rgba(0, 0, 0, 0.3));\n",
              "      fill: #FFFFFF;\n",
              "    }\n",
              "  </style>\n",
              "\n",
              "      <script>\n",
              "        const buttonEl =\n",
              "          document.querySelector('#df-a87fcceb-2c9f-4c2e-9507-277ff5c892ea button.colab-df-convert');\n",
              "        buttonEl.style.display =\n",
              "          google.colab.kernel.accessAllowed ? 'block' : 'none';\n",
              "\n",
              "        async function convertToInteractive(key) {\n",
              "          const element = document.querySelector('#df-a87fcceb-2c9f-4c2e-9507-277ff5c892ea');\n",
              "          const dataTable =\n",
              "            await google.colab.kernel.invokeFunction('convertToInteractive',\n",
              "                                                     [key], {});\n",
              "          if (!dataTable) return;\n",
              "\n",
              "          const docLinkHtml = 'Like what you see? Visit the ' +\n",
              "            '<a target=\"_blank\" href=https://colab.research.google.com/notebooks/data_table.ipynb>data table notebook</a>'\n",
              "            + ' to learn more about interactive tables.';\n",
              "          element.innerHTML = '';\n",
              "          dataTable['output_type'] = 'display_data';\n",
              "          await google.colab.output.renderOutput(dataTable, element);\n",
              "          const docLink = document.createElement('div');\n",
              "          docLink.innerHTML = docLinkHtml;\n",
              "          element.appendChild(docLink);\n",
              "        }\n",
              "      </script>\n",
              "    </div>\n",
              "  </div>\n",
              "  "
            ]
          },
          "metadata": {},
          "execution_count": 52
        }
      ]
    },
    {
      "cell_type": "code",
      "source": [
        "X=df_dropped.iloc[:,:-1]\n",
        "y=df_dropped.iloc[:,-1]\n",
        "y=np.array(y)\n",
        "ohe = OneHotEncoder()\n",
        "y_onehot = ohe.fit_transform(y.reshape(-1, 1)).toarray()\n",
        "X_train, X_test, y_train, y_test = train_test_split(X, y_onehot, test_size=0.2, random_state=42)\n",
        "sc.fit(X_train)\n",
        "X_train_scaled=sc.transform(X_train)\n",
        "X_test_scaled=sc.transform(X_test)"
      ],
      "metadata": {
        "id": "e0HD_N0436jw"
      },
      "execution_count": 53,
      "outputs": []
    },
    {
      "cell_type": "code",
      "source": [
        "X_train_scaled.shape"
      ],
      "metadata": {
        "colab": {
          "base_uri": "https://localhost:8080/"
        },
        "id": "cCS4wB1S4xri",
        "outputId": "7e8c9968-3450-40d3-8f8b-5380e679fec2"
      },
      "execution_count": 54,
      "outputs": [
        {
          "output_type": "execute_result",
          "data": {
            "text/plain": [
              "(7992, 44)"
            ]
          },
          "metadata": {},
          "execution_count": 54
        }
      ]
    },
    {
      "cell_type": "code",
      "source": [
        "new_models=[]"
      ],
      "metadata": {
        "id": "xL-vOEDx49UN"
      },
      "execution_count": 55,
      "outputs": []
    },
    {
      "cell_type": "code",
      "source": [
        "for i in nearest_neighbors:\n",
        "  knn = KNeighborsClassifier(n_neighbors=i)\n",
        "  knn.fit(X_train_scaled,y_train)\n",
        "  cv_scores = cross_val_score(knn, X_train_scaled, y_train, cv=10)\n",
        "  # y_predict=knn.predict(X_test_scaled)\n",
        "  dictionary={'neighbors':i,'cross validation score':np.mean(cv_scores)}\n",
        "  new_models.append(dictionary)"
      ],
      "metadata": {
        "id": "Bpc84P4x4zvI"
      },
      "execution_count": 56,
      "outputs": []
    },
    {
      "cell_type": "code",
      "source": [
        "new_models"
      ],
      "metadata": {
        "colab": {
          "base_uri": "https://localhost:8080/"
        },
        "id": "rbaC52DP5DM3",
        "outputId": "a1b84b5d-dc93-42e2-8679-81a4b360a95f"
      },
      "execution_count": 57,
      "outputs": [
        {
          "output_type": "execute_result",
          "data": {
            "text/plain": [
              "[{'neighbors': 3, 'cross validation score': 0.8221969649561952},\n",
              " {'neighbors': 5, 'cross validation score': 0.7815298811013767},\n",
              " {'neighbors': 7, 'cross validation score': 0.7462451501877347}]"
            ]
          },
          "metadata": {},
          "execution_count": 57
        }
      ]
    },
    {
      "cell_type": "code",
      "source": [
        "knn_final = KNeighborsClassifier(n_neighbors=3)\n",
        "knn_final.fit(X_train_scaled,y_train)\n",
        "accuracy_score(y_test,knn_final.predict(X_test_scaled))"
      ],
      "metadata": {
        "colab": {
          "base_uri": "https://localhost:8080/"
        },
        "id": "r85dChk15HUR",
        "outputId": "a1f12b7c-1b5e-455e-99c5-cede15b578b4"
      },
      "execution_count": 58,
      "outputs": [
        {
          "output_type": "execute_result",
          "data": {
            "text/plain": [
              "0.8378378378378378"
            ]
          },
          "metadata": {},
          "execution_count": 58
        }
      ]
    },
    {
      "cell_type": "code",
      "source": [
        "X=df.iloc[:,:-1]\n",
        "y=df.iloc[:,-1]\n",
        "y=np.array(y)\n",
        "ohe = OneHotEncoder()\n",
        "y_onehot = ohe.fit_transform(y.reshape(-1, 1)).toarray()\n",
        "X_train, X_test, y_train, y_test = train_test_split(X, y_onehot, test_size=0.2, random_state=42)\n",
        "sc.fit(X_train)\n",
        "X_train_scaled=sc.transform(X_train)\n",
        "X_test_scaled=sc.transform(X_test)\n",
        "print(X_train_scaled.shape)"
      ],
      "metadata": {
        "colab": {
          "base_uri": "https://localhost:8080/"
        },
        "id": "FUQhztbS5jDS",
        "outputId": "ed36a523-f4ea-41ae-dfab-db7b7d249b7b"
      },
      "execution_count": 59,
      "outputs": [
        {
          "output_type": "stream",
          "name": "stdout",
          "text": [
            "(7992, 47)\n"
          ]
        }
      ]
    },
    {
      "cell_type": "code",
      "source": [
        "X_test_scaled.shape"
      ],
      "metadata": {
        "colab": {
          "base_uri": "https://localhost:8080/"
        },
        "id": "6cuMG6xi5QBf",
        "outputId": "a1322331-6293-44a7-ea21-8d5e2c4f336a"
      },
      "execution_count": 60,
      "outputs": [
        {
          "output_type": "execute_result",
          "data": {
            "text/plain": [
              "(1998, 47)"
            ]
          },
          "metadata": {},
          "execution_count": 60
        }
      ]
    },
    {
      "cell_type": "code",
      "source": [
        "#Performing PCA"
      ],
      "metadata": {
        "id": "2Y5qW2fB6j75"
      },
      "execution_count": 61,
      "outputs": []
    },
    {
      "cell_type": "code",
      "source": [
        "from sklearn.decomposition import PCA"
      ],
      "metadata": {
        "id": "Nxr0VFxR6hRM"
      },
      "execution_count": 28,
      "outputs": []
    },
    {
      "cell_type": "code",
      "source": [
        "# we will use n_components=47(number of original features to find out how many components capture most of the variance)"
      ],
      "metadata": {
        "id": "78o90PNp6zMw"
      },
      "execution_count": 63,
      "outputs": []
    },
    {
      "cell_type": "code",
      "source": [
        "pca=PCA()\n",
        "pca.fit(X_train_scaled)"
      ],
      "metadata": {
        "colab": {
          "base_uri": "https://localhost:8080/",
          "height": 74
        },
        "id": "Jsxt8Cm9753t",
        "outputId": "ba4909d6-e903-42c4-a50d-9272e44e70cf"
      },
      "execution_count": 64,
      "outputs": [
        {
          "output_type": "execute_result",
          "data": {
            "text/plain": [
              "PCA()"
            ],
            "text/html": [
              "<style>#sk-container-id-3 {color: black;background-color: white;}#sk-container-id-3 pre{padding: 0;}#sk-container-id-3 div.sk-toggleable {background-color: white;}#sk-container-id-3 label.sk-toggleable__label {cursor: pointer;display: block;width: 100%;margin-bottom: 0;padding: 0.3em;box-sizing: border-box;text-align: center;}#sk-container-id-3 label.sk-toggleable__label-arrow:before {content: \"▸\";float: left;margin-right: 0.25em;color: #696969;}#sk-container-id-3 label.sk-toggleable__label-arrow:hover:before {color: black;}#sk-container-id-3 div.sk-estimator:hover label.sk-toggleable__label-arrow:before {color: black;}#sk-container-id-3 div.sk-toggleable__content {max-height: 0;max-width: 0;overflow: hidden;text-align: left;background-color: #f0f8ff;}#sk-container-id-3 div.sk-toggleable__content pre {margin: 0.2em;color: black;border-radius: 0.25em;background-color: #f0f8ff;}#sk-container-id-3 input.sk-toggleable__control:checked~div.sk-toggleable__content {max-height: 200px;max-width: 100%;overflow: auto;}#sk-container-id-3 input.sk-toggleable__control:checked~label.sk-toggleable__label-arrow:before {content: \"▾\";}#sk-container-id-3 div.sk-estimator input.sk-toggleable__control:checked~label.sk-toggleable__label {background-color: #d4ebff;}#sk-container-id-3 div.sk-label input.sk-toggleable__control:checked~label.sk-toggleable__label {background-color: #d4ebff;}#sk-container-id-3 input.sk-hidden--visually {border: 0;clip: rect(1px 1px 1px 1px);clip: rect(1px, 1px, 1px, 1px);height: 1px;margin: -1px;overflow: hidden;padding: 0;position: absolute;width: 1px;}#sk-container-id-3 div.sk-estimator {font-family: monospace;background-color: #f0f8ff;border: 1px dotted black;border-radius: 0.25em;box-sizing: border-box;margin-bottom: 0.5em;}#sk-container-id-3 div.sk-estimator:hover {background-color: #d4ebff;}#sk-container-id-3 div.sk-parallel-item::after {content: \"\";width: 100%;border-bottom: 1px solid gray;flex-grow: 1;}#sk-container-id-3 div.sk-label:hover label.sk-toggleable__label {background-color: #d4ebff;}#sk-container-id-3 div.sk-serial::before {content: \"\";position: absolute;border-left: 1px solid gray;box-sizing: border-box;top: 0;bottom: 0;left: 50%;z-index: 0;}#sk-container-id-3 div.sk-serial {display: flex;flex-direction: column;align-items: center;background-color: white;padding-right: 0.2em;padding-left: 0.2em;position: relative;}#sk-container-id-3 div.sk-item {position: relative;z-index: 1;}#sk-container-id-3 div.sk-parallel {display: flex;align-items: stretch;justify-content: center;background-color: white;position: relative;}#sk-container-id-3 div.sk-item::before, #sk-container-id-3 div.sk-parallel-item::before {content: \"\";position: absolute;border-left: 1px solid gray;box-sizing: border-box;top: 0;bottom: 0;left: 50%;z-index: -1;}#sk-container-id-3 div.sk-parallel-item {display: flex;flex-direction: column;z-index: 1;position: relative;background-color: white;}#sk-container-id-3 div.sk-parallel-item:first-child::after {align-self: flex-end;width: 50%;}#sk-container-id-3 div.sk-parallel-item:last-child::after {align-self: flex-start;width: 50%;}#sk-container-id-3 div.sk-parallel-item:only-child::after {width: 0;}#sk-container-id-3 div.sk-dashed-wrapped {border: 1px dashed gray;margin: 0 0.4em 0.5em 0.4em;box-sizing: border-box;padding-bottom: 0.4em;background-color: white;}#sk-container-id-3 div.sk-label label {font-family: monospace;font-weight: bold;display: inline-block;line-height: 1.2em;}#sk-container-id-3 div.sk-label-container {text-align: center;}#sk-container-id-3 div.sk-container {/* jupyter's `normalize.less` sets `[hidden] { display: none; }` but bootstrap.min.css set `[hidden] { display: none !important; }` so we also need the `!important` here to be able to override the default hidden behavior on the sphinx rendered scikit-learn.org. See: https://github.com/scikit-learn/scikit-learn/issues/21755 */display: inline-block !important;position: relative;}#sk-container-id-3 div.sk-text-repr-fallback {display: none;}</style><div id=\"sk-container-id-3\" class=\"sk-top-container\"><div class=\"sk-text-repr-fallback\"><pre>PCA()</pre><b>In a Jupyter environment, please rerun this cell to show the HTML representation or trust the notebook. <br />On GitHub, the HTML representation is unable to render, please try loading this page with nbviewer.org.</b></div><div class=\"sk-container\" hidden><div class=\"sk-item\"><div class=\"sk-estimator sk-toggleable\"><input class=\"sk-toggleable__control sk-hidden--visually\" id=\"sk-estimator-id-3\" type=\"checkbox\" checked><label for=\"sk-estimator-id-3\" class=\"sk-toggleable__label sk-toggleable__label-arrow\">PCA</label><div class=\"sk-toggleable__content\"><pre>PCA()</pre></div></div></div></div></div>"
            ]
          },
          "metadata": {},
          "execution_count": 64
        }
      ]
    },
    {
      "cell_type": "code",
      "source": [
        "plt.plot(np.cumsum(pca.explained_variance_ratio_))\n",
        "plt.xlabel('Number of components')\n",
        "plt.ylabel('Cumulative explained variance')\n",
        "plt.show()"
      ],
      "metadata": {
        "colab": {
          "base_uri": "https://localhost:8080/",
          "height": 449
        },
        "id": "MyZLWg658DG6",
        "outputId": "79cf4425-725c-4a13-c1ad-7cf2ea14186e"
      },
      "execution_count": 65,
      "outputs": [
        {
          "output_type": "display_data",
          "data": {
            "text/plain": [
              "<Figure size 640x480 with 1 Axes>"
            ],
            "image/png": "[encoded data removed]"
          },
          "metadata": {}
        }
      ]
    },
    {
      "cell_type": "code",
      "source": [
        "#we will use n=30"
      ],
      "metadata": {
        "id": "p55buxmE8Dqe"
      },
      "execution_count": 66,
      "outputs": []
    },
    {
      "cell_type": "code",
      "source": [
        "pca_30=PCA(n_components=30)\n",
        "pca_30.fit(X_train_scaled)\n",
        "X_pca_30_train=pca_30.transform(X_train_scaled)"
      ],
      "metadata": {
        "id": "EatHE0Yd9F7M"
      },
      "execution_count": 67,
      "outputs": []
    },
    {
      "cell_type": "code",
      "source": [
        "X_pca_30_train.shape"
      ],
      "metadata": {
        "colab": {
          "base_uri": "https://localhost:8080/"
        },
        "id": "NlFcIhC-9aWN",
        "outputId": "da36483f-ee92-42ba-c1ca-3182ed6f0c9b"
      },
      "execution_count": 68,
      "outputs": [
        {
          "output_type": "execute_result",
          "data": {
            "text/plain": [
              "(7992, 30)"
            ]
          },
          "metadata": {},
          "execution_count": 68
        }
      ]
    },
    {
      "cell_type": "code",
      "source": [
        "X_pca_30_test=pca_30.transform(X_test_scaled)\n",
        "X_pca_30_test.shape"
      ],
      "metadata": {
        "colab": {
          "base_uri": "https://localhost:8080/"
        },
        "id": "GcZaHUjZ9eGZ",
        "outputId": "efde37fd-b515-4103-e080-422d8b81646d"
      },
      "execution_count": 69,
      "outputs": [
        {
          "output_type": "execute_result",
          "data": {
            "text/plain": [
              "(1998, 30)"
            ]
          },
          "metadata": {},
          "execution_count": 69
        }
      ]
    },
    {
      "cell_type": "code",
      "source": [
        "new_models=[]"
      ],
      "metadata": {
        "id": "18HKx4b--EuD"
      },
      "execution_count": 70,
      "outputs": []
    },
    {
      "cell_type": "code",
      "source": [
        "for i in nearest_neighbors:\n",
        "  knn = KNeighborsClassifier(n_neighbors=i)\n",
        "  knn.fit(X_pca_30_train,y_train)\n",
        "  cv_scores = cross_val_score(knn, X_pca_30_train, y_train, cv=10)\n",
        "  # y_predict=knn.predict(X_test_scaled)\n",
        "  dictionary={'neighbors':i,'cross validation score':np.mean(cv_scores)}\n",
        "  new_models.append(dictionary)"
      ],
      "metadata": {
        "id": "OmX70mWx9wf5"
      },
      "execution_count": 71,
      "outputs": []
    },
    {
      "cell_type": "code",
      "source": [
        "new_models"
      ],
      "metadata": {
        "colab": {
          "base_uri": "https://localhost:8080/"
        },
        "id": "DwQa4JfE-DIa",
        "outputId": "7e30d114-1f1b-40e0-d963-c54a09ab4af9"
      },
      "execution_count": 72,
      "outputs": [
        {
          "output_type": "execute_result",
          "data": {
            "text/plain": [
              "[{'neighbors': 3, 'cross validation score': 0.7934202127659574},\n",
              " {'neighbors': 5, 'cross validation score': 0.7533789111389236},\n",
              " {'neighbors': 7, 'cross validation score': 0.7178421464330413}]"
            ]
          },
          "metadata": {},
          "execution_count": 72
        }
      ]
    },
    {
      "cell_type": "code",
      "source": [
        "knn_final = KNeighborsClassifier(n_neighbors=3)\n",
        "knn_final.fit(X_pca_30_train,y_train)\n",
        "accuracy_score(y_test,knn_final.predict(X_pca_30_test))"
      ],
      "metadata": {
        "colab": {
          "base_uri": "https://localhost:8080/"
        },
        "id": "-Y0uRAWt-HrE",
        "outputId": "05abd349-4059-440c-b782-a5533fcfedd2"
      },
      "execution_count": 73,
      "outputs": [
        {
          "output_type": "execute_result",
          "data": {
            "text/plain": [
              "0.8113113113113113"
            ]
          },
          "metadata": {},
          "execution_count": 73
        }
      ]
    },
    {
      "cell_type": "markdown",
      "source": [
        "# **SVM ANALYSIS**"
      ],
      "metadata": {
        "id": "7Zmd6ySlrjq7"
      }
    },
    {
      "cell_type": "code",
      "source": [
        "X=df.iloc[:,:-1]\n",
        "y=df.iloc[:,-1]\n",
        "y=np.array(y)\n",
        "# ohe = OneHotEncoder()\n",
        "# y_onehot = ohe.fit_transform(y.reshape(-1, 1)).toarray()\n",
        "X_train, X_test, y_train, y_test = train_test_split(X, y, test_size=0.2, random_state=42)\n",
        "sc.fit(X_train)\n",
        "X_train_scaled=sc.transform(X_train)\n",
        "X_test_scaled=sc.transform(X_test)\n",
        "print(X_train_scaled.shape)"
      ],
      "metadata": {
        "id": "fPxlCsVCNdAz",
        "colab": {
          "base_uri": "https://localhost:8080/"
        },
        "outputId": "17adb954-9537-4cc3-b156-a7ac2ed48a40"
      },
      "execution_count": 104,
      "outputs": [
        {
          "output_type": "stream",
          "name": "stdout",
          "text": [
            "(7992, 47)\n"
          ]
        }
      ]
    },
    {
      "cell_type": "code",
      "source": [],
      "metadata": {
        "id": "PpBv8A90-C0Y"
      },
      "execution_count": 104,
      "outputs": []
    },
    {
      "cell_type": "code",
      "source": [
        "# We will visualize our data for SVM Analysis"
      ],
      "metadata": {
        "id": "30HbYWSWsWa-"
      },
      "execution_count": 105,
      "outputs": []
    },
    {
      "cell_type": "code",
      "source": [
        "pca_2=PCA(n_components=2)\n",
        "pca_2.fit(X_train_scaled)\n",
        "X_pca_2_train=pca_2.transform(X_train_scaled)"
      ],
      "metadata": {
        "id": "krMyZnqcsr_V"
      },
      "execution_count": 40,
      "outputs": []
    },
    {
      "cell_type": "code",
      "source": [
        "X_pca_2_train.shape"
      ],
      "metadata": {
        "colab": {
          "base_uri": "https://localhost:8080/"
        },
        "id": "4rsURAgGtQoc",
        "outputId": "767b0e7e-f3fe-406e-8384-67b0e3a953e0"
      },
      "execution_count": 41,
      "outputs": [
        {
          "output_type": "execute_result",
          "data": {
            "text/plain": [
              "(7992, 2)"
            ]
          },
          "metadata": {},
          "execution_count": 41
        }
      ]
    },
    {
      "cell_type": "code",
      "source": [
        "np.unique(y_train)"
      ],
      "metadata": {
        "colab": {
          "base_uri": "https://localhost:8080/"
        },
        "id": "kBNkiHr2tmaH",
        "outputId": "6becd469-f680-4f20-e53c-6783e049aac5"
      },
      "execution_count": 42,
      "outputs": [
        {
          "output_type": "execute_result",
          "data": {
            "text/plain": [
              "array([ 1.,  2.,  3.,  4.,  5.,  6.,  7.,  8.,  9., 10.])"
            ]
          },
          "metadata": {},
          "execution_count": 42
        }
      ]
    },
    {
      "cell_type": "code",
      "source": [],
      "metadata": {
        "id": "xyNOpJU4uyV-"
      },
      "execution_count": 34,
      "outputs": []
    },
    {
      "cell_type": "code",
      "source": [
        "plt.scatter(X_pca_2_train[:,0],X_pca_2_train[:,1],c=y_train)\n",
        "plt.xlim(-3, 3)  # Set the range for the x-axis\n",
        "plt.ylim(-3, 3)  # Set the range for the y-axis"
      ],
      "metadata": {
        "colab": {
          "base_uri": "https://localhost:8080/",
          "height": 453
        },
        "id": "we2n8P24uYAO",
        "outputId": "608e6843-b9a9-432d-9d71-3c8543f05991"
      },
      "execution_count": 45,
      "outputs": [
        {
          "output_type": "execute_result",
          "data": {
            "text/plain": [
              "(-3.0, 3.0)"
            ]
          },
          "metadata": {},
          "execution_count": 45
        },
        {
          "output_type": "display_data",
          "data": {
            "text/plain": [
              "<Figure size 640x480 with 1 Axes>"
            ],
            "image/png": "[encoded data removed]"
          },
          "metadata": {}
        }
      ]
    },
    {
      "cell_type": "code",
      "source": [
        "from sklearn.svm import SVC"
      ],
      "metadata": {
        "id": "hcph2d2rwpHH"
      },
      "execution_count": 48,
      "outputs": []
    },
    {
      "cell_type": "code",
      "source": [
        "Cs=[0.1,0.5,1,3,5,10]\n",
        "kernels=[\"linear\", \"poly\", \"rbf\", \"sigmoid\"]\n",
        "degrees=[1,3,5]\n",
        "models=[]\n",
        "for c in Cs:\n",
        "  for kernel in kernels:\n",
        "      if kernel=='poly':\n",
        "        for degree in degrees:\n",
        "          print(c,kernel,degree)\n",
        "          svc = SVC(C=c,kernel=kernel,degree=degree)\n",
        "          # svc.fit(X_train_scaled,y_train)\n",
        "          cv_scores = cross_val_score(svc, X_train_scaled, y_train, cv=5)\n",
        "          # y_predict=knn.predict(X_test_scaled)\n",
        "          dictionary={'c':c,'kernel':kernel,'degree':degree,'cross validation score':np.mean(cv_scores)}\n",
        "          models.append(dictionary)\n",
        "      else:\n",
        "        print(c,kernel)\n",
        "        svc = SVC(C=c,kernel=kernel)\n",
        "        # svc.fit(X_train_scaled,y_train)\n",
        "        cv_scores = cross_val_score(svc, X_train_scaled, y_train, cv=5)\n",
        "        # y_predict=knn.predict(X_test_scaled)\n",
        "        dictionary={'c':c,'kernel':kernel,'cross validation score':np.mean(cv_scores)}\n",
        "        models.append(dictionary)"
      ],
      "metadata": {
        "colab": {
          "base_uri": "https://localhost:8080/"
        },
        "id": "RQqp8rkRuuWG",
        "outputId": "1844040b-c07f-4e6b-bef8-16d9863a68cc"
      },
      "execution_count": 106,
      "outputs": [
        {
          "output_type": "stream",
          "name": "stdout",
          "text": [
            "0.1 linear\n",
            "0.1 poly 1\n",
            "0.1 poly 3\n",
            "0.1 poly 5\n",
            "0.1 rbf\n",
            "0.1 sigmoid\n",
            "0.5 linear\n",
            "0.5 poly 1\n",
            "0.5 poly 3\n",
            "0.5 poly 5\n",
            "0.5 rbf\n",
            "0.5 sigmoid\n",
            "1 linear\n",
            "1 poly 1\n",
            "1 poly 3\n",
            "1 poly 5\n",
            "1 rbf\n",
            "1 sigmoid\n",
            "3 linear\n",
            "3 poly 1\n",
            "3 poly 3\n",
            "3 poly 5\n",
            "3 rbf\n",
            "3 sigmoid\n",
            "5 linear\n",
            "5 poly 1\n",
            "5 poly 3\n",
            "5 poly 5\n",
            "5 rbf\n",
            "5 sigmoid\n",
            "10 linear\n",
            "10 poly 1\n",
            "10 poly 3\n",
            "10 poly 5\n",
            "10 rbf\n",
            "10 sigmoid\n"
          ]
        }
      ]
    },
    {
      "cell_type": "code",
      "source": [],
      "metadata": {
        "id": "n5s6lapvz1wh"
      },
      "execution_count": 106,
      "outputs": []
    },
    {
      "cell_type": "code",
      "source": [
        "for model in models:\n",
        "  print(model)"
      ],
      "metadata": {
        "colab": {
          "base_uri": "https://localhost:8080/"
        },
        "id": "eMKdqYwQzo7B",
        "outputId": "ea33718a-b41f-4df5-e4d1-4fe7f56eff65"
      },
      "execution_count": 107,
      "outputs": [
        {
          "output_type": "stream",
          "name": "stdout",
          "text": [
            "{'c': 0.1, 'kernel': 'linear', 'cross validation score': 0.6901905994124926}\n",
            "{'c': 0.1, 'kernel': 'poly', 'degree': 1, 'cross validation score': 0.6143635610804938}\n",
            "{'c': 0.1, 'kernel': 'poly', 'degree': 3, 'cross validation score': 0.5411662952674583}\n",
            "{'c': 0.1, 'kernel': 'poly', 'degree': 5, 'cross validation score': 0.3674953291364048}\n",
            "{'c': 0.1, 'kernel': 'rbf', 'cross validation score': 0.654904230663564}\n",
            "{'c': 0.1, 'kernel': 'sigmoid', 'cross validation score': 0.5491717680246024}\n",
            "{'c': 0.5, 'kernel': 'linear', 'cross validation score': 0.6938186491713767}\n",
            "{'c': 0.5, 'kernel': 'poly', 'degree': 1, 'cross validation score': 0.6727961233593274}\n",
            "{'c': 0.5, 'kernel': 'poly', 'degree': 3, 'cross validation score': 0.711335307345564}\n",
            "{'c': 0.5, 'kernel': 'poly', 'degree': 5, 'cross validation score': 0.53190628373021}\n",
            "{'c': 0.5, 'kernel': 'rbf', 'cross validation score': 0.7607584840650563}\n",
            "{'c': 0.5, 'kernel': 'sigmoid', 'cross validation score': 0.508884150842086}\n",
            "{'c': 1, 'kernel': 'linear', 'cross validation score': 0.697697951081754}\n",
            "{'c': 1, 'kernel': 'poly', 'degree': 1, 'cross validation score': 0.6846841071664784}\n",
            "{'c': 1, 'kernel': 'poly', 'degree': 3, 'cross validation score': 0.7582573902180727}\n",
            "{'c': 1, 'kernel': 'poly', 'degree': 5, 'cross validation score': 0.5888371252057568}\n",
            "{'c': 1, 'kernel': 'rbf', 'cross validation score': 0.8044281430587483}\n",
            "{'c': 1, 'kernel': 'sigmoid', 'cross validation score': 0.47660177160161893}\n",
            "{'c': 3, 'kernel': 'linear', 'cross validation score': 0.6968213080609674}\n",
            "{'c': 3, 'kernel': 'poly', 'degree': 1, 'cross validation score': 0.6880636442833092}\n",
            "{'c': 3, 'kernel': 'poly', 'degree': 3, 'cross validation score': 0.8144380757372607}\n",
            "{'c': 3, 'kernel': 'poly', 'degree': 5, 'cross validation score': 0.6826805865054896}\n",
            "{'c': 3, 'kernel': 'rbf', 'cross validation score': 0.8507252264204552}\n",
            "{'c': 3, 'kernel': 'sigmoid', 'cross validation score': 0.45420620365826264}\n",
            "{'c': 5, 'kernel': 'linear', 'cross validation score': 0.69732216865829}\n",
            "{'c': 5, 'kernel': 'poly', 'degree': 1, 'cross validation score': 0.6914420855963638}\n",
            "{'c': 5, 'kernel': 'poly', 'degree': 3, 'cross validation score': 0.8285771535870745}\n",
            "{'c': 5, 'kernel': 'poly', 'degree': 5, 'cross validation score': 0.7253482112177434}\n",
            "{'c': 5, 'kernel': 'rbf', 'cross validation score': 0.8587323428832633}\n",
            "{'c': 5, 'kernel': 'sigmoid', 'cross validation score': 0.44494720965309204}\n",
            "{'c': 10, 'kernel': 'linear', 'cross validation score': 0.6959459173873533}\n",
            "{'c': 10, 'kernel': 'poly', 'degree': 1, 'cross validation score': 0.6920672416505623}\n",
            "{'c': 10, 'kernel': 'poly', 'degree': 3, 'cross validation score': 0.8408395891988187}\n",
            "{'c': 10, 'kernel': 'poly', 'degree': 5, 'cross validation score': 0.7678920101033108}\n",
            "{'c': 10, 'kernel': 'rbf', 'cross validation score': 0.8716197780058094}\n",
            "{'c': 10, 'kernel': 'sigmoid', 'cross validation score': 0.4404422037866283}\n"
          ]
        }
      ]
    },
    {
      "cell_type": "code",
      "source": [
        "svm_final = SVC(C=10,kernel=\"rbf\")\n",
        "svm_final.fit(X_train_scaled,y_train)"
      ],
      "metadata": {
        "colab": {
          "base_uri": "https://localhost:8080/",
          "height": 74
        },
        "id": "KDSr05nAziFp",
        "outputId": "e5dfdd1c-19e1-4e61-dddb-4f23f016a261"
      },
      "execution_count": 108,
      "outputs": [
        {
          "output_type": "execute_result",
          "data": {
            "text/plain": [
              "SVC(C=10)"
            ],
            "text/html": [
              "<style>#sk-container-id-7 {color: black;background-color: white;}#sk-container-id-7 pre{padding: 0;}#sk-container-id-7 div.sk-toggleable {background-color: white;}#sk-container-id-7 label.sk-toggleable__label {cursor: pointer;display: block;width: 100%;margin-bottom: 0;padding: 0.3em;box-sizing: border-box;text-align: center;}#sk-container-id-7 label.sk-toggleable__label-arrow:before {content: \"▸\";float: left;margin-right: 0.25em;color: #696969;}#sk-container-id-7 label.sk-toggleable__label-arrow:hover:before {color: black;}#sk-container-id-7 div.sk-estimator:hover label.sk-toggleable__label-arrow:before {color: black;}#sk-container-id-7 div.sk-toggleable__content {max-height: 0;max-width: 0;overflow: hidden;text-align: left;background-color: #f0f8ff;}#sk-container-id-7 div.sk-toggleable__content pre {margin: 0.2em;color: black;border-radius: 0.25em;background-color: #f0f8ff;}#sk-container-id-7 input.sk-toggleable__control:checked~div.sk-toggleable__content {max-height: 200px;max-width: 100%;overflow: auto;}#sk-container-id-7 input.sk-toggleable__control:checked~label.sk-toggleable__label-arrow:before {content: \"▾\";}#sk-container-id-7 div.sk-estimator input.sk-toggleable__control:checked~label.sk-toggleable__label {background-color: #d4ebff;}#sk-container-id-7 div.sk-label input.sk-toggleable__control:checked~label.sk-toggleable__label {background-color: #d4ebff;}#sk-container-id-7 input.sk-hidden--visually {border: 0;clip: rect(1px 1px 1px 1px);clip: rect(1px, 1px, 1px, 1px);height: 1px;margin: -1px;overflow: hidden;padding: 0;position: absolute;width: 1px;}#sk-container-id-7 div.sk-estimator {font-family: monospace;background-color: #f0f8ff;border: 1px dotted black;border-radius: 0.25em;box-sizing: border-box;margin-bottom: 0.5em;}#sk-container-id-7 div.sk-estimator:hover {background-color: #d4ebff;}#sk-container-id-7 div.sk-parallel-item::after {content: \"\";width: 100%;border-bottom: 1px solid gray;flex-grow: 1;}#sk-container-id-7 div.sk-label:hover label.sk-toggleable__label {background-color: #d4ebff;}#sk-container-id-7 div.sk-serial::before {content: \"\";position: absolute;border-left: 1px solid gray;box-sizing: border-box;top: 0;bottom: 0;left: 50%;z-index: 0;}#sk-container-id-7 div.sk-serial {display: flex;flex-direction: column;align-items: center;background-color: white;padding-right: 0.2em;padding-left: 0.2em;position: relative;}#sk-container-id-7 div.sk-item {position: relative;z-index: 1;}#sk-container-id-7 div.sk-parallel {display: flex;align-items: stretch;justify-content: center;background-color: white;position: relative;}#sk-container-id-7 div.sk-item::before, #sk-container-id-7 div.sk-parallel-item::before {content: \"\";position: absolute;border-left: 1px solid gray;box-sizing: border-box;top: 0;bottom: 0;left: 50%;z-index: -1;}#sk-container-id-7 div.sk-parallel-item {display: flex;flex-direction: column;z-index: 1;position: relative;background-color: white;}#sk-container-id-7 div.sk-parallel-item:first-child::after {align-self: flex-end;width: 50%;}#sk-container-id-7 div.sk-parallel-item:last-child::after {align-self: flex-start;width: 50%;}#sk-container-id-7 div.sk-parallel-item:only-child::after {width: 0;}#sk-container-id-7 div.sk-dashed-wrapped {border: 1px dashed gray;margin: 0 0.4em 0.5em 0.4em;box-sizing: border-box;padding-bottom: 0.4em;background-color: white;}#sk-container-id-7 div.sk-label label {font-family: monospace;font-weight: bold;display: inline-block;line-height: 1.2em;}#sk-container-id-7 div.sk-label-container {text-align: center;}#sk-container-id-7 div.sk-container {/* jupyter's `normalize.less` sets `[hidden] { display: none; }` but bootstrap.min.css set `[hidden] { display: none !important; }` so we also need the `!important` here to be able to override the default hidden behavior on the sphinx rendered scikit-learn.org. See: https://github.com/scikit-learn/scikit-learn/issues/21755 */display: inline-block !important;position: relative;}#sk-container-id-7 div.sk-text-repr-fallback {display: none;}</style><div id=\"sk-container-id-7\" class=\"sk-top-container\"><div class=\"sk-text-repr-fallback\"><pre>SVC(C=10)</pre><b>In a Jupyter environment, please rerun this cell to show the HTML representation or trust the notebook. <br />On GitHub, the HTML representation is unable to render, please try loading this page with nbviewer.org.</b></div><div class=\"sk-container\" hidden><div class=\"sk-item\"><div class=\"sk-estimator sk-toggleable\"><input class=\"sk-toggleable__control sk-hidden--visually\" id=\"sk-estimator-id-7\" type=\"checkbox\" checked><label for=\"sk-estimator-id-7\" class=\"sk-toggleable__label sk-toggleable__label-arrow\">SVC</label><div class=\"sk-toggleable__content\"><pre>SVC(C=10)</pre></div></div></div></div></div>"
            ]
          },
          "metadata": {},
          "execution_count": 108
        }
      ]
    },
    {
      "cell_type": "code",
      "source": [
        "accuracy_score(y_test,svm_final.predict(X_test_scaled))"
      ],
      "metadata": {
        "colab": {
          "base_uri": "https://localhost:8080/"
        },
        "id": "YAB4UmhK0AH5",
        "outputId": "15ab9187-62d8-4a1c-85bf-d0876d1b7260"
      },
      "execution_count": 109,
      "outputs": [
        {
          "output_type": "execute_result",
          "data": {
            "text/plain": [
              "0.8913913913913913"
            ]
          },
          "metadata": {},
          "execution_count": 109
        }
      ]
    },
    {
      "cell_type": "code",
      "source": [
        "df_dropped=df.drop(to_remove_features, axis=1, inplace=False)\n",
        "X=df_dropped.iloc[:,:-1]\n",
        "y=df_dropped.iloc[:,-1]\n",
        "y=np.array(y)\n",
        "# ohe = OneHotEncoder()\n",
        "# y_onehot = ohe.fit_transform(y.reshape(-1, 1)).toarray()\n",
        "X_train, X_test, y_train, y_test = train_test_split(X, y, test_size=0.2, random_state=42)\n",
        "sc.fit(X_train)\n",
        "X_train_scaled=sc.transform(X_train)\n",
        "X_test_scaled=sc.transform(X_test)"
      ],
      "metadata": {
        "id": "U-rd353YylBo"
      },
      "execution_count": 110,
      "outputs": []
    },
    {
      "cell_type": "code",
      "source": [
        "X_train_scaled.shape"
      ],
      "metadata": {
        "colab": {
          "base_uri": "https://localhost:8080/"
        },
        "id": "1azC3deYyG5u",
        "outputId": "e0063bd2-bc98-4b8b-f1e4-5844f02daef1"
      },
      "execution_count": 111,
      "outputs": [
        {
          "output_type": "execute_result",
          "data": {
            "text/plain": [
              "(7992, 44)"
            ]
          },
          "metadata": {},
          "execution_count": 111
        }
      ]
    },
    {
      "cell_type": "code",
      "source": [
        "X_test_scaled.shape"
      ],
      "metadata": {
        "colab": {
          "base_uri": "https://localhost:8080/"
        },
        "id": "4YmxGu7aGrA2",
        "outputId": "d7812b85-4a07-4e78-85a9-939be64444cd"
      },
      "execution_count": 112,
      "outputs": [
        {
          "output_type": "execute_result",
          "data": {
            "text/plain": [
              "(1998, 44)"
            ]
          },
          "metadata": {},
          "execution_count": 112
        }
      ]
    },
    {
      "cell_type": "code",
      "source": [
        "models=[]\n",
        "for c in Cs:\n",
        "  for kernel in kernels:\n",
        "      if kernel=='poly':\n",
        "        for degree in degrees:\n",
        "          print(c,kernel,degree)\n",
        "          svc = SVC(C=c,kernel=kernel,degree=degree)\n",
        "          # svc.fit(X_train_scaled,y_train)\n",
        "          cv_scores = cross_val_score(svc, X_train_scaled, y_train, cv=5)\n",
        "          # y_predict=knn.predict(X_test_scaled)\n",
        "          dictionary={'c':c,'kernel':kernel,'degree':degree,'cross validation score':np.mean(cv_scores)}\n",
        "          models.append(dictionary)\n",
        "      else:\n",
        "        print(c,kernel)\n",
        "        svc = SVC(C=c,kernel=kernel)\n",
        "        # svc.fit(X_train_scaled,y_train)\n",
        "        cv_scores = cross_val_score(svc, X_train_scaled, y_train, cv=5)\n",
        "        # y_predict=knn.predict(X_test_scaled)\n",
        "        dictionary={'c':c,'kernel':kernel,'cross validation score':np.mean(cv_scores)}\n",
        "        models.append(dictionary)"
      ],
      "metadata": {
        "colab": {
          "base_uri": "https://localhost:8080/"
        },
        "id": "Fhbd_28FzHYQ",
        "outputId": "f1bfef16-de24-455d-e0fa-d53fb272bc12"
      },
      "execution_count": 113,
      "outputs": [
        {
          "output_type": "stream",
          "name": "stdout",
          "text": [
            "0.1 linear\n",
            "0.1 poly 1\n",
            "0.1 poly 3\n",
            "0.1 poly 5\n",
            "0.1 rbf\n",
            "0.1 sigmoid\n",
            "0.5 linear\n",
            "0.5 poly 1\n",
            "0.5 poly 3\n",
            "0.5 poly 5\n",
            "0.5 rbf\n",
            "0.5 sigmoid\n",
            "1 linear\n",
            "1 poly 1\n",
            "1 poly 3\n",
            "1 poly 5\n",
            "1 rbf\n",
            "1 sigmoid\n",
            "3 linear\n",
            "3 poly 1\n",
            "3 poly 3\n",
            "3 poly 5\n",
            "3 rbf\n",
            "3 sigmoid\n",
            "5 linear\n",
            "5 poly 1\n",
            "5 poly 3\n",
            "5 poly 5\n",
            "5 rbf\n",
            "5 sigmoid\n",
            "10 linear\n",
            "10 poly 1\n",
            "10 poly 3\n",
            "10 poly 5\n",
            "10 rbf\n",
            "10 sigmoid\n"
          ]
        }
      ]
    },
    {
      "cell_type": "code",
      "source": [
        "for model in models:\n",
        "  print(model)"
      ],
      "metadata": {
        "colab": {
          "base_uri": "https://localhost:8080/"
        },
        "id": "4TyHohkoHA2R",
        "outputId": "d5a0d4b9-cdf5-4cef-f6df-cddc07ce87bb"
      },
      "execution_count": 114,
      "outputs": [
        {
          "output_type": "stream",
          "name": "stdout",
          "text": [
            "{'c': 0.1, 'kernel': 'linear', 'cross validation score': 0.6853108286546427}\n",
            "{'c': 0.1, 'kernel': 'poly', 'degree': 1, 'cross validation score': 0.6216208346737361}\n",
            "{'c': 0.1, 'kernel': 'poly', 'degree': 3, 'cross validation score': 0.5445456758408923}\n",
            "{'c': 0.1, 'kernel': 'poly', 'degree': 5, 'cross validation score': 0.32169558414559785}\n",
            "{'c': 0.1, 'kernel': 'rbf', 'cross validation score': 0.6559050908695282}\n",
            "{'c': 0.1, 'kernel': 'sigmoid', 'cross validation score': 0.5555538074876272}\n",
            "{'c': 0.5, 'kernel': 'linear', 'cross validation score': 0.6850617681107012}\n",
            "{'c': 0.5, 'kernel': 'poly', 'degree': 1, 'cross validation score': 0.6712945590994371}\n",
            "{'c': 0.5, 'kernel': 'poly', 'degree': 3, 'cross validation score': 0.704078346839115}\n",
            "{'c': 0.5, 'kernel': 'poly', 'degree': 5, 'cross validation score': 0.5095091503528879}\n",
            "{'c': 0.5, 'kernel': 'rbf', 'cross validation score': 0.7570044168719342}\n",
            "{'c': 0.5, 'kernel': 'sigmoid', 'cross validation score': 0.5085093859506997}\n",
            "{'c': 1, 'kernel': 'linear', 'cross validation score': 0.6874388795876021}\n",
            "{'c': 1, 'kernel': 'poly', 'degree': 1, 'cross validation score': 0.6823062129725947}\n",
            "{'c': 1, 'kernel': 'poly', 'degree': 3, 'cross validation score': 0.7533766801998434}\n",
            "{'c': 1, 'kernel': 'poly', 'degree': 5, 'cross validation score': 0.5788282883310204}\n",
            "{'c': 1, 'kernel': 'rbf', 'cross validation score': 0.8020510315818475}\n",
            "{'c': 1, 'kernel': 'sigmoid', 'cross validation score': 0.4739749734071905}\n",
            "{'c': 3, 'kernel': 'linear', 'cross validation score': 0.6895650519998028}\n",
            "{'c': 3, 'kernel': 'poly', 'degree': 1, 'cross validation score': 0.6843098119052818}\n",
            "{'c': 3, 'kernel': 'poly', 'degree': 3, 'cross validation score': 0.8101839306637988}\n",
            "{'c': 3, 'kernel': 'poly', 'degree': 5, 'cross validation score': 0.6759244083246647}\n",
            "{'c': 3, 'kernel': 'rbf', 'cross validation score': 0.8433426398382595}\n",
            "{'c': 3, 'kernel': 'sigmoid', 'cross validation score': 0.44444580115388144}\n",
            "{'c': 5, 'kernel': 'linear', 'cross validation score': 0.6876888793919228}\n",
            "{'c': 5, 'kernel': 'poly', 'degree': 1, 'cross validation score': 0.6858114544368703}\n",
            "{'c': 5, 'kernel': 'poly', 'degree': 3, 'cross validation score': 0.8231973049488847}\n",
            "{'c': 5, 'kernel': 'poly', 'degree': 5, 'cross validation score': 0.7098335865422772}\n",
            "{'c': 5, 'kernel': 'rbf', 'cross validation score': 0.8541025719297339}\n",
            "{'c': 5, 'kernel': 'sigmoid', 'cross validation score': 0.4403175169712609}\n",
            "{'c': 10, 'kernel': 'linear', 'cross validation score': 0.6876888793919228}\n",
            "{'c': 10, 'kernel': 'poly', 'degree': 1, 'cross validation score': 0.6856866893498048}\n",
            "{'c': 10, 'kernel': 'poly', 'degree': 3, 'cross validation score': 0.8353342710282787}\n",
            "{'c': 10, 'kernel': 'poly', 'degree': 5, 'cross validation score': 0.7483736315171952}\n",
            "{'c': 10, 'kernel': 'rbf', 'cross validation score': 0.8659888337595227}\n",
            "{'c': 10, 'kernel': 'sigmoid', 'cross validation score': 0.4349370421594849}\n"
          ]
        }
      ]
    },
    {
      "cell_type": "code",
      "source": [
        "svm_final = SVC(C=10,kernel=\"rbf\")\n",
        "svm_final.fit(X_train_scaled,y_train)"
      ],
      "metadata": {
        "colab": {
          "base_uri": "https://localhost:8080/",
          "height": 74
        },
        "id": "0gA124aXG88s",
        "outputId": "acd58a70-0465-4155-e9bf-afb36cd05838"
      },
      "execution_count": 115,
      "outputs": [
        {
          "output_type": "execute_result",
          "data": {
            "text/plain": [
              "SVC(C=10)"
            ],
            "text/html": [
              "<style>#sk-container-id-8 {color: black;background-color: white;}#sk-container-id-8 pre{padding: 0;}#sk-container-id-8 div.sk-toggleable {background-color: white;}#sk-container-id-8 label.sk-toggleable__label {cursor: pointer;display: block;width: 100%;margin-bottom: 0;padding: 0.3em;box-sizing: border-box;text-align: center;}#sk-container-id-8 label.sk-toggleable__label-arrow:before {content: \"▸\";float: left;margin-right: 0.25em;color: #696969;}#sk-container-id-8 label.sk-toggleable__label-arrow:hover:before {color: black;}#sk-container-id-8 div.sk-estimator:hover label.sk-toggleable__label-arrow:before {color: black;}#sk-container-id-8 div.sk-toggleable__content {max-height: 0;max-width: 0;overflow: hidden;text-align: left;background-color: #f0f8ff;}#sk-container-id-8 div.sk-toggleable__content pre {margin: 0.2em;color: black;border-radius: 0.25em;background-color: #f0f8ff;}#sk-container-id-8 input.sk-toggleable__control:checked~div.sk-toggleable__content {max-height: 200px;max-width: 100%;overflow: auto;}#sk-container-id-8 input.sk-toggleable__control:checked~label.sk-toggleable__label-arrow:before {content: \"▾\";}#sk-container-id-8 div.sk-estimator input.sk-toggleable__control:checked~label.sk-toggleable__label {background-color: #d4ebff;}#sk-container-id-8 div.sk-label input.sk-toggleable__control:checked~label.sk-toggleable__label {background-color: #d4ebff;}#sk-container-id-8 input.sk-hidden--visually {border: 0;clip: rect(1px 1px 1px 1px);clip: rect(1px, 1px, 1px, 1px);height: 1px;margin: -1px;overflow: hidden;padding: 0;position: absolute;width: 1px;}#sk-container-id-8 div.sk-estimator {font-family: monospace;background-color: #f0f8ff;border: 1px dotted black;border-radius: 0.25em;box-sizing: border-box;margin-bottom: 0.5em;}#sk-container-id-8 div.sk-estimator:hover {background-color: #d4ebff;}#sk-container-id-8 div.sk-parallel-item::after {content: \"\";width: 100%;border-bottom: 1px solid gray;flex-grow: 1;}#sk-container-id-8 div.sk-label:hover label.sk-toggleable__label {background-color: #d4ebff;}#sk-container-id-8 div.sk-serial::before {content: \"\";position: absolute;border-left: 1px solid gray;box-sizing: border-box;top: 0;bottom: 0;left: 50%;z-index: 0;}#sk-container-id-8 div.sk-serial {display: flex;flex-direction: column;align-items: center;background-color: white;padding-right: 0.2em;padding-left: 0.2em;position: relative;}#sk-container-id-8 div.sk-item {position: relative;z-index: 1;}#sk-container-id-8 div.sk-parallel {display: flex;align-items: stretch;justify-content: center;background-color: white;position: relative;}#sk-container-id-8 div.sk-item::before, #sk-container-id-8 div.sk-parallel-item::before {content: \"\";position: absolute;border-left: 1px solid gray;box-sizing: border-box;top: 0;bottom: 0;left: 50%;z-index: -1;}#sk-container-id-8 div.sk-parallel-item {display: flex;flex-direction: column;z-index: 1;position: relative;background-color: white;}#sk-container-id-8 div.sk-parallel-item:first-child::after {align-self: flex-end;width: 50%;}#sk-container-id-8 div.sk-parallel-item:last-child::after {align-self: flex-start;width: 50%;}#sk-container-id-8 div.sk-parallel-item:only-child::after {width: 0;}#sk-container-id-8 div.sk-dashed-wrapped {border: 1px dashed gray;margin: 0 0.4em 0.5em 0.4em;box-sizing: border-box;padding-bottom: 0.4em;background-color: white;}#sk-container-id-8 div.sk-label label {font-family: monospace;font-weight: bold;display: inline-block;line-height: 1.2em;}#sk-container-id-8 div.sk-label-container {text-align: center;}#sk-container-id-8 div.sk-container {/* jupyter's `normalize.less` sets `[hidden] { display: none; }` but bootstrap.min.css set `[hidden] { display: none !important; }` so we also need the `!important` here to be able to override the default hidden behavior on the sphinx rendered scikit-learn.org. See: https://github.com/scikit-learn/scikit-learn/issues/21755 */display: inline-block !important;position: relative;}#sk-container-id-8 div.sk-text-repr-fallback {display: none;}</style><div id=\"sk-container-id-8\" class=\"sk-top-container\"><div class=\"sk-text-repr-fallback\"><pre>SVC(C=10)</pre><b>In a Jupyter environment, please rerun this cell to show the HTML representation or trust the notebook. <br />On GitHub, the HTML representation is unable to render, please try loading this page with nbviewer.org.</b></div><div class=\"sk-container\" hidden><div class=\"sk-item\"><div class=\"sk-estimator sk-toggleable\"><input class=\"sk-toggleable__control sk-hidden--visually\" id=\"sk-estimator-id-8\" type=\"checkbox\" checked><label for=\"sk-estimator-id-8\" class=\"sk-toggleable__label sk-toggleable__label-arrow\">SVC</label><div class=\"sk-toggleable__content\"><pre>SVC(C=10)</pre></div></div></div></div></div>"
            ]
          },
          "metadata": {},
          "execution_count": 115
        }
      ]
    },
    {
      "cell_type": "code",
      "source": [
        "accuracy_score(y_test,svm_final.predict(X_test_scaled))"
      ],
      "metadata": {
        "colab": {
          "base_uri": "https://localhost:8080/"
        },
        "id": "SbQ1Ds6fIkun",
        "outputId": "25281940-00fc-4a75-d949-8a1c3cb96d3d"
      },
      "execution_count": 116,
      "outputs": [
        {
          "output_type": "execute_result",
          "data": {
            "text/plain": [
              "0.8848848848848849"
            ]
          },
          "metadata": {},
          "execution_count": 116
        }
      ]
    },
    {
      "cell_type": "code",
      "source": [
        "pca_30=PCA(n_components=30)\n",
        "pca_30.fit(X_train_scaled)\n",
        "X_pca_30_train=pca_30.transform(X_train_scaled)\n",
        "X_pca_30_test=pca_30.transform(X_test_scaled)\n",
        "X_pca_30_test.shape"
      ],
      "metadata": {
        "colab": {
          "base_uri": "https://localhost:8080/"
        },
        "id": "TPNC6IuazQCY",
        "outputId": "ee155959-1a4b-4fc4-e28c-d6d4ccd2285e"
      },
      "execution_count": 117,
      "outputs": [
        {
          "output_type": "execute_result",
          "data": {
            "text/plain": [
              "(1998, 30)"
            ]
          },
          "metadata": {},
          "execution_count": 117
        }
      ]
    },
    {
      "cell_type": "code",
      "source": [
        "models=[]\n",
        "for c in Cs:\n",
        "  for kernel in kernels:\n",
        "      if kernel=='poly':\n",
        "        for degree in degrees:\n",
        "          print(c,kernel,degree)\n",
        "          svc = SVC(C=c,kernel=kernel,degree=degree)\n",
        "          # svc.fit(X_pca_30_train,y_train)\n",
        "          cv_scores = cross_val_score(svc, X_pca_30_train, y_train, cv=5)\n",
        "          # y_predict=knn.predict(X_test_scaled)\n",
        "          dictionary={'c':c,'kernel':kernel,'degree':degree,'cross validation score':np.mean(cv_scores)}\n",
        "          models.append(dictionary)\n",
        "      else:\n",
        "        print(c,kernel)\n",
        "        svc = SVC(C=c,kernel=kernel)\n",
        "        # svc.fit(X_pca_30_train,y_train)\n",
        "        cv_scores = cross_val_score(svc, X_pca_30_train, y_train, cv=5)\n",
        "        # y_predict=knn.predict(X_test_scaled)\n",
        "        dictionary={'c':c,'kernel':kernel,'cross validation score':np.mean(cv_scores)}\n",
        "        models.append(dictionary)"
      ],
      "metadata": {
        "colab": {
          "base_uri": "https://localhost:8080/"
        },
        "id": "p3js0eesH3Zf",
        "outputId": "93d3fa5e-3456-4044-b0bf-6c85c5c5d4fd"
      },
      "execution_count": 118,
      "outputs": [
        {
          "output_type": "stream",
          "name": "stdout",
          "text": [
            "0.1 linear\n",
            "0.1 poly 1\n",
            "0.1 poly 3\n",
            "0.1 poly 5\n",
            "0.1 rbf\n",
            "0.1 sigmoid\n",
            "0.5 linear\n",
            "0.5 poly 1\n",
            "0.5 poly 3\n",
            "0.5 poly 5\n",
            "0.5 rbf\n",
            "0.5 sigmoid\n",
            "1 linear\n",
            "1 poly 1\n",
            "1 poly 3\n",
            "1 poly 5\n",
            "1 rbf\n",
            "1 sigmoid\n",
            "3 linear\n",
            "3 poly 1\n",
            "3 poly 3\n",
            "3 poly 5\n",
            "3 rbf\n",
            "3 sigmoid\n",
            "5 linear\n",
            "5 poly 1\n",
            "5 poly 3\n",
            "5 poly 5\n",
            "5 rbf\n",
            "5 sigmoid\n",
            "10 linear\n",
            "10 poly 1\n",
            "10 poly 3\n",
            "10 poly 5\n",
            "10 rbf\n",
            "10 sigmoid\n"
          ]
        }
      ]
    },
    {
      "cell_type": "code",
      "source": [
        "for model in models:\n",
        "  print(model)"
      ],
      "metadata": {
        "colab": {
          "base_uri": "https://localhost:8080/"
        },
        "id": "8BYVxdOLQK6Z",
        "outputId": "b61b86b9-5aae-41ff-bc07-cc714c640ddd"
      },
      "execution_count": 119,
      "outputs": [
        {
          "output_type": "stream",
          "name": "stdout",
          "text": [
            "{'c': 0.1, 'kernel': 'linear', 'cross validation score': 0.6413907002264401}\n",
            "{'c': 0.1, 'kernel': 'poly', 'degree': 1, 'cross validation score': 0.5919658798012838}\n",
            "{'c': 0.1, 'kernel': 'poly', 'degree': 3, 'cross validation score': 0.5349112124990509}\n",
            "{'c': 0.1, 'kernel': 'poly', 'degree': 5, 'cross validation score': 0.3397147466227719}\n",
            "{'c': 0.1, 'kernel': 'rbf', 'cross validation score': 0.6356359301534674}\n",
            "{'c': 0.1, 'kernel': 'sigmoid', 'cross validation score': 0.5226465070080566}\n",
            "{'c': 0.5, 'kernel': 'linear', 'cross validation score': 0.6417657782046194}\n",
            "{'c': 0.5, 'kernel': 'poly', 'degree': 1, 'cross validation score': 0.6337570180361475}\n",
            "{'c': 0.5, 'kernel': 'poly', 'degree': 3, 'cross validation score': 0.6741738617925315}\n",
            "{'c': 0.5, 'kernel': 'poly', 'degree': 5, 'cross validation score': 0.5116357923952783}\n",
            "{'c': 0.5, 'kernel': 'rbf', 'cross validation score': 0.722720943393125}\n",
            "{'c': 0.5, 'kernel': 'sigmoid', 'cross validation score': 0.4679693425412159}\n",
            "{'c': 1, 'kernel': 'linear', 'cross validation score': 0.6412653089657883}\n",
            "{'c': 1, 'kernel': 'poly', 'degree': 1, 'cross validation score': 0.6345097569585496}\n",
            "{'c': 1, 'kernel': 'poly', 'degree': 3, 'cross validation score': 0.7145874181375875}\n",
            "{'c': 1, 'kernel': 'poly', 'degree': 5, 'cross validation score': 0.5795784442873793}\n",
            "{'c': 1, 'kernel': 'rbf', 'cross validation score': 0.7588830159024609}\n",
            "{'c': 1, 'kernel': 'sigmoid', 'cross validation score': 0.43431102511660524}\n",
            "{'c': 3, 'kernel': 'linear', 'cross validation score': 0.6411401525202314}\n",
            "{'c': 3, 'kernel': 'poly', 'degree': 1, 'cross validation score': 0.6398892925099464}\n",
            "{'c': 3, 'kernel': 'poly', 'degree': 3, 'cross validation score': 0.7568799648716618}\n",
            "{'c': 3, 'kernel': 'poly', 'degree': 5, 'cross validation score': 0.6599091578669711}\n",
            "{'c': 3, 'kernel': 'rbf', 'cross validation score': 0.8044284561455415}\n",
            "{'c': 3, 'kernel': 'sigmoid', 'cross validation score': 0.4231749192431753}\n",
            "{'c': 5, 'kernel': 'linear', 'cross validation score': 0.6405146833792397}\n",
            "{'c': 5, 'kernel': 'poly', 'degree': 1, 'cross validation score': 0.6426418733235181}\n",
            "{'c': 5, 'kernel': 'poly', 'degree': 3, 'cross validation score': 0.7745226404800872}\n",
            "{'c': 5, 'kernel': 'poly', 'degree': 5, 'cross validation score': 0.6866852796765188}\n",
            "{'c': 5, 'kernel': 'rbf', 'cross validation score': 0.8153133098674781}\n",
            "{'c': 5, 'kernel': 'sigmoid', 'cross validation score': 0.42117359018973843}\n",
            "{'c': 10, 'kernel': 'linear', 'cross validation score': 0.6405142137490498}\n",
            "{'c': 10, 'kernel': 'poly', 'degree': 1, 'cross validation score': 0.6410146047161829}\n",
            "{'c': 10, 'kernel': 'poly', 'degree': 3, 'cross validation score': 0.7851591381033671}\n",
            "{'c': 10, 'kernel': 'poly', 'degree': 5, 'cross validation score': 0.7264763412051181}\n",
            "{'c': 10, 'kernel': 'rbf', 'cross validation score': 0.8205691761355854}\n",
            "{'c': 10, 'kernel': 'sigmoid', 'cross validation score': 0.41178850047863147}\n"
          ]
        }
      ]
    },
    {
      "cell_type": "code",
      "source": [
        "svm_final = SVC(C=10,kernel=\"rbf\")\n",
        "svm_final.fit(X_pca_30_train,y_train)"
      ],
      "metadata": {
        "colab": {
          "base_uri": "https://localhost:8080/",
          "height": 74
        },
        "id": "NCtowAyrQUX4",
        "outputId": "67263199-0dc1-4d76-ec93-83c0088e49d0"
      },
      "execution_count": 120,
      "outputs": [
        {
          "output_type": "execute_result",
          "data": {
            "text/plain": [
              "SVC(C=10)"
            ],
            "text/html": [
              "<style>#sk-container-id-9 {color: black;background-color: white;}#sk-container-id-9 pre{padding: 0;}#sk-container-id-9 div.sk-toggleable {background-color: white;}#sk-container-id-9 label.sk-toggleable__label {cursor: pointer;display: block;width: 100%;margin-bottom: 0;padding: 0.3em;box-sizing: border-box;text-align: center;}#sk-container-id-9 label.sk-toggleable__label-arrow:before {content: \"▸\";float: left;margin-right: 0.25em;color: #696969;}#sk-container-id-9 label.sk-toggleable__label-arrow:hover:before {color: black;}#sk-container-id-9 div.sk-estimator:hover label.sk-toggleable__label-arrow:before {color: black;}#sk-container-id-9 div.sk-toggleable__content {max-height: 0;max-width: 0;overflow: hidden;text-align: left;background-color: #f0f8ff;}#sk-container-id-9 div.sk-toggleable__content pre {margin: 0.2em;color: black;border-radius: 0.25em;background-color: #f0f8ff;}#sk-container-id-9 input.sk-toggleable__control:checked~div.sk-toggleable__content {max-height: 200px;max-width: 100%;overflow: auto;}#sk-container-id-9 input.sk-toggleable__control:checked~label.sk-toggleable__label-arrow:before {content: \"▾\";}#sk-container-id-9 div.sk-estimator input.sk-toggleable__control:checked~label.sk-toggleable__label {background-color: #d4ebff;}#sk-container-id-9 div.sk-label input.sk-toggleable__control:checked~label.sk-toggleable__label {background-color: #d4ebff;}#sk-container-id-9 input.sk-hidden--visually {border: 0;clip: rect(1px 1px 1px 1px);clip: rect(1px, 1px, 1px, 1px);height: 1px;margin: -1px;overflow: hidden;padding: 0;position: absolute;width: 1px;}#sk-container-id-9 div.sk-estimator {font-family: monospace;background-color: #f0f8ff;border: 1px dotted black;border-radius: 0.25em;box-sizing: border-box;margin-bottom: 0.5em;}#sk-container-id-9 div.sk-estimator:hover {background-color: #d4ebff;}#sk-container-id-9 div.sk-parallel-item::after {content: \"\";width: 100%;border-bottom: 1px solid gray;flex-grow: 1;}#sk-container-id-9 div.sk-label:hover label.sk-toggleable__label {background-color: #d4ebff;}#sk-container-id-9 div.sk-serial::before {content: \"\";position: absolute;border-left: 1px solid gray;box-sizing: border-box;top: 0;bottom: 0;left: 50%;z-index: 0;}#sk-container-id-9 div.sk-serial {display: flex;flex-direction: column;align-items: center;background-color: white;padding-right: 0.2em;padding-left: 0.2em;position: relative;}#sk-container-id-9 div.sk-item {position: relative;z-index: 1;}#sk-container-id-9 div.sk-parallel {display: flex;align-items: stretch;justify-content: center;background-color: white;position: relative;}#sk-container-id-9 div.sk-item::before, #sk-container-id-9 div.sk-parallel-item::before {content: \"\";position: absolute;border-left: 1px solid gray;box-sizing: border-box;top: 0;bottom: 0;left: 50%;z-index: -1;}#sk-container-id-9 div.sk-parallel-item {display: flex;flex-direction: column;z-index: 1;position: relative;background-color: white;}#sk-container-id-9 div.sk-parallel-item:first-child::after {align-self: flex-end;width: 50%;}#sk-container-id-9 div.sk-parallel-item:last-child::after {align-self: flex-start;width: 50%;}#sk-container-id-9 div.sk-parallel-item:only-child::after {width: 0;}#sk-container-id-9 div.sk-dashed-wrapped {border: 1px dashed gray;margin: 0 0.4em 0.5em 0.4em;box-sizing: border-box;padding-bottom: 0.4em;background-color: white;}#sk-container-id-9 div.sk-label label {font-family: monospace;font-weight: bold;display: inline-block;line-height: 1.2em;}#sk-container-id-9 div.sk-label-container {text-align: center;}#sk-container-id-9 div.sk-container {/* jupyter's `normalize.less` sets `[hidden] { display: none; }` but bootstrap.min.css set `[hidden] { display: none !important; }` so we also need the `!important` here to be able to override the default hidden behavior on the sphinx rendered scikit-learn.org. See: https://github.com/scikit-learn/scikit-learn/issues/21755 */display: inline-block !important;position: relative;}#sk-container-id-9 div.sk-text-repr-fallback {display: none;}</style><div id=\"sk-container-id-9\" class=\"sk-top-container\"><div class=\"sk-text-repr-fallback\"><pre>SVC(C=10)</pre><b>In a Jupyter environment, please rerun this cell to show the HTML representation or trust the notebook. <br />On GitHub, the HTML representation is unable to render, please try loading this page with nbviewer.org.</b></div><div class=\"sk-container\" hidden><div class=\"sk-item\"><div class=\"sk-estimator sk-toggleable\"><input class=\"sk-toggleable__control sk-hidden--visually\" id=\"sk-estimator-id-9\" type=\"checkbox\" checked><label for=\"sk-estimator-id-9\" class=\"sk-toggleable__label sk-toggleable__label-arrow\">SVC</label><div class=\"sk-toggleable__content\"><pre>SVC(C=10)</pre></div></div></div></div></div>"
            ]
          },
          "metadata": {},
          "execution_count": 120
        }
      ]
    },
    {
      "cell_type": "code",
      "source": [
        "accuracy_score(y_test,svm_final.predict(X_pca_30_test))"
      ],
      "metadata": {
        "colab": {
          "base_uri": "https://localhost:8080/"
        },
        "id": "y-bAhprhQjYZ",
        "outputId": "afc9a290-8c06-4486-a75e-c358cd885fd6"
      },
      "execution_count": 121,
      "outputs": [
        {
          "output_type": "execute_result",
          "data": {
            "text/plain": [
              "0.8413413413413413"
            ]
          },
          "metadata": {},
          "execution_count": 121
        }
      ]
    },
    {
      "cell_type": "markdown",
      "source": [
        "# **Random Forest Analysis**"
      ],
      "metadata": {
        "id": "In6TEI-3R-Y5"
      }
    },
    {
      "cell_type": "code",
      "source": [
        "X=df.iloc[:,:-1]\n",
        "y=df.iloc[:,-1]\n",
        "y=np.array(y)\n",
        "# ohe = OneHotEncoder()\n",
        "# y_onehot = ohe.fit_transform(y.reshape(-1, 1)).toarray()\n",
        "X_train, X_test, y_train, y_test = train_test_split(X, y, test_size=0.2, random_state=42)\n",
        "sc.fit(X_train)\n",
        "X_train_scaled=sc.transform(X_train)\n",
        "X_test_scaled=sc.transform(X_test)\n",
        "print(X_train_scaled.shape)"
      ],
      "metadata": {
        "colab": {
          "base_uri": "https://localhost:8080/"
        },
        "id": "IvSbl6qRQwTp",
        "outputId": "e467bbed-03d5-4d35-af5c-09d556b652f0"
      },
      "execution_count": 122,
      "outputs": [
        {
          "output_type": "stream",
          "name": "stdout",
          "text": [
            "(7992, 47)\n"
          ]
        }
      ]
    },
    {
      "cell_type": "code",
      "source": [
        "from sklearn.ensemble import RandomForestClassifier"
      ],
      "metadata": {
        "id": "U_oHFf1kSRkr"
      },
      "execution_count": 123,
      "outputs": []
    },
    {
      "cell_type": "code",
      "source": [
        "n_estimators=[5,10,20,100,150,200]\n",
        "max_depths=[10,20,50,100]\n",
        "models=[]\n",
        "for n in n_estimators:\n",
        "  for max_depth in max_depths: \n",
        "    rf = RandomForestClassifier(n_estimators=n,max_depth=max_depth)\n",
        "    cv_scores = cross_val_score(rf, X_train_scaled, y_train, cv=5)\n",
        "    # y_predict=knn.predict(X_test_scaled)\n",
        "    dictionary={'n_estimator':n,'max_depth':max_depth,'cross validation score':np.mean(cv_scores)}\n",
        "    models.append(dictionary)"
      ],
      "metadata": {
        "id": "8UCyR6RiSQ0Z"
      },
      "execution_count": 124,
      "outputs": []
    },
    {
      "cell_type": "code",
      "source": [
        "for model in models:\n",
        "  print(model)"
      ],
      "metadata": {
        "colab": {
          "base_uri": "https://localhost:8080/"
        },
        "id": "SpUKTSeugv6r",
        "outputId": "0b791ef2-2fd5-4d94-c5cf-4049d85d7ce8"
      },
      "execution_count": 125,
      "outputs": [
        {
          "output_type": "stream",
          "name": "stdout",
          "text": [
            "{'n_estimator': 5, 'max_depth': 10, 'cross validation score': 0.6156151255360633}\n",
            "{'n_estimator': 5, 'max_depth': 20, 'cross validation score': 0.6356370259572434}\n",
            "{'n_estimator': 5, 'max_depth': 50, 'cross validation score': 0.6381403114117787}\n",
            "{'n_estimator': 5, 'max_depth': 100, 'cross validation score': 0.6333825662315544}\n",
            "{'n_estimator': 10, 'max_depth': 10, 'cross validation score': 0.6750502699982233}\n",
            "{'n_estimator': 10, 'max_depth': 20, 'cross validation score': 0.6963205257353431}\n",
            "{'n_estimator': 10, 'max_depth': 50, 'cross validation score': 0.7044552250663548}\n",
            "{'n_estimator': 10, 'max_depth': 100, 'cross validation score': 0.7015793663279851}\n",
            "{'n_estimator': 20, 'max_depth': 10, 'cross validation score': 0.7157178180042126}\n",
            "{'n_estimator': 20, 'max_depth': 20, 'cross validation score': 0.7540014448955503}\n",
            "{'n_estimator': 20, 'max_depth': 50, 'cross validation score': 0.7468724586157963}\n",
            "{'n_estimator': 20, 'max_depth': 100, 'cross validation score': 0.7566320784031947}\n",
            "{'n_estimator': 100, 'max_depth': 10, 'cross validation score': 0.7416169837061807}\n",
            "{'n_estimator': 100, 'max_depth': 20, 'cross validation score': 0.8075581500014479}\n",
            "{'n_estimator': 100, 'max_depth': 50, 'cross validation score': 0.8058055684051594}\n",
            "{'n_estimator': 100, 'max_depth': 100, 'cross validation score': 0.8034287700150516}\n",
            "{'n_estimator': 150, 'max_depth': 10, 'cross validation score': 0.7515015251240411}\n",
            "{'n_estimator': 150, 'max_depth': 20, 'cross validation score': 0.8070575242192202}\n",
            "{'n_estimator': 150, 'max_depth': 50, 'cross validation score': 0.8113125302813632}\n",
            "{'n_estimator': 150, 'max_depth': 100, 'cross validation score': 0.8083084625012035}\n",
            "{'n_estimator': 200, 'max_depth': 10, 'cross validation score': 0.752878402568564}\n",
            "{'n_estimator': 200, 'max_depth': 20, 'cross validation score': 0.8125632337482516}\n",
            "{'n_estimator': 200, 'max_depth': 50, 'cross validation score': 0.8089345578157813}\n",
            "{'n_estimator': 200, 'max_depth': 100, 'cross validation score': 0.8106869828686735}\n"
          ]
        }
      ]
    },
    {
      "cell_type": "code",
      "source": [
        "rf_final=RandomForestClassifier(n_estimators=200,max_depth=20)\n",
        "rf_final.fit( X_train_scaled, y_train)"
      ],
      "metadata": {
        "colab": {
          "base_uri": "https://localhost:8080/",
          "height": 74
        },
        "id": "QeDTwkzLUzHT",
        "outputId": "909962d2-5377-4b90-dc63-d4fd436eeb38"
      },
      "execution_count": 130,
      "outputs": [
        {
          "output_type": "execute_result",
          "data": {
            "text/plain": [
              "RandomForestClassifier(max_depth=20, n_estimators=200)"
            ],
            "text/html": [
              "<style>#sk-container-id-10 {color: black;background-color: white;}#sk-container-id-10 pre{padding: 0;}#sk-container-id-10 div.sk-toggleable {background-color: white;}#sk-container-id-10 label.sk-toggleable__label {cursor: pointer;display: block;width: 100%;margin-bottom: 0;padding: 0.3em;box-sizing: border-box;text-align: center;}#sk-container-id-10 label.sk-toggleable__label-arrow:before {content: \"▸\";float: left;margin-right: 0.25em;color: #696969;}#sk-container-id-10 label.sk-toggleable__label-arrow:hover:before {color: black;}#sk-container-id-10 div.sk-estimator:hover label.sk-toggleable__label-arrow:before {color: black;}#sk-container-id-10 div.sk-toggleable__content {max-height: 0;max-width: 0;overflow: hidden;text-align: left;background-color: #f0f8ff;}#sk-container-id-10 div.sk-toggleable__content pre {margin: 0.2em;color: black;border-radius: 0.25em;background-color: #f0f8ff;}#sk-container-id-10 input.sk-toggleable__control:checked~div.sk-toggleable__content {max-height: 200px;max-width: 100%;overflow: auto;}#sk-container-id-10 input.sk-toggleable__control:checked~label.sk-toggleable__label-arrow:before {content: \"▾\";}#sk-container-id-10 div.sk-estimator input.sk-toggleable__control:checked~label.sk-toggleable__label {background-color: #d4ebff;}#sk-container-id-10 div.sk-label input.sk-toggleable__control:checked~label.sk-toggleable__label {background-color: #d4ebff;}#sk-container-id-10 input.sk-hidden--visually {border: 0;clip: rect(1px 1px 1px 1px);clip: rect(1px, 1px, 1px, 1px);height: 1px;margin: -1px;overflow: hidden;padding: 0;position: absolute;width: 1px;}#sk-container-id-10 div.sk-estimator {font-family: monospace;background-color: #f0f8ff;border: 1px dotted black;border-radius: 0.25em;box-sizing: border-box;margin-bottom: 0.5em;}#sk-container-id-10 div.sk-estimator:hover {background-color: #d4ebff;}#sk-container-id-10 div.sk-parallel-item::after {content: \"\";width: 100%;border-bottom: 1px solid gray;flex-grow: 1;}#sk-container-id-10 div.sk-label:hover label.sk-toggleable__label {background-color: #d4ebff;}#sk-container-id-10 div.sk-serial::before {content: \"\";position: absolute;border-left: 1px solid gray;box-sizing: border-box;top: 0;bottom: 0;left: 50%;z-index: 0;}#sk-container-id-10 div.sk-serial {display: flex;flex-direction: column;align-items: center;background-color: white;padding-right: 0.2em;padding-left: 0.2em;position: relative;}#sk-container-id-10 div.sk-item {position: relative;z-index: 1;}#sk-container-id-10 div.sk-parallel {display: flex;align-items: stretch;justify-content: center;background-color: white;position: relative;}#sk-container-id-10 div.sk-item::before, #sk-container-id-10 div.sk-parallel-item::before {content: \"\";position: absolute;border-left: 1px solid gray;box-sizing: border-box;top: 0;bottom: 0;left: 50%;z-index: -1;}#sk-container-id-10 div.sk-parallel-item {display: flex;flex-direction: column;z-index: 1;position: relative;background-color: white;}#sk-container-id-10 div.sk-parallel-item:first-child::after {align-self: flex-end;width: 50%;}#sk-container-id-10 div.sk-parallel-item:last-child::after {align-self: flex-start;width: 50%;}#sk-container-id-10 div.sk-parallel-item:only-child::after {width: 0;}#sk-container-id-10 div.sk-dashed-wrapped {border: 1px dashed gray;margin: 0 0.4em 0.5em 0.4em;box-sizing: border-box;padding-bottom: 0.4em;background-color: white;}#sk-container-id-10 div.sk-label label {font-family: monospace;font-weight: bold;display: inline-block;line-height: 1.2em;}#sk-container-id-10 div.sk-label-container {text-align: center;}#sk-container-id-10 div.sk-container {/* jupyter's `normalize.less` sets `[hidden] { display: none; }` but bootstrap.min.css set `[hidden] { display: none !important; }` so we also need the `!important` here to be able to override the default hidden behavior on the sphinx rendered scikit-learn.org. See: https://github.com/scikit-learn/scikit-learn/issues/21755 */display: inline-block !important;position: relative;}#sk-container-id-10 div.sk-text-repr-fallback {display: none;}</style><div id=\"sk-container-id-10\" class=\"sk-top-container\"><div class=\"sk-text-repr-fallback\"><pre>RandomForestClassifier(max_depth=20, n_estimators=200)</pre><b>In a Jupyter environment, please rerun this cell to show the HTML representation or trust the notebook. <br />On GitHub, the HTML representation is unable to render, please try loading this page with nbviewer.org.</b></div><div class=\"sk-container\" hidden><div class=\"sk-item\"><div class=\"sk-estimator sk-toggleable\"><input class=\"sk-toggleable__control sk-hidden--visually\" id=\"sk-estimator-id-10\" type=\"checkbox\" checked><label for=\"sk-estimator-id-10\" class=\"sk-toggleable__label sk-toggleable__label-arrow\">RandomForestClassifier</label><div class=\"sk-toggleable__content\"><pre>RandomForestClassifier(max_depth=20, n_estimators=200)</pre></div></div></div></div></div>"
            ]
          },
          "metadata": {},
          "execution_count": 130
        }
      ]
    },
    {
      "cell_type": "code",
      "source": [
        "accuracy_score(y_test,rf_final.predict(X_test_scaled))"
      ],
      "metadata": {
        "colab": {
          "base_uri": "https://localhost:8080/"
        },
        "id": "9sdnwf2wVB4K",
        "outputId": "95265813-70c2-4f43-f4ce-e5a25fe0a494"
      },
      "execution_count": 131,
      "outputs": [
        {
          "output_type": "execute_result",
          "data": {
            "text/plain": [
              "0.8273273273273273"
            ]
          },
          "metadata": {},
          "execution_count": 131
        }
      ]
    },
    {
      "cell_type": "code",
      "source": [
        "df_dropped=df.drop(to_remove_features, axis=1, inplace=False)\n",
        "X=df_dropped.iloc[:,:-1]\n",
        "y=df_dropped.iloc[:,-1]\n",
        "y=np.array(y)\n",
        "# ohe = OneHotEncoder()\n",
        "# y_onehot = ohe.fit_transform(y.reshape(-1, 1)).toarray()\n",
        "X_train, X_test, y_train, y_test = train_test_split(X, y, test_size=0.2, random_state=42)\n",
        "sc.fit(X_train)\n",
        "X_train_scaled=sc.transform(X_train)\n",
        "X_test_scaled=sc.transform(X_test)"
      ],
      "metadata": {
        "id": "2tvCjs08VNqy"
      },
      "execution_count": 132,
      "outputs": []
    },
    {
      "cell_type": "code",
      "source": [
        "X_train_scaled.shape"
      ],
      "metadata": {
        "colab": {
          "base_uri": "https://localhost:8080/"
        },
        "id": "Y0gz5SzmVRFy",
        "outputId": "9d36c3f1-d201-43ef-fa5a-56e7df806d9c"
      },
      "execution_count": 133,
      "outputs": [
        {
          "output_type": "execute_result",
          "data": {
            "text/plain": [
              "(7992, 44)"
            ]
          },
          "metadata": {},
          "execution_count": 133
        }
      ]
    },
    {
      "cell_type": "code",
      "source": [
        "models=[]\n",
        "for n in n_estimators:\n",
        "  for max_depth in max_depths: \n",
        "    rf = RandomForestClassifier(n_estimators=n,max_depth=max_depth)\n",
        "    cv_scores = cross_val_score(rf, X_train_scaled, y_train, cv=5)\n",
        "    # y_predict=knn.predict(X_test_scaled)\n",
        "    dictionary={'n_estimator':n,'max_depth':max_depth,'cross validation score':np.mean(cv_scores)}\n",
        "    models.append(dictionary)"
      ],
      "metadata": {
        "id": "ozIaOy4TVWf6"
      },
      "execution_count": 135,
      "outputs": []
    },
    {
      "cell_type": "code",
      "source": [
        "for model in models:\n",
        "  print(model)"
      ],
      "metadata": {
        "colab": {
          "base_uri": "https://localhost:8080/"
        },
        "id": "ADlGtdV_x8bJ",
        "outputId": "d3e23830-c350-4d60-8270-dffdac63d234"
      },
      "execution_count": 136,
      "outputs": [
        {
          "output_type": "stream",
          "name": "stdout",
          "text": [
            "{'n_estimator': 5, 'max_depth': 10, 'cross validation score': 0.6204989664222242}\n",
            "{'n_estimator': 5, 'max_depth': 20, 'cross validation score': 0.6147392652322595}\n",
            "{'n_estimator': 5, 'max_depth': 50, 'cross validation score': 0.6158666125026515}\n",
            "{'n_estimator': 5, 'max_depth': 100, 'cross validation score': 0.6184923931650023}\n",
            "{'n_estimator': 10, 'max_depth': 10, 'cross validation score': 0.670919011491068}\n",
            "{'n_estimator': 10, 'max_depth': 20, 'cross validation score': 0.6915681813023001}\n",
            "{'n_estimator': 10, 'max_depth': 50, 'cross validation score': 0.6941957622137116}\n",
            "{'n_estimator': 10, 'max_depth': 100, 'cross validation score': 0.7008260795036948}\n",
            "{'n_estimator': 20, 'max_depth': 10, 'cross validation score': 0.717092895199675}\n",
            "{'n_estimator': 20, 'max_depth': 20, 'cross validation score': 0.7545062973494854}\n",
            "{'n_estimator': 20, 'max_depth': 50, 'cross validation score': 0.7551302010565114}\n",
            "{'n_estimator': 20, 'max_depth': 100, 'cross validation score': 0.7493765267873146}\n",
            "{'n_estimator': 100, 'max_depth': 10, 'cross validation score': 0.749499882983811}\n",
            "{'n_estimator': 100, 'max_depth': 20, 'cross validation score': 0.8046801779272246}\n",
            "{'n_estimator': 100, 'max_depth': 50, 'cross validation score': 0.8045558041986505}\n",
            "{'n_estimator': 100, 'max_depth': 100, 'cross validation score': 0.8020523622007184}\n",
            "{'n_estimator': 150, 'max_depth': 10, 'cross validation score': 0.7505016041784563}\n",
            "{'n_estimator': 150, 'max_depth': 20, 'cross validation score': 0.8105617481514182}\n",
            "{'n_estimator': 150, 'max_depth': 50, 'cross validation score': 0.8109355737824251}\n",
            "{'n_estimator': 150, 'max_depth': 100, 'cross validation score': 0.8079346368701966}\n",
            "{'n_estimator': 200, 'max_depth': 10, 'cross validation score': 0.7555058269365789}\n",
            "{'n_estimator': 200, 'max_depth': 20, 'cross validation score': 0.8115627649007788}\n",
            "{'n_estimator': 200, 'max_depth': 50, 'cross validation score': 0.8153165190071079}\n",
            "{'n_estimator': 200, 'max_depth': 100, 'cross validation score': 0.8136882328676949}\n"
          ]
        }
      ]
    },
    {
      "cell_type": "code",
      "source": [
        "rf_final=RandomForestClassifier(n_estimators=200,max_depth=50)\n",
        "rf_final.fit( X_train_scaled, y_train)"
      ],
      "metadata": {
        "colab": {
          "base_uri": "https://localhost:8080/",
          "height": 74
        },
        "id": "ZyHvxa86Vct7",
        "outputId": "2b146628-1653-444f-cbc2-1abcf5aade55"
      },
      "execution_count": 137,
      "outputs": [
        {
          "output_type": "execute_result",
          "data": {
            "text/plain": [
              "RandomForestClassifier(max_depth=50, n_estimators=200)"
            ],
            "text/html": [
              "<style>#sk-container-id-11 {color: black;background-color: white;}#sk-container-id-11 pre{padding: 0;}#sk-container-id-11 div.sk-toggleable {background-color: white;}#sk-container-id-11 label.sk-toggleable__label {cursor: pointer;display: block;width: 100%;margin-bottom: 0;padding: 0.3em;box-sizing: border-box;text-align: center;}#sk-container-id-11 label.sk-toggleable__label-arrow:before {content: \"▸\";float: left;margin-right: 0.25em;color: #696969;}#sk-container-id-11 label.sk-toggleable__label-arrow:hover:before {color: black;}#sk-container-id-11 div.sk-estimator:hover label.sk-toggleable__label-arrow:before {color: black;}#sk-container-id-11 div.sk-toggleable__content {max-height: 0;max-width: 0;overflow: hidden;text-align: left;background-color: #f0f8ff;}#sk-container-id-11 div.sk-toggleable__content pre {margin: 0.2em;color: black;border-radius: 0.25em;background-color: #f0f8ff;}#sk-container-id-11 input.sk-toggleable__control:checked~div.sk-toggleable__content {max-height: 200px;max-width: 100%;overflow: auto;}#sk-container-id-11 input.sk-toggleable__control:checked~label.sk-toggleable__label-arrow:before {content: \"▾\";}#sk-container-id-11 div.sk-estimator input.sk-toggleable__control:checked~label.sk-toggleable__label {background-color: #d4ebff;}#sk-container-id-11 div.sk-label input.sk-toggleable__control:checked~label.sk-toggleable__label {background-color: #d4ebff;}#sk-container-id-11 input.sk-hidden--visually {border: 0;clip: rect(1px 1px 1px 1px);clip: rect(1px, 1px, 1px, 1px);height: 1px;margin: -1px;overflow: hidden;padding: 0;position: absolute;width: 1px;}#sk-container-id-11 div.sk-estimator {font-family: monospace;background-color: #f0f8ff;border: 1px dotted black;border-radius: 0.25em;box-sizing: border-box;margin-bottom: 0.5em;}#sk-container-id-11 div.sk-estimator:hover {background-color: #d4ebff;}#sk-container-id-11 div.sk-parallel-item::after {content: \"\";width: 100%;border-bottom: 1px solid gray;flex-grow: 1;}#sk-container-id-11 div.sk-label:hover label.sk-toggleable__label {background-color: #d4ebff;}#sk-container-id-11 div.sk-serial::before {content: \"\";position: absolute;border-left: 1px solid gray;box-sizing: border-box;top: 0;bottom: 0;left: 50%;z-index: 0;}#sk-container-id-11 div.sk-serial {display: flex;flex-direction: column;align-items: center;background-color: white;padding-right: 0.2em;padding-left: 0.2em;position: relative;}#sk-container-id-11 div.sk-item {position: relative;z-index: 1;}#sk-container-id-11 div.sk-parallel {display: flex;align-items: stretch;justify-content: center;background-color: white;position: relative;}#sk-container-id-11 div.sk-item::before, #sk-container-id-11 div.sk-parallel-item::before {content: \"\";position: absolute;border-left: 1px solid gray;box-sizing: border-box;top: 0;bottom: 0;left: 50%;z-index: -1;}#sk-container-id-11 div.sk-parallel-item {display: flex;flex-direction: column;z-index: 1;position: relative;background-color: white;}#sk-container-id-11 div.sk-parallel-item:first-child::after {align-self: flex-end;width: 50%;}#sk-container-id-11 div.sk-parallel-item:last-child::after {align-self: flex-start;width: 50%;}#sk-container-id-11 div.sk-parallel-item:only-child::after {width: 0;}#sk-container-id-11 div.sk-dashed-wrapped {border: 1px dashed gray;margin: 0 0.4em 0.5em 0.4em;box-sizing: border-box;padding-bottom: 0.4em;background-color: white;}#sk-container-id-11 div.sk-label label {font-family: monospace;font-weight: bold;display: inline-block;line-height: 1.2em;}#sk-container-id-11 div.sk-label-container {text-align: center;}#sk-container-id-11 div.sk-container {/* jupyter's `normalize.less` sets `[hidden] { display: none; }` but bootstrap.min.css set `[hidden] { display: none !important; }` so we also need the `!important` here to be able to override the default hidden behavior on the sphinx rendered scikit-learn.org. See: https://github.com/scikit-learn/scikit-learn/issues/21755 */display: inline-block !important;position: relative;}#sk-container-id-11 div.sk-text-repr-fallback {display: none;}</style><div id=\"sk-container-id-11\" class=\"sk-top-container\"><div class=\"sk-text-repr-fallback\"><pre>RandomForestClassifier(max_depth=50, n_estimators=200)</pre><b>In a Jupyter environment, please rerun this cell to show the HTML representation or trust the notebook. <br />On GitHub, the HTML representation is unable to render, please try loading this page with nbviewer.org.</b></div><div class=\"sk-container\" hidden><div class=\"sk-item\"><div class=\"sk-estimator sk-toggleable\"><input class=\"sk-toggleable__control sk-hidden--visually\" id=\"sk-estimator-id-11\" type=\"checkbox\" checked><label for=\"sk-estimator-id-11\" class=\"sk-toggleable__label sk-toggleable__label-arrow\">RandomForestClassifier</label><div class=\"sk-toggleable__content\"><pre>RandomForestClassifier(max_depth=50, n_estimators=200)</pre></div></div></div></div></div>"
            ]
          },
          "metadata": {},
          "execution_count": 137
        }
      ]
    },
    {
      "cell_type": "code",
      "source": [
        "accuracy_score(y_test,rf_final.predict(X_test_scaled))"
      ],
      "metadata": {
        "colab": {
          "base_uri": "https://localhost:8080/"
        },
        "id": "kF2u87STVeHV",
        "outputId": "c4d031ab-ea1d-47e8-aae2-5dac19cd7346"
      },
      "execution_count": 138,
      "outputs": [
        {
          "output_type": "execute_result",
          "data": {
            "text/plain": [
              "0.8368368368368369"
            ]
          },
          "metadata": {},
          "execution_count": 138
        }
      ]
    },
    {
      "cell_type": "code",
      "source": [
        "pca_30=PCA(n_components=30)\n",
        "pca_30.fit(X_train_scaled)\n",
        "X_pca_30_train=pca_30.transform(X_train_scaled)\n",
        "X_pca_30_test=pca_30.transform(X_test_scaled)\n",
        "X_pca_30_test.shape"
      ],
      "metadata": {
        "colab": {
          "base_uri": "https://localhost:8080/"
        },
        "id": "947pVTpxVigD",
        "outputId": "22626ae2-60df-481f-d287-a3d842c3a66b"
      },
      "execution_count": 139,
      "outputs": [
        {
          "output_type": "execute_result",
          "data": {
            "text/plain": [
              "(1998, 30)"
            ]
          },
          "metadata": {},
          "execution_count": 139
        }
      ]
    },
    {
      "cell_type": "code",
      "source": [
        "models=[]\n",
        "for n in n_estimators:\n",
        "  for max_depth in max_depths: \n",
        "    rf = RandomForestClassifier(n_estimators=n,max_depth=max_depth)\n",
        "    cv_scores = cross_val_score(rf, X_pca_30_train, y_train, cv=5)\n",
        "    # y_predict=knn.predict(X_test_scaled)\n",
        "    dictionary={'n_estimator':n,'max_depth':max_depth,'cross validation score':np.mean(cv_scores)}\n",
        "    models.append(dictionary)"
      ],
      "metadata": {
        "id": "hJCT7h9kVmDz"
      },
      "execution_count": 140,
      "outputs": []
    },
    {
      "cell_type": "code",
      "source": [
        "for model in models:\n",
        "  print(model)"
      ],
      "metadata": {
        "colab": {
          "base_uri": "https://localhost:8080/"
        },
        "id": "-dxL_BVCyuH6",
        "outputId": "274eb15f-676c-4996-8dce-6957d5168de9"
      },
      "execution_count": 141,
      "outputs": [
        {
          "output_type": "stream",
          "name": "stdout",
          "text": [
            "{'n_estimator': 5, 'max_depth': 10, 'cross validation score': 0.5390386356929902}\n",
            "{'n_estimator': 5, 'max_depth': 20, 'cross validation score': 0.5360365247052875}\n",
            "{'n_estimator': 5, 'max_depth': 50, 'cross validation score': 0.5376640281277175}\n",
            "{'n_estimator': 5, 'max_depth': 100, 'cross validation score': 0.5296542504271678}\n",
            "{'n_estimator': 10, 'max_depth': 10, 'cross validation score': 0.5903404114430091}\n",
            "{'n_estimator': 10, 'max_depth': 20, 'cross validation score': 0.6177462290652558}\n",
            "{'n_estimator': 10, 'max_depth': 50, 'cross validation score': 0.6118621541467172}\n",
            "{'n_estimator': 10, 'max_depth': 100, 'cross validation score': 0.6086110608867713}\n",
            "{'n_estimator': 20, 'max_depth': 10, 'cross validation score': 0.6411416396824986}\n",
            "{'n_estimator': 20, 'max_depth': 20, 'cross validation score': 0.671547063598103}\n",
            "{'n_estimator': 20, 'max_depth': 50, 'cross validation score': 0.6744222961628865}\n",
            "{'n_estimator': 20, 'max_depth': 100, 'cross validation score': 0.6712965941635926}\n",
            "{'n_estimator': 100, 'max_depth': 10, 'cross validation score': 0.6771772251274069}\n",
            "{'n_estimator': 100, 'max_depth': 20, 'cross validation score': 0.7381114291551117}\n",
            "{'n_estimator': 100, 'max_depth': 50, 'cross validation score': 0.7353593179717299}\n",
            "{'n_estimator': 100, 'max_depth': 100, 'cross validation score': 0.737736272905234}\n",
            "{'n_estimator': 150, 'max_depth': 10, 'cross validation score': 0.6828073083850124}\n",
            "{'n_estimator': 150, 'max_depth': 20, 'cross validation score': 0.7429918260865482}\n",
            "{'n_estimator': 150, 'max_depth': 50, 'cross validation score': 0.740740340685394}\n",
            "{'n_estimator': 150, 'max_depth': 100, 'cross validation score': 0.7456180763790886}\n",
            "{'n_estimator': 200, 'max_depth': 10, 'cross validation score': 0.6833074645370503}\n",
            "{'n_estimator': 200, 'max_depth': 20, 'cross validation score': 0.7457443286284215}\n",
            "{'n_estimator': 200, 'max_depth': 50, 'cross validation score': 0.745242920129211}\n",
            "{'n_estimator': 200, 'max_depth': 100, 'cross validation score': 0.7458692502588836}\n"
          ]
        }
      ]
    },
    {
      "cell_type": "code",
      "source": [
        "rf_final=RandomForestClassifier(n_estimators=200,max_depth=100)\n",
        "rf_final.fit( X_pca_30_train, y_train)"
      ],
      "metadata": {
        "colab": {
          "base_uri": "https://localhost:8080/",
          "height": 74
        },
        "id": "kgbvF0oIVnpi",
        "outputId": "55e40956-02f0-47c2-d6a4-72bb99fea469"
      },
      "execution_count": 142,
      "outputs": [
        {
          "output_type": "execute_result",
          "data": {
            "text/plain": [
              "RandomForestClassifier(max_depth=100, n_estimators=200)"
            ],
            "text/html": [
              "<style>#sk-container-id-12 {color: black;background-color: white;}#sk-container-id-12 pre{padding: 0;}#sk-container-id-12 div.sk-toggleable {background-color: white;}#sk-container-id-12 label.sk-toggleable__label {cursor: pointer;display: block;width: 100%;margin-bottom: 0;padding: 0.3em;box-sizing: border-box;text-align: center;}#sk-container-id-12 label.sk-toggleable__label-arrow:before {content: \"▸\";float: left;margin-right: 0.25em;color: #696969;}#sk-container-id-12 label.sk-toggleable__label-arrow:hover:before {color: black;}#sk-container-id-12 div.sk-estimator:hover label.sk-toggleable__label-arrow:before {color: black;}#sk-container-id-12 div.sk-toggleable__content {max-height: 0;max-width: 0;overflow: hidden;text-align: left;background-color: #f0f8ff;}#sk-container-id-12 div.sk-toggleable__content pre {margin: 0.2em;color: black;border-radius: 0.25em;background-color: #f0f8ff;}#sk-container-id-12 input.sk-toggleable__control:checked~div.sk-toggleable__content {max-height: 200px;max-width: 100%;overflow: auto;}#sk-container-id-12 input.sk-toggleable__control:checked~label.sk-toggleable__label-arrow:before {content: \"▾\";}#sk-container-id-12 div.sk-estimator input.sk-toggleable__control:checked~label.sk-toggleable__label {background-color: #d4ebff;}#sk-container-id-12 div.sk-label input.sk-toggleable__control:checked~label.sk-toggleable__label {background-color: #d4ebff;}#sk-container-id-12 input.sk-hidden--visually {border: 0;clip: rect(1px 1px 1px 1px);clip: rect(1px, 1px, 1px, 1px);height: 1px;margin: -1px;overflow: hidden;padding: 0;position: absolute;width: 1px;}#sk-container-id-12 div.sk-estimator {font-family: monospace;background-color: #f0f8ff;border: 1px dotted black;border-radius: 0.25em;box-sizing: border-box;margin-bottom: 0.5em;}#sk-container-id-12 div.sk-estimator:hover {background-color: #d4ebff;}#sk-container-id-12 div.sk-parallel-item::after {content: \"\";width: 100%;border-bottom: 1px solid gray;flex-grow: 1;}#sk-container-id-12 div.sk-label:hover label.sk-toggleable__label {background-color: #d4ebff;}#sk-container-id-12 div.sk-serial::before {content: \"\";position: absolute;border-left: 1px solid gray;box-sizing: border-box;top: 0;bottom: 0;left: 50%;z-index: 0;}#sk-container-id-12 div.sk-serial {display: flex;flex-direction: column;align-items: center;background-color: white;padding-right: 0.2em;padding-left: 0.2em;position: relative;}#sk-container-id-12 div.sk-item {position: relative;z-index: 1;}#sk-container-id-12 div.sk-parallel {display: flex;align-items: stretch;justify-content: center;background-color: white;position: relative;}#sk-container-id-12 div.sk-item::before, #sk-container-id-12 div.sk-parallel-item::before {content: \"\";position: absolute;border-left: 1px solid gray;box-sizing: border-box;top: 0;bottom: 0;left: 50%;z-index: -1;}#sk-container-id-12 div.sk-parallel-item {display: flex;flex-direction: column;z-index: 1;position: relative;background-color: white;}#sk-container-id-12 div.sk-parallel-item:first-child::after {align-self: flex-end;width: 50%;}#sk-container-id-12 div.sk-parallel-item:last-child::after {align-self: flex-start;width: 50%;}#sk-container-id-12 div.sk-parallel-item:only-child::after {width: 0;}#sk-container-id-12 div.sk-dashed-wrapped {border: 1px dashed gray;margin: 0 0.4em 0.5em 0.4em;box-sizing: border-box;padding-bottom: 0.4em;background-color: white;}#sk-container-id-12 div.sk-label label {font-family: monospace;font-weight: bold;display: inline-block;line-height: 1.2em;}#sk-container-id-12 div.sk-label-container {text-align: center;}#sk-container-id-12 div.sk-container {/* jupyter's `normalize.less` sets `[hidden] { display: none; }` but bootstrap.min.css set `[hidden] { display: none !important; }` so we also need the `!important` here to be able to override the default hidden behavior on the sphinx rendered scikit-learn.org. See: https://github.com/scikit-learn/scikit-learn/issues/21755 */display: inline-block !important;position: relative;}#sk-container-id-12 div.sk-text-repr-fallback {display: none;}</style><div id=\"sk-container-id-12\" class=\"sk-top-container\"><div class=\"sk-text-repr-fallback\"><pre>RandomForestClassifier(max_depth=100, n_estimators=200)</pre><b>In a Jupyter environment, please rerun this cell to show the HTML representation or trust the notebook. <br />On GitHub, the HTML representation is unable to render, please try loading this page with nbviewer.org.</b></div><div class=\"sk-container\" hidden><div class=\"sk-item\"><div class=\"sk-estimator sk-toggleable\"><input class=\"sk-toggleable__control sk-hidden--visually\" id=\"sk-estimator-id-12\" type=\"checkbox\" checked><label for=\"sk-estimator-id-12\" class=\"sk-toggleable__label sk-toggleable__label-arrow\">RandomForestClassifier</label><div class=\"sk-toggleable__content\"><pre>RandomForestClassifier(max_depth=100, n_estimators=200)</pre></div></div></div></div></div>"
            ]
          },
          "metadata": {},
          "execution_count": 142
        }
      ]
    },
    {
      "cell_type": "code",
      "source": [
        "accuracy_score(y_test,rf_final.predict(X_pca_30_test))"
      ],
      "metadata": {
        "colab": {
          "base_uri": "https://localhost:8080/"
        },
        "id": "1zUcIXNvVpZq",
        "outputId": "f01d06c3-7bc6-48d4-e7cb-e60bc46e9d76"
      },
      "execution_count": 143,
      "outputs": [
        {
          "output_type": "execute_result",
          "data": {
            "text/plain": [
              "0.7682682682682682"
            ]
          },
          "metadata": {},
          "execution_count": 143
        }
      ]
    },
    {
      "cell_type": "markdown",
      "source": [
        "# **Manifold Learning**"
      ],
      "metadata": {
        "id": "LIBL3O4h3ACs"
      }
    },
    {
      "cell_type": "code",
      "source": [
        "from sklearn.manifold import TSNE\n",
        "from sklearn.preprocessing import StandardScaler\n",
        "import matplotlib.pyplot as plt"
      ],
      "metadata": {
        "id": "rP-aKQje0PG0"
      },
      "execution_count": 30,
      "outputs": []
    },
    {
      "cell_type": "code",
      "source": [
        "#KNNs"
      ],
      "metadata": {
        "id": "Qgnl40_J5uEt"
      },
      "execution_count": 17,
      "outputs": []
    },
    {
      "cell_type": "code",
      "source": [
        "from sklearn.neighbors import KNeighborsClassifier\n",
        "from sklearn.metrics import accuracy_score\n",
        "from sklearn.model_selection import cross_val_score"
      ],
      "metadata": {
        "id": "6k8RN7DeYrZd"
      },
      "execution_count": 31,
      "outputs": []
    },
    {
      "cell_type": "code",
      "source": [
        "X=df.iloc[:,:-1]\n",
        "y=df.iloc[:,-1]\n",
        "from sklearn.preprocessing import OneHotEncoder\n",
        "ohe = OneHotEncoder()\n",
        "y=np.array(y)\n",
        "y_onehot = ohe.fit_transform(y.reshape(-1, 1)).toarray()\n",
        "X_train, X_test, y_train, y_test = train_test_split(X, y_onehot, test_size=0.2, random_state=42)\n",
        "sc.fit(X_train)\n",
        "X_train_scaled=sc.transform(X_train)\n",
        "X_test_scaled=sc.transform(X_test)\n",
        "components=[1,2,3]\n",
        "models=[]\n",
        "for i in components:\n",
        "  # print(i)\n",
        "  tsne = TSNE(n_components=i)\n",
        "  X_train_embedded=tsne.fit_transform(X_train_scaled)\n",
        "  knn = KNeighborsClassifier(n_neighbors=3)\n",
        "  # knn.fit(X_train_scaled,y_train)\n",
        "  print(X_train_embedded)\n",
        "  cv_scores = cross_val_score(knn, X_train_embedded, y_train, cv=5)\n",
        "  # y_predict=knn.predict(X_test_scaled)\n",
        "  dictionary={'n_components':i,'cross validation score':np.mean(cv_scores)}\n",
        "  models.append(dictionary)"
      ],
      "metadata": {
        "colab": {
          "base_uri": "https://localhost:8080/"
        },
        "id": "e7Q7hR3F6uzm",
        "outputId": "283df472-4075-49f6-8662-67abb9de2502"
      },
      "execution_count": 51,
      "outputs": [
        {
          "output_type": "stream",
          "name": "stdout",
          "text": [
            "[[-40.510757]\n",
            " [ 33.06012 ]\n",
            " [ 32.26124 ]\n",
            " ...\n",
            " [ 44.87145 ]\n",
            " [-49.501144]\n",
            " [-46.99458 ]]\n",
            "[[-61.29652   -13.758401 ]\n",
            " [ 38.695362  -16.107485 ]\n",
            " [ 57.60864    10.099948 ]\n",
            " ...\n",
            " [ 77.61945   -19.322126 ]\n",
            " [-48.56953     2.7782357]\n",
            " [-20.609234   58.32491  ]]\n",
            "[[-17.775404   -4.2558513 -19.069544 ]\n",
            " [ 29.789       5.613508    4.3351374]\n",
            " [ 17.693563   -1.1085236  15.7874775]\n",
            " ...\n",
            " [ 25.399502  -11.999009   14.149832 ]\n",
            " [ -9.945247   15.596409  -12.384148 ]\n",
            " [-20.419657    3.8684373   6.584128 ]]\n"
          ]
        }
      ]
    },
    {
      "cell_type": "code",
      "source": [
        "for i in models:\n",
        "  print(i)"
      ],
      "metadata": {
        "colab": {
          "base_uri": "https://localhost:8080/"
        },
        "id": "OfGCPzzFAy93",
        "outputId": "d100bf0e-3b4d-420d-da8f-dddaa3cbc4e8"
      },
      "execution_count": 53,
      "outputs": [
        {
          "output_type": "stream",
          "name": "stdout",
          "text": [
            "{'n_components': 1, 'cross validation score': 0.5974717458737118}\n",
            "{'n_components': 2, 'cross validation score': 0.8363355225927345}\n",
            "{'n_components': 3, 'cross validation score': 0.8435926396425801}\n"
          ]
        }
      ]
    },
    {
      "cell_type": "code",
      "source": [],
      "metadata": {
        "id": "_COwDlQqjqRG"
      },
      "execution_count": null,
      "outputs": []
    },
    {
      "cell_type": "code",
      "source": [
        "X=df.iloc[:,:-1]\n",
        "y=df.iloc[:,-1]\n",
        "from sklearn.preprocessing import OneHotEncoder\n",
        "# ohe = OneHotEncoder()\n",
        "# y_onehot = ohe.fit_transform(y.reshape(-1, 1)).toarray()\n",
        "X_train, X_test, y_train, y_test = train_test_split(X, y, test_size=0.2, random_state=42)\n",
        "sc.fit(X_train)\n",
        "X_train_scaled=sc.transform(X_train)\n",
        "X_test_scaled=sc.transform(X_test)\n",
        "components=[1,2,3]\n",
        "models=[]\n",
        "for i in components:\n",
        "  # print(i)\n",
        "  tsne = TSNE(n_components=i)\n",
        "  X_train_embedded=tsne.fit_transform(X_train_scaled)\n",
        "  svc = SVC(C=10,kernel='rbf')\n",
        "  # knn.fit(X_train_scaled,y_train)\n",
        "  # print(X_train_embedded)\n",
        "  cv_scores = cross_val_score(svc, X_train_embedded, y_train, cv=5)\n",
        "  # y_predict=knn.predict(X_test_scaled)\n",
        "  dictionary={'n_components':i,'cross validation score':np.mean(cv_scores)}\n",
        "  models.append(dictionary)"
      ],
      "metadata": {
        "id": "hI9rWDFjggPp"
      },
      "execution_count": 58,
      "outputs": []
    },
    {
      "cell_type": "code",
      "source": [
        "for i in models:\n",
        "  print(i)"
      ],
      "metadata": {
        "colab": {
          "base_uri": "https://localhost:8080/"
        },
        "id": "F-xivAP5mfMs",
        "outputId": "81c4a1a3-52f6-4200-e9d4-f750534d052a"
      },
      "execution_count": 59,
      "outputs": [
        {
          "output_type": "stream",
          "name": "stdout",
          "text": [
            "{'n_components': 1, 'cross validation score': 0.4398155605701623}\n",
            "{'n_components': 2, 'cross validation score': 0.5815813387747818}\n",
            "{'n_components': 3, 'cross validation score': 0.6435168726386407}\n"
          ]
        }
      ]
    },
    {
      "cell_type": "code",
      "source": [
        "from sklearn.ensemble import RandomForestClassifier"
      ],
      "metadata": {
        "id": "Gx7MPJ-dnT61"
      },
      "execution_count": 60,
      "outputs": []
    },
    {
      "cell_type": "code",
      "source": [
        "X=df.iloc[:,:-1]\n",
        "y=df.iloc[:,-1]\n",
        "from sklearn.preprocessing import OneHotEncoder\n",
        "# ohe = OneHotEncoder()\n",
        "# y_onehot = ohe.fit_transform(y.reshape(-1, 1)).toarray()\n",
        "X_train, X_test, y_train, y_test = train_test_split(X, y, test_size=0.2, random_state=42)\n",
        "sc.fit(X_train)\n",
        "X_train_scaled=sc.transform(X_train)\n",
        "X_test_scaled=sc.transform(X_test)\n",
        "components=[1,2,3]\n",
        "models=[]\n",
        "for i in components:\n",
        "  # print(i)\n",
        "  tsne = TSNE(n_components=i)\n",
        "  X_train_embedded=tsne.fit_transform(X_train_scaled)\n",
        "  rf = RandomForestClassifier(n_estimators=200,max_depth=50)\n",
        "  cv_scores = cross_val_score(rf, X_train_embedded, y_train, cv=5)\n",
        "  # y_predict=knn.predict(X_test_scaled)\n",
        "  dictionary={'n_components':i,'cross validation score':np.mean(cv_scores)}\n",
        "  models.append(dictionary)"
      ],
      "metadata": {
        "id": "qqoPeHQBnObc"
      },
      "execution_count": 62,
      "outputs": []
    },
    {
      "cell_type": "code",
      "source": [
        "for i in models:\n",
        "  print(i)"
      ],
      "metadata": {
        "colab": {
          "base_uri": "https://localhost:8080/"
        },
        "id": "hsMl03HFoiM3",
        "outputId": "443159ab-741a-45cc-8d66-af740aaa20fb"
      },
      "execution_count": 63,
      "outputs": [
        {
          "output_type": "stream",
          "name": "stdout",
          "text": [
            "{'n_components': 1, 'cross validation score': 0.5920915841487288}\n",
            "{'n_components': 2, 'cross validation score': 0.8667408682366403}\n",
            "{'n_components': 3, 'cross validation score': 0.868115710617008}\n"
          ]
        }
      ]
    },
    {
      "cell_type": "code",
      "source": [],
      "metadata": {
        "id": "-fNKUTCMpSBX"
      },
      "execution_count": null,
      "outputs": []
    }
  ],
  "metadata": {
    "accelerator": "GPU",
    "colab": {
      "provenance": []
    },
    "gpuClass": "standard",
    "kernelspec": {
      "display_name": "Python 3",
      "name": "python3"
    },
    "language_info": {
      "name": "python"
    }
  },
  "nbformat": 4,
  "nbformat_minor": 0
}